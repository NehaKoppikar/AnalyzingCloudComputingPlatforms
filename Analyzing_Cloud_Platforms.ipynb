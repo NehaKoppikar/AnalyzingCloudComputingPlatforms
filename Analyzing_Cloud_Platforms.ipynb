{
  "nbformat": 4,
  "nbformat_minor": 0,
  "metadata": {
    "colab": {
      "name": "Analyzing_Cloud_Platforms.ipynb",
      "provenance": [],
      "authorship_tag": "ABX9TyNsHFtJO5gi+3ixelyMtCER",
      "include_colab_link": true
    },
    "kernelspec": {
      "name": "python3",
      "display_name": "Python 3"
    }
  },
  "cells": [
    {
      "cell_type": "markdown",
      "metadata": {
        "id": "view-in-github",
        "colab_type": "text"
      },
      "source": [
        "<a href=\"https://colab.research.google.com/github/NehaKoppikar/AnalyzingCloudComputingPlatforms/blob/main/Analyzing_Cloud_Platforms.ipynb\" target=\"_parent\"><img src=\"https://colab.research.google.com/assets/colab-badge.svg\" alt=\"Open In Colab\"/></a>"
      ]
    },
    {
      "cell_type": "code",
      "metadata": {
        "id": "zQ8MCwV7fGWr"
      },
      "source": [
        "import pandas_datareader as data\r\n",
        "import pandas as pd\r\n",
        "import datetime\r\n",
        "import matplotlib.pyplot as plt\r\n",
        "import seaborn as sns\r\n",
        "import plotly.express as px"
      ],
      "execution_count": null,
      "outputs": []
    },
    {
      "cell_type": "markdown",
      "metadata": {
        "id": "d8cQJuCmkzUo"
      },
      "source": [
        "### Reference\r\n",
        "1. Python Financial Analysis by [Keith Chan]( https://www.linkedin.com/in/keith-chan-79a214121/). [Link to the first part](https://medium.com/analytics-vidhya/beginners-python-financial-analysis-walk-through-part-1-cbc89be80fbe)"
      ]
    },
    {
      "cell_type": "code",
      "metadata": {
        "id": "3hSA5k6Heo0r"
      },
      "source": [
        "# Set the start and end dates for your analysis. The end date is set to current day by default\r\n",
        "start_date = '2018-01-01'\r\n",
        "end_date = datetime.date.today().strftime('%Y-%m-%d')\r\n",
        "# List the ticker symbols you are interested in (as strings) \r\n",
        "tickers = [\"CRM\", \"AMZN\", \"MSFT\", \"GOOGL\", \"IBM\"] # Salesforce, Amazon, Microsoft, Google, IBM\r\n",
        "# I want to store each df separately to do Bollinger band plots later on\r\n",
        "each_df = {}\r\n",
        "for ticker in tickers:\r\n",
        "    each_df[ticker] = data.DataReader(ticker, 'yahoo', start_date, end_date)\r\n",
        "# Concatenate dataframes for each ticker together to create a single dataframe called stocks\r\n",
        "stocks = pd.concat(each_df, axis=1, keys = tickers)\r\n",
        "# Set names for the multi-index \r\n",
        "stocks.columns.names = ['Ticker Symbol','Stock Info']"
      ],
      "execution_count": null,
      "outputs": []
    },
    {
      "cell_type": "code",
      "metadata": {
        "colab": {
          "base_uri": "https://localhost:8080/",
          "height": 392
        },
        "id": "Xy0FPpuOfEYk",
        "outputId": "61fe222a-9f1c-4193-d29c-6b2051f1604a"
      },
      "source": [
        "stocks.head()"
      ],
      "execution_count": null,
      "outputs": [
        {
          "output_type": "execute_result",
          "data": {
            "text/html": [
              "<div>\n",
              "<style scoped>\n",
              "    .dataframe tbody tr th:only-of-type {\n",
              "        vertical-align: middle;\n",
              "    }\n",
              "\n",
              "    .dataframe tbody tr th {\n",
              "        vertical-align: top;\n",
              "    }\n",
              "\n",
              "    .dataframe thead tr th {\n",
              "        text-align: left;\n",
              "    }\n",
              "\n",
              "    .dataframe thead tr:last-of-type th {\n",
              "        text-align: right;\n",
              "    }\n",
              "</style>\n",
              "<table border=\"1\" class=\"dataframe\">\n",
              "  <thead>\n",
              "    <tr>\n",
              "      <th>Ticker Symbol</th>\n",
              "      <th colspan=\"6\" halign=\"left\">CRM</th>\n",
              "      <th colspan=\"6\" halign=\"left\">AMZN</th>\n",
              "      <th colspan=\"6\" halign=\"left\">MSFT</th>\n",
              "      <th colspan=\"6\" halign=\"left\">GOOGL</th>\n",
              "      <th colspan=\"6\" halign=\"left\">IBM</th>\n",
              "    </tr>\n",
              "    <tr>\n",
              "      <th>Stock Info</th>\n",
              "      <th>High</th>\n",
              "      <th>Low</th>\n",
              "      <th>Open</th>\n",
              "      <th>Close</th>\n",
              "      <th>Volume</th>\n",
              "      <th>Adj Close</th>\n",
              "      <th>High</th>\n",
              "      <th>Low</th>\n",
              "      <th>Open</th>\n",
              "      <th>Close</th>\n",
              "      <th>Volume</th>\n",
              "      <th>Adj Close</th>\n",
              "      <th>High</th>\n",
              "      <th>Low</th>\n",
              "      <th>Open</th>\n",
              "      <th>Close</th>\n",
              "      <th>Volume</th>\n",
              "      <th>Adj Close</th>\n",
              "      <th>High</th>\n",
              "      <th>Low</th>\n",
              "      <th>Open</th>\n",
              "      <th>Close</th>\n",
              "      <th>Volume</th>\n",
              "      <th>Adj Close</th>\n",
              "      <th>High</th>\n",
              "      <th>Low</th>\n",
              "      <th>Open</th>\n",
              "      <th>Close</th>\n",
              "      <th>Volume</th>\n",
              "      <th>Adj Close</th>\n",
              "    </tr>\n",
              "    <tr>\n",
              "      <th>Date</th>\n",
              "      <th></th>\n",
              "      <th></th>\n",
              "      <th></th>\n",
              "      <th></th>\n",
              "      <th></th>\n",
              "      <th></th>\n",
              "      <th></th>\n",
              "      <th></th>\n",
              "      <th></th>\n",
              "      <th></th>\n",
              "      <th></th>\n",
              "      <th></th>\n",
              "      <th></th>\n",
              "      <th></th>\n",
              "      <th></th>\n",
              "      <th></th>\n",
              "      <th></th>\n",
              "      <th></th>\n",
              "      <th></th>\n",
              "      <th></th>\n",
              "      <th></th>\n",
              "      <th></th>\n",
              "      <th></th>\n",
              "      <th></th>\n",
              "      <th></th>\n",
              "      <th></th>\n",
              "      <th></th>\n",
              "      <th></th>\n",
              "      <th></th>\n",
              "      <th></th>\n",
              "    </tr>\n",
              "  </thead>\n",
              "  <tbody>\n",
              "    <tr>\n",
              "      <th>2018-01-02</th>\n",
              "      <td>104.699997</td>\n",
              "      <td>102.269997</td>\n",
              "      <td>102.879997</td>\n",
              "      <td>104.410004</td>\n",
              "      <td>4669200</td>\n",
              "      <td>104.410004</td>\n",
              "      <td>1190.000000</td>\n",
              "      <td>1170.510010</td>\n",
              "      <td>1172.000000</td>\n",
              "      <td>1189.010010</td>\n",
              "      <td>2694500</td>\n",
              "      <td>1189.010010</td>\n",
              "      <td>86.309998</td>\n",
              "      <td>85.500000</td>\n",
              "      <td>86.129997</td>\n",
              "      <td>85.949997</td>\n",
              "      <td>22483800.0</td>\n",
              "      <td>82.383636</td>\n",
              "      <td>1075.979980</td>\n",
              "      <td>1053.020020</td>\n",
              "      <td>1053.020020</td>\n",
              "      <td>1073.209961</td>\n",
              "      <td>1588300</td>\n",
              "      <td>1073.209961</td>\n",
              "      <td>154.809998</td>\n",
              "      <td>153.539993</td>\n",
              "      <td>154.500000</td>\n",
              "      <td>154.250000</td>\n",
              "      <td>4202500.0</td>\n",
              "      <td>133.803574</td>\n",
              "    </tr>\n",
              "    <tr>\n",
              "      <th>2018-01-03</th>\n",
              "      <td>106.139999</td>\n",
              "      <td>104.620003</td>\n",
              "      <td>104.900002</td>\n",
              "      <td>105.290001</td>\n",
              "      <td>3888700</td>\n",
              "      <td>105.290001</td>\n",
              "      <td>1205.489990</td>\n",
              "      <td>1188.300049</td>\n",
              "      <td>1188.300049</td>\n",
              "      <td>1204.199951</td>\n",
              "      <td>3108800</td>\n",
              "      <td>1204.199951</td>\n",
              "      <td>86.510002</td>\n",
              "      <td>85.970001</td>\n",
              "      <td>86.059998</td>\n",
              "      <td>86.349998</td>\n",
              "      <td>26061400.0</td>\n",
              "      <td>82.767044</td>\n",
              "      <td>1096.099976</td>\n",
              "      <td>1073.430054</td>\n",
              "      <td>1073.930054</td>\n",
              "      <td>1091.520020</td>\n",
              "      <td>1565900</td>\n",
              "      <td>1091.520020</td>\n",
              "      <td>159.809998</td>\n",
              "      <td>156.330002</td>\n",
              "      <td>157.339996</td>\n",
              "      <td>158.490005</td>\n",
              "      <td>9441600.0</td>\n",
              "      <td>137.481537</td>\n",
              "    </tr>\n",
              "    <tr>\n",
              "      <th>2018-01-04</th>\n",
              "      <td>107.660004</td>\n",
              "      <td>105.769997</td>\n",
              "      <td>106.000000</td>\n",
              "      <td>106.680000</td>\n",
              "      <td>4540200</td>\n",
              "      <td>106.680000</td>\n",
              "      <td>1215.869995</td>\n",
              "      <td>1204.660034</td>\n",
              "      <td>1205.000000</td>\n",
              "      <td>1209.589966</td>\n",
              "      <td>3022100</td>\n",
              "      <td>1209.589966</td>\n",
              "      <td>87.660004</td>\n",
              "      <td>86.570000</td>\n",
              "      <td>86.589996</td>\n",
              "      <td>87.110001</td>\n",
              "      <td>21912000.0</td>\n",
              "      <td>83.495522</td>\n",
              "      <td>1104.079956</td>\n",
              "      <td>1094.260010</td>\n",
              "      <td>1097.089966</td>\n",
              "      <td>1095.760010</td>\n",
              "      <td>1302600</td>\n",
              "      <td>1095.760010</td>\n",
              "      <td>162.320007</td>\n",
              "      <td>159.369995</td>\n",
              "      <td>159.649994</td>\n",
              "      <td>161.699997</td>\n",
              "      <td>7556200.0</td>\n",
              "      <td>140.266037</td>\n",
              "    </tr>\n",
              "    <tr>\n",
              "      <th>2018-01-05</th>\n",
              "      <td>108.300003</td>\n",
              "      <td>107.199997</td>\n",
              "      <td>107.760002</td>\n",
              "      <td>108.099998</td>\n",
              "      <td>3368400</td>\n",
              "      <td>108.099998</td>\n",
              "      <td>1229.140015</td>\n",
              "      <td>1210.000000</td>\n",
              "      <td>1217.510010</td>\n",
              "      <td>1229.140015</td>\n",
              "      <td>3544700</td>\n",
              "      <td>1229.140015</td>\n",
              "      <td>88.410004</td>\n",
              "      <td>87.430000</td>\n",
              "      <td>87.660004</td>\n",
              "      <td>88.190002</td>\n",
              "      <td>23407100.0</td>\n",
              "      <td>84.530701</td>\n",
              "      <td>1113.579956</td>\n",
              "      <td>1101.800049</td>\n",
              "      <td>1103.449951</td>\n",
              "      <td>1110.290039</td>\n",
              "      <td>1512500</td>\n",
              "      <td>1110.290039</td>\n",
              "      <td>162.899994</td>\n",
              "      <td>161.100006</td>\n",
              "      <td>162.440002</td>\n",
              "      <td>162.490005</td>\n",
              "      <td>5195800.0</td>\n",
              "      <td>140.951324</td>\n",
              "    </tr>\n",
              "    <tr>\n",
              "      <th>2018-01-08</th>\n",
              "      <td>109.139999</td>\n",
              "      <td>107.570000</td>\n",
              "      <td>108.000000</td>\n",
              "      <td>108.860001</td>\n",
              "      <td>2933600</td>\n",
              "      <td>108.860001</td>\n",
              "      <td>1253.079956</td>\n",
              "      <td>1232.030029</td>\n",
              "      <td>1236.000000</td>\n",
              "      <td>1246.869995</td>\n",
              "      <td>4279500</td>\n",
              "      <td>1246.869995</td>\n",
              "      <td>88.580002</td>\n",
              "      <td>87.599998</td>\n",
              "      <td>88.199997</td>\n",
              "      <td>88.279999</td>\n",
              "      <td>22113000.0</td>\n",
              "      <td>84.616966</td>\n",
              "      <td>1119.160034</td>\n",
              "      <td>1110.000000</td>\n",
              "      <td>1111.000000</td>\n",
              "      <td>1114.209961</td>\n",
              "      <td>1232200</td>\n",
              "      <td>1114.209961</td>\n",
              "      <td>163.910004</td>\n",
              "      <td>161.699997</td>\n",
              "      <td>162.660004</td>\n",
              "      <td>163.470001</td>\n",
              "      <td>5237500.0</td>\n",
              "      <td>141.801422</td>\n",
              "    </tr>\n",
              "  </tbody>\n",
              "</table>\n",
              "</div>"
            ],
            "text/plain": [
              "Ticker Symbol         CRM              ...        IBM            \n",
              "Stock Info           High         Low  ...     Volume   Adj Close\n",
              "Date                                   ...                       \n",
              "2018-01-02     104.699997  102.269997  ...  4202500.0  133.803574\n",
              "2018-01-03     106.139999  104.620003  ...  9441600.0  137.481537\n",
              "2018-01-04     107.660004  105.769997  ...  7556200.0  140.266037\n",
              "2018-01-05     108.300003  107.199997  ...  5195800.0  140.951324\n",
              "2018-01-08     109.139999  107.570000  ...  5237500.0  141.801422\n",
              "\n",
              "[5 rows x 30 columns]"
            ]
          },
          "metadata": {
            "tags": []
          },
          "execution_count": 29
        }
      ]
    },
    {
      "cell_type": "code",
      "metadata": {
        "colab": {
          "base_uri": "https://localhost:8080/"
        },
        "id": "XaXPgx54fcGv",
        "outputId": "d29dc94d-f464-4907-a1cd-dcc0bfd37eae"
      },
      "source": [
        "stocks.shape"
      ],
      "execution_count": null,
      "outputs": [
        {
          "output_type": "execute_result",
          "data": {
            "text/plain": [
              "(780, 30)"
            ]
          },
          "metadata": {
            "tags": []
          },
          "execution_count": 30
        }
      ]
    },
    {
      "cell_type": "code",
      "metadata": {
        "colab": {
          "base_uri": "https://localhost:8080/"
        },
        "id": "t652OyuUfsaY",
        "outputId": "303a96fb-edef-45dc-a849-df84e2b75c53"
      },
      "source": [
        "stocks.info()"
      ],
      "execution_count": null,
      "outputs": [
        {
          "output_type": "stream",
          "text": [
            "<class 'pandas.core.frame.DataFrame'>\n",
            "DatetimeIndex: 780 entries, 2018-01-02 to 2021-02-05\n",
            "Data columns (total 30 columns):\n",
            " #   Column              Non-Null Count  Dtype  \n",
            "---  ------              --------------  -----  \n",
            " 0   (CRM, High)         780 non-null    float64\n",
            " 1   (CRM, Low)          780 non-null    float64\n",
            " 2   (CRM, Open)         780 non-null    float64\n",
            " 3   (CRM, Close)        780 non-null    float64\n",
            " 4   (CRM, Volume)       780 non-null    int64  \n",
            " 5   (CRM, Adj Close)    780 non-null    float64\n",
            " 6   (AMZN, High)        780 non-null    float64\n",
            " 7   (AMZN, Low)         780 non-null    float64\n",
            " 8   (AMZN, Open)        780 non-null    float64\n",
            " 9   (AMZN, Close)       780 non-null    float64\n",
            " 10  (AMZN, Volume)      780 non-null    int64  \n",
            " 11  (AMZN, Adj Close)   780 non-null    float64\n",
            " 12  (MSFT, High)        780 non-null    float64\n",
            " 13  (MSFT, Low)         780 non-null    float64\n",
            " 14  (MSFT, Open)        780 non-null    float64\n",
            " 15  (MSFT, Close)       780 non-null    float64\n",
            " 16  (MSFT, Volume)      780 non-null    float64\n",
            " 17  (MSFT, Adj Close)   780 non-null    float64\n",
            " 18  (GOOGL, High)       780 non-null    float64\n",
            " 19  (GOOGL, Low)        780 non-null    float64\n",
            " 20  (GOOGL, Open)       780 non-null    float64\n",
            " 21  (GOOGL, Close)      780 non-null    float64\n",
            " 22  (GOOGL, Volume)     780 non-null    int64  \n",
            " 23  (GOOGL, Adj Close)  780 non-null    float64\n",
            " 24  (IBM, High)         780 non-null    float64\n",
            " 25  (IBM, Low)          780 non-null    float64\n",
            " 26  (IBM, Open)         780 non-null    float64\n",
            " 27  (IBM, Close)        780 non-null    float64\n",
            " 28  (IBM, Volume)       780 non-null    float64\n",
            " 29  (IBM, Adj Close)    780 non-null    float64\n",
            "dtypes: float64(27), int64(3)\n",
            "memory usage: 188.9 KB\n"
          ],
          "name": "stdout"
        }
      ]
    },
    {
      "cell_type": "code",
      "metadata": {
        "colab": {
          "base_uri": "https://localhost:8080/",
          "height": 658
        },
        "id": "74_Zs0m6fwsO",
        "outputId": "ea2864f8-b764-467a-b3ee-6f7b62aa77bd"
      },
      "source": [
        "stocks.describe().transpose().style.format(\"{:.2f}\")"
      ],
      "execution_count": null,
      "outputs": [
        {
          "output_type": "execute_result",
          "data": {
            "text/html": [
              "<style  type=\"text/css\" >\n",
              "</style><table id=\"T_97398ab8_68cd_11eb_8a83_0242ac1c0002\" ><thead>    <tr>        <th class=\"blank\" ></th>        <th class=\"blank level0\" ></th>        <th class=\"col_heading level0 col0\" >count</th>        <th class=\"col_heading level0 col1\" >mean</th>        <th class=\"col_heading level0 col2\" >std</th>        <th class=\"col_heading level0 col3\" >min</th>        <th class=\"col_heading level0 col4\" >25%</th>        <th class=\"col_heading level0 col5\" >50%</th>        <th class=\"col_heading level0 col6\" >75%</th>        <th class=\"col_heading level0 col7\" >max</th>    </tr>    <tr>        <th class=\"index_name level0\" >Ticker Symbol</th>        <th class=\"index_name level1\" >Stock Info</th>        <th class=\"blank\" ></th>        <th class=\"blank\" ></th>        <th class=\"blank\" ></th>        <th class=\"blank\" ></th>        <th class=\"blank\" ></th>        <th class=\"blank\" ></th>        <th class=\"blank\" ></th>        <th class=\"blank\" ></th>    </tr></thead><tbody>\n",
              "                <tr>\n",
              "                        <th id=\"T_97398ab8_68cd_11eb_8a83_0242ac1c0002level0_row0\" class=\"row_heading level0 row0\" rowspan=6>CRM</th>\n",
              "                        <th id=\"T_97398ab8_68cd_11eb_8a83_0242ac1c0002level1_row0\" class=\"row_heading level1 row0\" >High</th>\n",
              "                        <td id=\"T_97398ab8_68cd_11eb_8a83_0242ac1c0002row0_col0\" class=\"data row0 col0\" >780.00</td>\n",
              "                        <td id=\"T_97398ab8_68cd_11eb_8a83_0242ac1c0002row0_col1\" class=\"data row0 col1\" >166.79</td>\n",
              "                        <td id=\"T_97398ab8_68cd_11eb_8a83_0242ac1c0002row0_col2\" class=\"data row0 col2\" >38.62</td>\n",
              "                        <td id=\"T_97398ab8_68cd_11eb_8a83_0242ac1c0002row0_col3\" class=\"data row0 col3\" >104.70</td>\n",
              "                        <td id=\"T_97398ab8_68cd_11eb_8a83_0242ac1c0002row0_col4\" class=\"data row0 col4\" >143.70</td>\n",
              "                        <td id=\"T_97398ab8_68cd_11eb_8a83_0242ac1c0002row0_col5\" class=\"data row0 col5\" >157.86</td>\n",
              "                        <td id=\"T_97398ab8_68cd_11eb_8a83_0242ac1c0002row0_col6\" class=\"data row0 col6\" >182.54</td>\n",
              "                        <td id=\"T_97398ab8_68cd_11eb_8a83_0242ac1c0002row0_col7\" class=\"data row0 col7\" >284.50</td>\n",
              "            </tr>\n",
              "            <tr>\n",
              "                                <th id=\"T_97398ab8_68cd_11eb_8a83_0242ac1c0002level1_row1\" class=\"row_heading level1 row1\" >Low</th>\n",
              "                        <td id=\"T_97398ab8_68cd_11eb_8a83_0242ac1c0002row1_col0\" class=\"data row1 col0\" >780.00</td>\n",
              "                        <td id=\"T_97398ab8_68cd_11eb_8a83_0242ac1c0002row1_col1\" class=\"data row1 col1\" >162.33</td>\n",
              "                        <td id=\"T_97398ab8_68cd_11eb_8a83_0242ac1c0002row1_col2\" class=\"data row1 col2\" >37.40</td>\n",
              "                        <td id=\"T_97398ab8_68cd_11eb_8a83_0242ac1c0002row1_col3\" class=\"data row1 col3\" >102.27</td>\n",
              "                        <td id=\"T_97398ab8_68cd_11eb_8a83_0242ac1c0002row1_col4\" class=\"data row1 col4\" >139.16</td>\n",
              "                        <td id=\"T_97398ab8_68cd_11eb_8a83_0242ac1c0002row1_col5\" class=\"data row1 col5\" >154.08</td>\n",
              "                        <td id=\"T_97398ab8_68cd_11eb_8a83_0242ac1c0002row1_col6\" class=\"data row1 col6\" >177.15</td>\n",
              "                        <td id=\"T_97398ab8_68cd_11eb_8a83_0242ac1c0002row1_col7\" class=\"data row1 col7\" >270.58</td>\n",
              "            </tr>\n",
              "            <tr>\n",
              "                                <th id=\"T_97398ab8_68cd_11eb_8a83_0242ac1c0002level1_row2\" class=\"row_heading level1 row2\" >Open</th>\n",
              "                        <td id=\"T_97398ab8_68cd_11eb_8a83_0242ac1c0002row2_col0\" class=\"data row2 col0\" >780.00</td>\n",
              "                        <td id=\"T_97398ab8_68cd_11eb_8a83_0242ac1c0002row2_col1\" class=\"data row2 col1\" >164.72</td>\n",
              "                        <td id=\"T_97398ab8_68cd_11eb_8a83_0242ac1c0002row2_col2\" class=\"data row2 col2\" >38.15</td>\n",
              "                        <td id=\"T_97398ab8_68cd_11eb_8a83_0242ac1c0002row2_col3\" class=\"data row2 col3\" >102.88</td>\n",
              "                        <td id=\"T_97398ab8_68cd_11eb_8a83_0242ac1c0002row2_col4\" class=\"data row2 col4\" >141.46</td>\n",
              "                        <td id=\"T_97398ab8_68cd_11eb_8a83_0242ac1c0002row2_col5\" class=\"data row2 col5\" >155.76</td>\n",
              "                        <td id=\"T_97398ab8_68cd_11eb_8a83_0242ac1c0002row2_col6\" class=\"data row2 col6\" >179.09</td>\n",
              "                        <td id=\"T_97398ab8_68cd_11eb_8a83_0242ac1c0002row2_col7\" class=\"data row2 col7\" >283.47</td>\n",
              "            </tr>\n",
              "            <tr>\n",
              "                                <th id=\"T_97398ab8_68cd_11eb_8a83_0242ac1c0002level1_row3\" class=\"row_heading level1 row3\" >Close</th>\n",
              "                        <td id=\"T_97398ab8_68cd_11eb_8a83_0242ac1c0002row3_col0\" class=\"data row3 col0\" >780.00</td>\n",
              "                        <td id=\"T_97398ab8_68cd_11eb_8a83_0242ac1c0002row3_col1\" class=\"data row3 col1\" >164.69</td>\n",
              "                        <td id=\"T_97398ab8_68cd_11eb_8a83_0242ac1c0002row3_col2\" class=\"data row3 col2\" >37.99</td>\n",
              "                        <td id=\"T_97398ab8_68cd_11eb_8a83_0242ac1c0002row3_col3\" class=\"data row3 col3\" >104.03</td>\n",
              "                        <td id=\"T_97398ab8_68cd_11eb_8a83_0242ac1c0002row3_col4\" class=\"data row3 col4\" >141.73</td>\n",
              "                        <td id=\"T_97398ab8_68cd_11eb_8a83_0242ac1c0002row3_col5\" class=\"data row3 col5\" >155.82</td>\n",
              "                        <td id=\"T_97398ab8_68cd_11eb_8a83_0242ac1c0002row3_col6\" class=\"data row3 col6\" >180.54</td>\n",
              "                        <td id=\"T_97398ab8_68cd_11eb_8a83_0242ac1c0002row3_col7\" class=\"data row3 col7\" >281.25</td>\n",
              "            </tr>\n",
              "            <tr>\n",
              "                                <th id=\"T_97398ab8_68cd_11eb_8a83_0242ac1c0002level1_row4\" class=\"row_heading level1 row4\" >Volume</th>\n",
              "                        <td id=\"T_97398ab8_68cd_11eb_8a83_0242ac1c0002row4_col0\" class=\"data row4 col0\" >780.00</td>\n",
              "                        <td id=\"T_97398ab8_68cd_11eb_8a83_0242ac1c0002row4_col1\" class=\"data row4 col1\" >6372505.64</td>\n",
              "                        <td id=\"T_97398ab8_68cd_11eb_8a83_0242ac1c0002row4_col2\" class=\"data row4 col2\" >4424278.47</td>\n",
              "                        <td id=\"T_97398ab8_68cd_11eb_8a83_0242ac1c0002row4_col3\" class=\"data row4 col3\" >1238000.00</td>\n",
              "                        <td id=\"T_97398ab8_68cd_11eb_8a83_0242ac1c0002row4_col4\" class=\"data row4 col4\" >4162675.00</td>\n",
              "                        <td id=\"T_97398ab8_68cd_11eb_8a83_0242ac1c0002row4_col5\" class=\"data row4 col5\" >5273200.00</td>\n",
              "                        <td id=\"T_97398ab8_68cd_11eb_8a83_0242ac1c0002row4_col6\" class=\"data row4 col6\" >7099350.00</td>\n",
              "                        <td id=\"T_97398ab8_68cd_11eb_8a83_0242ac1c0002row4_col7\" class=\"data row4 col7\" >63253400.00</td>\n",
              "            </tr>\n",
              "            <tr>\n",
              "                                <th id=\"T_97398ab8_68cd_11eb_8a83_0242ac1c0002level1_row5\" class=\"row_heading level1 row5\" >Adj Close</th>\n",
              "                        <td id=\"T_97398ab8_68cd_11eb_8a83_0242ac1c0002row5_col0\" class=\"data row5 col0\" >780.00</td>\n",
              "                        <td id=\"T_97398ab8_68cd_11eb_8a83_0242ac1c0002row5_col1\" class=\"data row5 col1\" >164.69</td>\n",
              "                        <td id=\"T_97398ab8_68cd_11eb_8a83_0242ac1c0002row5_col2\" class=\"data row5 col2\" >37.99</td>\n",
              "                        <td id=\"T_97398ab8_68cd_11eb_8a83_0242ac1c0002row5_col3\" class=\"data row5 col3\" >104.03</td>\n",
              "                        <td id=\"T_97398ab8_68cd_11eb_8a83_0242ac1c0002row5_col4\" class=\"data row5 col4\" >141.73</td>\n",
              "                        <td id=\"T_97398ab8_68cd_11eb_8a83_0242ac1c0002row5_col5\" class=\"data row5 col5\" >155.82</td>\n",
              "                        <td id=\"T_97398ab8_68cd_11eb_8a83_0242ac1c0002row5_col6\" class=\"data row5 col6\" >180.54</td>\n",
              "                        <td id=\"T_97398ab8_68cd_11eb_8a83_0242ac1c0002row5_col7\" class=\"data row5 col7\" >281.25</td>\n",
              "            </tr>\n",
              "            <tr>\n",
              "                        <th id=\"T_97398ab8_68cd_11eb_8a83_0242ac1c0002level0_row6\" class=\"row_heading level0 row6\" rowspan=6>AMZN</th>\n",
              "                        <th id=\"T_97398ab8_68cd_11eb_8a83_0242ac1c0002level1_row6\" class=\"row_heading level1 row6\" >High</th>\n",
              "                        <td id=\"T_97398ab8_68cd_11eb_8a83_0242ac1c0002row6_col0\" class=\"data row6 col0\" >780.00</td>\n",
              "                        <td id=\"T_97398ab8_68cd_11eb_8a83_0242ac1c0002row6_col1\" class=\"data row6 col1\" >2099.40</td>\n",
              "                        <td id=\"T_97398ab8_68cd_11eb_8a83_0242ac1c0002row6_col2\" class=\"data row6 col2\" >609.53</td>\n",
              "                        <td id=\"T_97398ab8_68cd_11eb_8a83_0242ac1c0002row6_col3\" class=\"data row6 col3\" >1190.00</td>\n",
              "                        <td id=\"T_97398ab8_68cd_11eb_8a83_0242ac1c0002row6_col4\" class=\"data row6 col4\" >1705.00</td>\n",
              "                        <td id=\"T_97398ab8_68cd_11eb_8a83_0242ac1c0002row6_col5\" class=\"data row6 col5\" >1852.06</td>\n",
              "                        <td id=\"T_97398ab8_68cd_11eb_8a83_0242ac1c0002row6_col6\" class=\"data row6 col6\" >2395.50</td>\n",
              "                        <td id=\"T_97398ab8_68cd_11eb_8a83_0242ac1c0002row6_col7\" class=\"data row6 col7\" >3552.25</td>\n",
              "            </tr>\n",
              "            <tr>\n",
              "                                <th id=\"T_97398ab8_68cd_11eb_8a83_0242ac1c0002level1_row7\" class=\"row_heading level1 row7\" >Low</th>\n",
              "                        <td id=\"T_97398ab8_68cd_11eb_8a83_0242ac1c0002row7_col0\" class=\"data row7 col0\" >780.00</td>\n",
              "                        <td id=\"T_97398ab8_68cd_11eb_8a83_0242ac1c0002row7_col1\" class=\"data row7 col1\" >2049.54</td>\n",
              "                        <td id=\"T_97398ab8_68cd_11eb_8a83_0242ac1c0002row7_col2\" class=\"data row7 col2\" >591.15</td>\n",
              "                        <td id=\"T_97398ab8_68cd_11eb_8a83_0242ac1c0002row7_col3\" class=\"data row7 col3\" >1170.51</td>\n",
              "                        <td id=\"T_97398ab8_68cd_11eb_8a83_0242ac1c0002row7_col4\" class=\"data row7 col4\" >1669.62</td>\n",
              "                        <td id=\"T_97398ab8_68cd_11eb_8a83_0242ac1c0002row7_col5\" class=\"data row7 col5\" >1818.91</td>\n",
              "                        <td id=\"T_97398ab8_68cd_11eb_8a83_0242ac1c0002row7_col6\" class=\"data row7 col6\" >2335.70</td>\n",
              "                        <td id=\"T_97398ab8_68cd_11eb_8a83_0242ac1c0002row7_col7\" class=\"data row7 col7\" >3486.69</td>\n",
              "            </tr>\n",
              "            <tr>\n",
              "                                <th id=\"T_97398ab8_68cd_11eb_8a83_0242ac1c0002level1_row8\" class=\"row_heading level1 row8\" >Open</th>\n",
              "                        <td id=\"T_97398ab8_68cd_11eb_8a83_0242ac1c0002row8_col0\" class=\"data row8 col0\" >780.00</td>\n",
              "                        <td id=\"T_97398ab8_68cd_11eb_8a83_0242ac1c0002row8_col1\" class=\"data row8 col1\" >2076.08</td>\n",
              "                        <td id=\"T_97398ab8_68cd_11eb_8a83_0242ac1c0002row8_col2\" class=\"data row8 col2\" >601.41</td>\n",
              "                        <td id=\"T_97398ab8_68cd_11eb_8a83_0242ac1c0002row8_col3\" class=\"data row8 col3\" >1172.00</td>\n",
              "                        <td id=\"T_97398ab8_68cd_11eb_8a83_0242ac1c0002row8_col4\" class=\"data row8 col4\" >1684.80</td>\n",
              "                        <td id=\"T_97398ab8_68cd_11eb_8a83_0242ac1c0002row8_col5\" class=\"data row8 col5\" >1838.61</td>\n",
              "                        <td id=\"T_97398ab8_68cd_11eb_8a83_0242ac1c0002row8_col6\" class=\"data row8 col6\" >2369.78</td>\n",
              "                        <td id=\"T_97398ab8_68cd_11eb_8a83_0242ac1c0002row8_col7\" class=\"data row8 col7\" >3547.00</td>\n",
              "            </tr>\n",
              "            <tr>\n",
              "                                <th id=\"T_97398ab8_68cd_11eb_8a83_0242ac1c0002level1_row9\" class=\"row_heading level1 row9\" >Close</th>\n",
              "                        <td id=\"T_97398ab8_68cd_11eb_8a83_0242ac1c0002row9_col0\" class=\"data row9 col0\" >780.00</td>\n",
              "                        <td id=\"T_97398ab8_68cd_11eb_8a83_0242ac1c0002row9_col1\" class=\"data row9 col1\" >2075.29</td>\n",
              "                        <td id=\"T_97398ab8_68cd_11eb_8a83_0242ac1c0002row9_col2\" class=\"data row9 col2\" >599.67</td>\n",
              "                        <td id=\"T_97398ab8_68cd_11eb_8a83_0242ac1c0002row9_col3\" class=\"data row9 col3\" >1189.01</td>\n",
              "                        <td id=\"T_97398ab8_68cd_11eb_8a83_0242ac1c0002row9_col4\" class=\"data row9 col4\" >1689.26</td>\n",
              "                        <td id=\"T_97398ab8_68cd_11eb_8a83_0242ac1c0002row9_col5\" class=\"data row9 col5\" >1841.82</td>\n",
              "                        <td id=\"T_97398ab8_68cd_11eb_8a83_0242ac1c0002row9_col6\" class=\"data row9 col6\" >2369.12</td>\n",
              "                        <td id=\"T_97398ab8_68cd_11eb_8a83_0242ac1c0002row9_col7\" class=\"data row9 col7\" >3531.45</td>\n",
              "            </tr>\n",
              "            <tr>\n",
              "                                <th id=\"T_97398ab8_68cd_11eb_8a83_0242ac1c0002level1_row10\" class=\"row_heading level1 row10\" >Volume</th>\n",
              "                        <td id=\"T_97398ab8_68cd_11eb_8a83_0242ac1c0002row10_col0\" class=\"data row10 col0\" >780.00</td>\n",
              "                        <td id=\"T_97398ab8_68cd_11eb_8a83_0242ac1c0002row10_col1\" class=\"data row10 col1\" >4791523.46</td>\n",
              "                        <td id=\"T_97398ab8_68cd_11eb_8a83_0242ac1c0002row10_col2\" class=\"data row10 col2\" >2183727.55</td>\n",
              "                        <td id=\"T_97398ab8_68cd_11eb_8a83_0242ac1c0002row10_col3\" class=\"data row10 col3\" >881300.00</td>\n",
              "                        <td id=\"T_97398ab8_68cd_11eb_8a83_0242ac1c0002row10_col4\" class=\"data row10 col4\" >3185325.00</td>\n",
              "                        <td id=\"T_97398ab8_68cd_11eb_8a83_0242ac1c0002row10_col5\" class=\"data row10 col5\" >4278850.00</td>\n",
              "                        <td id=\"T_97398ab8_68cd_11eb_8a83_0242ac1c0002row10_col6\" class=\"data row10 col6\" >5774150.00</td>\n",
              "                        <td id=\"T_97398ab8_68cd_11eb_8a83_0242ac1c0002row10_col7\" class=\"data row10 col7\" >15567300.00</td>\n",
              "            </tr>\n",
              "            <tr>\n",
              "                                <th id=\"T_97398ab8_68cd_11eb_8a83_0242ac1c0002level1_row11\" class=\"row_heading level1 row11\" >Adj Close</th>\n",
              "                        <td id=\"T_97398ab8_68cd_11eb_8a83_0242ac1c0002row11_col0\" class=\"data row11 col0\" >780.00</td>\n",
              "                        <td id=\"T_97398ab8_68cd_11eb_8a83_0242ac1c0002row11_col1\" class=\"data row11 col1\" >2075.29</td>\n",
              "                        <td id=\"T_97398ab8_68cd_11eb_8a83_0242ac1c0002row11_col2\" class=\"data row11 col2\" >599.67</td>\n",
              "                        <td id=\"T_97398ab8_68cd_11eb_8a83_0242ac1c0002row11_col3\" class=\"data row11 col3\" >1189.01</td>\n",
              "                        <td id=\"T_97398ab8_68cd_11eb_8a83_0242ac1c0002row11_col4\" class=\"data row11 col4\" >1689.26</td>\n",
              "                        <td id=\"T_97398ab8_68cd_11eb_8a83_0242ac1c0002row11_col5\" class=\"data row11 col5\" >1841.82</td>\n",
              "                        <td id=\"T_97398ab8_68cd_11eb_8a83_0242ac1c0002row11_col6\" class=\"data row11 col6\" >2369.12</td>\n",
              "                        <td id=\"T_97398ab8_68cd_11eb_8a83_0242ac1c0002row11_col7\" class=\"data row11 col7\" >3531.45</td>\n",
              "            </tr>\n",
              "            <tr>\n",
              "                        <th id=\"T_97398ab8_68cd_11eb_8a83_0242ac1c0002level0_row12\" class=\"row_heading level0 row12\" rowspan=6>MSFT</th>\n",
              "                        <th id=\"T_97398ab8_68cd_11eb_8a83_0242ac1c0002level1_row12\" class=\"row_heading level1 row12\" >High</th>\n",
              "                        <td id=\"T_97398ab8_68cd_11eb_8a83_0242ac1c0002row12_col0\" class=\"data row12 col0\" >780.00</td>\n",
              "                        <td id=\"T_97398ab8_68cd_11eb_8a83_0242ac1c0002row12_col1\" class=\"data row12 col1\" >145.69</td>\n",
              "                        <td id=\"T_97398ab8_68cd_11eb_8a83_0242ac1c0002row12_col2\" class=\"data row12 col2\" >44.23</td>\n",
              "                        <td id=\"T_97398ab8_68cd_11eb_8a83_0242ac1c0002row12_col3\" class=\"data row12 col3\" >86.31</td>\n",
              "                        <td id=\"T_97398ab8_68cd_11eb_8a83_0242ac1c0002row12_col4\" class=\"data row12 col4\" >107.90</td>\n",
              "                        <td id=\"T_97398ab8_68cd_11eb_8a83_0242ac1c0002row12_col5\" class=\"data row12 col5\" >137.15</td>\n",
              "                        <td id=\"T_97398ab8_68cd_11eb_8a83_0242ac1c0002row12_col6\" class=\"data row12 col6\" >184.20</td>\n",
              "                        <td id=\"T_97398ab8_68cd_11eb_8a83_0242ac1c0002row12_col7\" class=\"data row12 col7\" >245.09</td>\n",
              "            </tr>\n",
              "            <tr>\n",
              "                                <th id=\"T_97398ab8_68cd_11eb_8a83_0242ac1c0002level1_row13\" class=\"row_heading level1 row13\" >Low</th>\n",
              "                        <td id=\"T_97398ab8_68cd_11eb_8a83_0242ac1c0002row13_col0\" class=\"data row13 col0\" >780.00</td>\n",
              "                        <td id=\"T_97398ab8_68cd_11eb_8a83_0242ac1c0002row13_col1\" class=\"data row13 col1\" >142.55</td>\n",
              "                        <td id=\"T_97398ab8_68cd_11eb_8a83_0242ac1c0002row13_col2\" class=\"data row13 col2\" >43.10</td>\n",
              "                        <td id=\"T_97398ab8_68cd_11eb_8a83_0242ac1c0002row13_col3\" class=\"data row13 col3\" >83.83</td>\n",
              "                        <td id=\"T_97398ab8_68cd_11eb_8a83_0242ac1c0002row13_col4\" class=\"data row13 col4\" >105.47</td>\n",
              "                        <td id=\"T_97398ab8_68cd_11eb_8a83_0242ac1c0002row13_col5\" class=\"data row13 col5\" >135.00</td>\n",
              "                        <td id=\"T_97398ab8_68cd_11eb_8a83_0242ac1c0002row13_col6\" class=\"data row13 col6\" >180.39</td>\n",
              "                        <td id=\"T_97398ab8_68cd_11eb_8a83_0242ac1c0002row13_col7\" class=\"data row13 col7\" >240.42</td>\n",
              "            </tr>\n",
              "            <tr>\n",
              "                                <th id=\"T_97398ab8_68cd_11eb_8a83_0242ac1c0002level1_row14\" class=\"row_heading level1 row14\" >Open</th>\n",
              "                        <td id=\"T_97398ab8_68cd_11eb_8a83_0242ac1c0002row14_col0\" class=\"data row14 col0\" >780.00</td>\n",
              "                        <td id=\"T_97398ab8_68cd_11eb_8a83_0242ac1c0002row14_col1\" class=\"data row14 col1\" >144.17</td>\n",
              "                        <td id=\"T_97398ab8_68cd_11eb_8a83_0242ac1c0002row14_col2\" class=\"data row14 col2\" >43.64</td>\n",
              "                        <td id=\"T_97398ab8_68cd_11eb_8a83_0242ac1c0002row14_col3\" class=\"data row14 col3\" >86.06</td>\n",
              "                        <td id=\"T_97398ab8_68cd_11eb_8a83_0242ac1c0002row14_col4\" class=\"data row14 col4\" >106.89</td>\n",
              "                        <td id=\"T_97398ab8_68cd_11eb_8a83_0242ac1c0002row14_col5\" class=\"data row14 col5\" >136.49</td>\n",
              "                        <td id=\"T_97398ab8_68cd_11eb_8a83_0242ac1c0002row14_col6\" class=\"data row14 col6\" >182.57</td>\n",
              "                        <td id=\"T_97398ab8_68cd_11eb_8a83_0242ac1c0002row14_col7\" class=\"data row14 col7\" >242.66</td>\n",
              "            </tr>\n",
              "            <tr>\n",
              "                                <th id=\"T_97398ab8_68cd_11eb_8a83_0242ac1c0002level1_row15\" class=\"row_heading level1 row15\" >Close</th>\n",
              "                        <td id=\"T_97398ab8_68cd_11eb_8a83_0242ac1c0002row15_col0\" class=\"data row15 col0\" >780.00</td>\n",
              "                        <td id=\"T_97398ab8_68cd_11eb_8a83_0242ac1c0002row15_col1\" class=\"data row15 col1\" >144.20</td>\n",
              "                        <td id=\"T_97398ab8_68cd_11eb_8a83_0242ac1c0002row15_col2\" class=\"data row15 col2\" >43.69</td>\n",
              "                        <td id=\"T_97398ab8_68cd_11eb_8a83_0242ac1c0002row15_col3\" class=\"data row15 col3\" >85.01</td>\n",
              "                        <td id=\"T_97398ab8_68cd_11eb_8a83_0242ac1c0002row15_col4\" class=\"data row15 col4\" >106.86</td>\n",
              "                        <td id=\"T_97398ab8_68cd_11eb_8a83_0242ac1c0002row15_col5\" class=\"data row15 col5\" >136.12</td>\n",
              "                        <td id=\"T_97398ab8_68cd_11eb_8a83_0242ac1c0002row15_col6\" class=\"data row15 col6\" >182.52</td>\n",
              "                        <td id=\"T_97398ab8_68cd_11eb_8a83_0242ac1c0002row15_col7\" class=\"data row15 col7\" >243.00</td>\n",
              "            </tr>\n",
              "            <tr>\n",
              "                                <th id=\"T_97398ab8_68cd_11eb_8a83_0242ac1c0002level1_row16\" class=\"row_heading level1 row16\" >Volume</th>\n",
              "                        <td id=\"T_97398ab8_68cd_11eb_8a83_0242ac1c0002row16_col0\" class=\"data row16 col0\" >780.00</td>\n",
              "                        <td id=\"T_97398ab8_68cd_11eb_8a83_0242ac1c0002row16_col1\" class=\"data row16 col1\" >31320472.56</td>\n",
              "                        <td id=\"T_97398ab8_68cd_11eb_8a83_0242ac1c0002row16_col2\" class=\"data row16 col2\" >14173248.13</td>\n",
              "                        <td id=\"T_97398ab8_68cd_11eb_8a83_0242ac1c0002row16_col3\" class=\"data row16 col3\" >8989200.00</td>\n",
              "                        <td id=\"T_97398ab8_68cd_11eb_8a83_0242ac1c0002row16_col4\" class=\"data row16 col4\" >22412700.00</td>\n",
              "                        <td id=\"T_97398ab8_68cd_11eb_8a83_0242ac1c0002row16_col5\" class=\"data row16 col5\" >27504250.00</td>\n",
              "                        <td id=\"T_97398ab8_68cd_11eb_8a83_0242ac1c0002row16_col6\" class=\"data row16 col6\" >35541775.00</td>\n",
              "                        <td id=\"T_97398ab8_68cd_11eb_8a83_0242ac1c0002row16_col7\" class=\"data row16 col7\" >111242100.00</td>\n",
              "            </tr>\n",
              "            <tr>\n",
              "                                <th id=\"T_97398ab8_68cd_11eb_8a83_0242ac1c0002level1_row17\" class=\"row_heading level1 row17\" >Adj Close</th>\n",
              "                        <td id=\"T_97398ab8_68cd_11eb_8a83_0242ac1c0002row17_col0\" class=\"data row17 col0\" >780.00</td>\n",
              "                        <td id=\"T_97398ab8_68cd_11eb_8a83_0242ac1c0002row17_col1\" class=\"data row17 col1\" >142.12</td>\n",
              "                        <td id=\"T_97398ab8_68cd_11eb_8a83_0242ac1c0002row17_col2\" class=\"data row17 col2\" >44.72</td>\n",
              "                        <td id=\"T_97398ab8_68cd_11eb_8a83_0242ac1c0002row17_col3\" class=\"data row17 col3\" >81.48</td>\n",
              "                        <td id=\"T_97398ab8_68cd_11eb_8a83_0242ac1c0002row17_col4\" class=\"data row17 col4\" >103.83</td>\n",
              "                        <td id=\"T_97398ab8_68cd_11eb_8a83_0242ac1c0002row17_col5\" class=\"data row17 col5\" >134.18</td>\n",
              "                        <td id=\"T_97398ab8_68cd_11eb_8a83_0242ac1c0002row17_col6\" class=\"data row17 col6\" >181.10</td>\n",
              "                        <td id=\"T_97398ab8_68cd_11eb_8a83_0242ac1c0002row17_col7\" class=\"data row17 col7\" >243.00</td>\n",
              "            </tr>\n",
              "            <tr>\n",
              "                        <th id=\"T_97398ab8_68cd_11eb_8a83_0242ac1c0002level0_row18\" class=\"row_heading level0 row18\" rowspan=6>GOOGL</th>\n",
              "                        <th id=\"T_97398ab8_68cd_11eb_8a83_0242ac1c0002level1_row18\" class=\"row_heading level1 row18\" >High</th>\n",
              "                        <td id=\"T_97398ab8_68cd_11eb_8a83_0242ac1c0002row18_col0\" class=\"data row18 col0\" >780.00</td>\n",
              "                        <td id=\"T_97398ab8_68cd_11eb_8a83_0242ac1c0002row18_col1\" class=\"data row18 col1\" >1295.69</td>\n",
              "                        <td id=\"T_97398ab8_68cd_11eb_8a83_0242ac1c0002row18_col2\" class=\"data row18 col2\" >219.20</td>\n",
              "                        <td id=\"T_97398ab8_68cd_11eb_8a83_0242ac1c0002row18_col3\" class=\"data row18 col3\" >1012.12</td>\n",
              "                        <td id=\"T_97398ab8_68cd_11eb_8a83_0242ac1c0002row18_col4\" class=\"data row18 col4\" >1131.30</td>\n",
              "                        <td id=\"T_97398ab8_68cd_11eb_8a83_0242ac1c0002row18_col5\" class=\"data row18 col5\" >1215.00</td>\n",
              "                        <td id=\"T_97398ab8_68cd_11eb_8a83_0242ac1c0002row18_col6\" class=\"data row18 col6\" >1440.92</td>\n",
              "                        <td id=\"T_97398ab8_68cd_11eb_8a83_0242ac1c0002row18_col7\" class=\"data row18 col7\" >2106.62</td>\n",
              "            </tr>\n",
              "            <tr>\n",
              "                                <th id=\"T_97398ab8_68cd_11eb_8a83_0242ac1c0002level1_row19\" class=\"row_heading level1 row19\" >Low</th>\n",
              "                        <td id=\"T_97398ab8_68cd_11eb_8a83_0242ac1c0002row19_col0\" class=\"data row19 col0\" >780.00</td>\n",
              "                        <td id=\"T_97398ab8_68cd_11eb_8a83_0242ac1c0002row19_col1\" class=\"data row19 col1\" >1267.91</td>\n",
              "                        <td id=\"T_97398ab8_68cd_11eb_8a83_0242ac1c0002row19_col2\" class=\"data row19 col2\" >214.56</td>\n",
              "                        <td id=\"T_97398ab8_68cd_11eb_8a83_0242ac1c0002row19_col3\" class=\"data row19 col3\" >977.66</td>\n",
              "                        <td id=\"T_97398ab8_68cd_11eb_8a83_0242ac1c0002row19_col4\" class=\"data row19 col4\" >1107.89</td>\n",
              "                        <td id=\"T_97398ab8_68cd_11eb_8a83_0242ac1c0002row19_col5\" class=\"data row19 col5\" >1197.89</td>\n",
              "                        <td id=\"T_97398ab8_68cd_11eb_8a83_0242ac1c0002row19_col6\" class=\"data row19 col6\" >1407.64</td>\n",
              "                        <td id=\"T_97398ab8_68cd_11eb_8a83_0242ac1c0002row19_col7\" class=\"data row19 col7\" >2050.00</td>\n",
              "            </tr>\n",
              "            <tr>\n",
              "                                <th id=\"T_97398ab8_68cd_11eb_8a83_0242ac1c0002level1_row20\" class=\"row_heading level1 row20\" >Open</th>\n",
              "                        <td id=\"T_97398ab8_68cd_11eb_8a83_0242ac1c0002row20_col0\" class=\"data row20 col0\" >780.00</td>\n",
              "                        <td id=\"T_97398ab8_68cd_11eb_8a83_0242ac1c0002row20_col1\" class=\"data row20 col1\" >1281.53</td>\n",
              "                        <td id=\"T_97398ab8_68cd_11eb_8a83_0242ac1c0002row20_col2\" class=\"data row20 col2\" >216.18</td>\n",
              "                        <td id=\"T_97398ab8_68cd_11eb_8a83_0242ac1c0002row20_col3\" class=\"data row20 col3\" >984.32</td>\n",
              "                        <td id=\"T_97398ab8_68cd_11eb_8a83_0242ac1c0002row20_col4\" class=\"data row20 col4\" >1118.75</td>\n",
              "                        <td id=\"T_97398ab8_68cd_11eb_8a83_0242ac1c0002row20_col5\" class=\"data row20 col5\" >1205.14</td>\n",
              "                        <td id=\"T_97398ab8_68cd_11eb_8a83_0242ac1c0002row20_col6\" class=\"data row20 col6\" >1425.96</td>\n",
              "                        <td id=\"T_97398ab8_68cd_11eb_8a83_0242ac1c0002row20_col7\" class=\"data row20 col7\" >2065.61</td>\n",
              "            </tr>\n",
              "            <tr>\n",
              "                                <th id=\"T_97398ab8_68cd_11eb_8a83_0242ac1c0002level1_row21\" class=\"row_heading level1 row21\" >Close</th>\n",
              "                        <td id=\"T_97398ab8_68cd_11eb_8a83_0242ac1c0002row21_col0\" class=\"data row21 col0\" >780.00</td>\n",
              "                        <td id=\"T_97398ab8_68cd_11eb_8a83_0242ac1c0002row21_col1\" class=\"data row21 col1\" >1282.34</td>\n",
              "                        <td id=\"T_97398ab8_68cd_11eb_8a83_0242ac1c0002row21_col2\" class=\"data row21 col2\" >216.96</td>\n",
              "                        <td id=\"T_97398ab8_68cd_11eb_8a83_0242ac1c0002row21_col3\" class=\"data row21 col3\" >984.67</td>\n",
              "                        <td id=\"T_97398ab8_68cd_11eb_8a83_0242ac1c0002row21_col4\" class=\"data row21 col4\" >1117.92</td>\n",
              "                        <td id=\"T_97398ab8_68cd_11eb_8a83_0242ac1c0002row21_col5\" class=\"data row21 col5\" >1207.65</td>\n",
              "                        <td id=\"T_97398ab8_68cd_11eb_8a83_0242ac1c0002row21_col6\" class=\"data row21 col6\" >1423.30</td>\n",
              "                        <td id=\"T_97398ab8_68cd_11eb_8a83_0242ac1c0002row21_col7\" class=\"data row21 col7\" >2088.83</td>\n",
              "            </tr>\n",
              "            <tr>\n",
              "                                <th id=\"T_97398ab8_68cd_11eb_8a83_0242ac1c0002level1_row22\" class=\"row_heading level1 row22\" >Volume</th>\n",
              "                        <td id=\"T_97398ab8_68cd_11eb_8a83_0242ac1c0002row22_col0\" class=\"data row22 col0\" >780.00</td>\n",
              "                        <td id=\"T_97398ab8_68cd_11eb_8a83_0242ac1c0002row22_col1\" class=\"data row22 col1\" >1864097.44</td>\n",
              "                        <td id=\"T_97398ab8_68cd_11eb_8a83_0242ac1c0002row22_col2\" class=\"data row22 col2\" >872853.74</td>\n",
              "                        <td id=\"T_97398ab8_68cd_11eb_8a83_0242ac1c0002row22_col3\" class=\"data row22 col3\" >465600.00</td>\n",
              "                        <td id=\"T_97398ab8_68cd_11eb_8a83_0242ac1c0002row22_col4\" class=\"data row22 col4\" >1303950.00</td>\n",
              "                        <td id=\"T_97398ab8_68cd_11eb_8a83_0242ac1c0002row22_col5\" class=\"data row22 col5\" >1646100.00</td>\n",
              "                        <td id=\"T_97398ab8_68cd_11eb_8a83_0242ac1c0002row22_col6\" class=\"data row22 col6\" >2132325.00</td>\n",
              "                        <td id=\"T_97398ab8_68cd_11eb_8a83_0242ac1c0002row22_col7\" class=\"data row22 col7\" >6658900.00</td>\n",
              "            </tr>\n",
              "            <tr>\n",
              "                                <th id=\"T_97398ab8_68cd_11eb_8a83_0242ac1c0002level1_row23\" class=\"row_heading level1 row23\" >Adj Close</th>\n",
              "                        <td id=\"T_97398ab8_68cd_11eb_8a83_0242ac1c0002row23_col0\" class=\"data row23 col0\" >780.00</td>\n",
              "                        <td id=\"T_97398ab8_68cd_11eb_8a83_0242ac1c0002row23_col1\" class=\"data row23 col1\" >1282.34</td>\n",
              "                        <td id=\"T_97398ab8_68cd_11eb_8a83_0242ac1c0002row23_col2\" class=\"data row23 col2\" >216.96</td>\n",
              "                        <td id=\"T_97398ab8_68cd_11eb_8a83_0242ac1c0002row23_col3\" class=\"data row23 col3\" >984.67</td>\n",
              "                        <td id=\"T_97398ab8_68cd_11eb_8a83_0242ac1c0002row23_col4\" class=\"data row23 col4\" >1117.92</td>\n",
              "                        <td id=\"T_97398ab8_68cd_11eb_8a83_0242ac1c0002row23_col5\" class=\"data row23 col5\" >1207.65</td>\n",
              "                        <td id=\"T_97398ab8_68cd_11eb_8a83_0242ac1c0002row23_col6\" class=\"data row23 col6\" >1423.30</td>\n",
              "                        <td id=\"T_97398ab8_68cd_11eb_8a83_0242ac1c0002row23_col7\" class=\"data row23 col7\" >2088.83</td>\n",
              "            </tr>\n",
              "            <tr>\n",
              "                        <th id=\"T_97398ab8_68cd_11eb_8a83_0242ac1c0002level0_row24\" class=\"row_heading level0 row24\" rowspan=6>IBM</th>\n",
              "                        <th id=\"T_97398ab8_68cd_11eb_8a83_0242ac1c0002level1_row24\" class=\"row_heading level1 row24\" >High</th>\n",
              "                        <td id=\"T_97398ab8_68cd_11eb_8a83_0242ac1c0002row24_col0\" class=\"data row24 col0\" >780.00</td>\n",
              "                        <td id=\"T_97398ab8_68cd_11eb_8a83_0242ac1c0002row24_col1\" class=\"data row24 col1\" >135.97</td>\n",
              "                        <td id=\"T_97398ab8_68cd_11eb_8a83_0242ac1c0002row24_col2\" class=\"data row24 col2\" >13.06</td>\n",
              "                        <td id=\"T_97398ab8_68cd_11eb_8a83_0242ac1c0002row24_col3\" class=\"data row24 col3\" >97.74</td>\n",
              "                        <td id=\"T_97398ab8_68cd_11eb_8a83_0242ac1c0002row24_col4\" class=\"data row24 col4\" >125.00</td>\n",
              "                        <td id=\"T_97398ab8_68cd_11eb_8a83_0242ac1c0002row24_col5\" class=\"data row24 col5\" >135.92</td>\n",
              "                        <td id=\"T_97398ab8_68cd_11eb_8a83_0242ac1c0002row24_col6\" class=\"data row24 col6\" >144.87</td>\n",
              "                        <td id=\"T_97398ab8_68cd_11eb_8a83_0242ac1c0002row24_col7\" class=\"data row24 col7\" >171.13</td>\n",
              "            </tr>\n",
              "            <tr>\n",
              "                                <th id=\"T_97398ab8_68cd_11eb_8a83_0242ac1c0002level1_row25\" class=\"row_heading level1 row25\" >Low</th>\n",
              "                        <td id=\"T_97398ab8_68cd_11eb_8a83_0242ac1c0002row25_col0\" class=\"data row25 col0\" >780.00</td>\n",
              "                        <td id=\"T_97398ab8_68cd_11eb_8a83_0242ac1c0002row25_col1\" class=\"data row25 col1\" >133.53</td>\n",
              "                        <td id=\"T_97398ab8_68cd_11eb_8a83_0242ac1c0002row25_col2\" class=\"data row25 col2\" >13.42</td>\n",
              "                        <td id=\"T_97398ab8_68cd_11eb_8a83_0242ac1c0002row25_col3\" class=\"data row25 col3\" >90.56</td>\n",
              "                        <td id=\"T_97398ab8_68cd_11eb_8a83_0242ac1c0002row25_col4\" class=\"data row25 col4\" >122.58</td>\n",
              "                        <td id=\"T_97398ab8_68cd_11eb_8a83_0242ac1c0002row25_col5\" class=\"data row25 col5\" >134.27</td>\n",
              "                        <td id=\"T_97398ab8_68cd_11eb_8a83_0242ac1c0002row25_col6\" class=\"data row25 col6\" >143.01</td>\n",
              "                        <td id=\"T_97398ab8_68cd_11eb_8a83_0242ac1c0002row25_col7\" class=\"data row25 col7\" >168.15</td>\n",
              "            </tr>\n",
              "            <tr>\n",
              "                                <th id=\"T_97398ab8_68cd_11eb_8a83_0242ac1c0002level1_row26\" class=\"row_heading level1 row26\" >Open</th>\n",
              "                        <td id=\"T_97398ab8_68cd_11eb_8a83_0242ac1c0002row26_col0\" class=\"data row26 col0\" >780.00</td>\n",
              "                        <td id=\"T_97398ab8_68cd_11eb_8a83_0242ac1c0002row26_col1\" class=\"data row26 col1\" >134.78</td>\n",
              "                        <td id=\"T_97398ab8_68cd_11eb_8a83_0242ac1c0002row26_col2\" class=\"data row26 col2\" >13.27</td>\n",
              "                        <td id=\"T_97398ab8_68cd_11eb_8a83_0242ac1c0002row26_col3\" class=\"data row26 col3\" >94.60</td>\n",
              "                        <td id=\"T_97398ab8_68cd_11eb_8a83_0242ac1c0002row26_col4\" class=\"data row26 col4\" >123.77</td>\n",
              "                        <td id=\"T_97398ab8_68cd_11eb_8a83_0242ac1c0002row26_col5\" class=\"data row26 col5\" >135.14</td>\n",
              "                        <td id=\"T_97398ab8_68cd_11eb_8a83_0242ac1c0002row26_col6\" class=\"data row26 col6\" >144.18</td>\n",
              "                        <td id=\"T_97398ab8_68cd_11eb_8a83_0242ac1c0002row26_col7\" class=\"data row26 col7\" >170.00</td>\n",
              "            </tr>\n",
              "            <tr>\n",
              "                                <th id=\"T_97398ab8_68cd_11eb_8a83_0242ac1c0002level1_row27\" class=\"row_heading level1 row27\" >Close</th>\n",
              "                        <td id=\"T_97398ab8_68cd_11eb_8a83_0242ac1c0002row27_col0\" class=\"data row27 col0\" >780.00</td>\n",
              "                        <td id=\"T_97398ab8_68cd_11eb_8a83_0242ac1c0002row27_col1\" class=\"data row27 col1\" >134.74</td>\n",
              "                        <td id=\"T_97398ab8_68cd_11eb_8a83_0242ac1c0002row27_col2\" class=\"data row27 col2\" >13.22</td>\n",
              "                        <td id=\"T_97398ab8_68cd_11eb_8a83_0242ac1c0002row27_col3\" class=\"data row27 col3\" >94.77</td>\n",
              "                        <td id=\"T_97398ab8_68cd_11eb_8a83_0242ac1c0002row27_col4\" class=\"data row27 col4\" >123.93</td>\n",
              "                        <td id=\"T_97398ab8_68cd_11eb_8a83_0242ac1c0002row27_col5\" class=\"data row27 col5\" >135.26</td>\n",
              "                        <td id=\"T_97398ab8_68cd_11eb_8a83_0242ac1c0002row27_col6\" class=\"data row27 col6\" >143.91</td>\n",
              "                        <td id=\"T_97398ab8_68cd_11eb_8a83_0242ac1c0002row27_col7\" class=\"data row27 col7\" >169.12</td>\n",
              "            </tr>\n",
              "            <tr>\n",
              "                                <th id=\"T_97398ab8_68cd_11eb_8a83_0242ac1c0002level1_row28\" class=\"row_heading level1 row28\" >Volume</th>\n",
              "                        <td id=\"T_97398ab8_68cd_11eb_8a83_0242ac1c0002row28_col0\" class=\"data row28 col0\" >780.00</td>\n",
              "                        <td id=\"T_97398ab8_68cd_11eb_8a83_0242ac1c0002row28_col1\" class=\"data row28 col1\" >5031305.13</td>\n",
              "                        <td id=\"T_97398ab8_68cd_11eb_8a83_0242ac1c0002row28_col2\" class=\"data row28 col2\" >3223690.11</td>\n",
              "                        <td id=\"T_97398ab8_68cd_11eb_8a83_0242ac1c0002row28_col3\" class=\"data row28 col3\" >1202100.00</td>\n",
              "                        <td id=\"T_97398ab8_68cd_11eb_8a83_0242ac1c0002row28_col4\" class=\"data row28 col4\" >3261100.00</td>\n",
              "                        <td id=\"T_97398ab8_68cd_11eb_8a83_0242ac1c0002row28_col5\" class=\"data row28 col5\" >4137050.00</td>\n",
              "                        <td id=\"T_97398ab8_68cd_11eb_8a83_0242ac1c0002row28_col6\" class=\"data row28 col6\" >5492200.00</td>\n",
              "                        <td id=\"T_97398ab8_68cd_11eb_8a83_0242ac1c0002row28_col7\" class=\"data row28 col7\" >38031500.00</td>\n",
              "            </tr>\n",
              "            <tr>\n",
              "                                <th id=\"T_97398ab8_68cd_11eb_8a83_0242ac1c0002level1_row29\" class=\"row_heading level1 row29\" >Adj Close</th>\n",
              "                        <td id=\"T_97398ab8_68cd_11eb_8a83_0242ac1c0002row29_col0\" class=\"data row29 col0\" >780.00</td>\n",
              "                        <td id=\"T_97398ab8_68cd_11eb_8a83_0242ac1c0002row29_col1\" class=\"data row29 col1\" >125.29</td>\n",
              "                        <td id=\"T_97398ab8_68cd_11eb_8a83_0242ac1c0002row29_col2\" class=\"data row29 col2\" >9.43</td>\n",
              "                        <td id=\"T_97398ab8_68cd_11eb_8a83_0242ac1c0002row29_col3\" class=\"data row29 col3\" >90.99</td>\n",
              "                        <td id=\"T_97398ab8_68cd_11eb_8a83_0242ac1c0002row29_col4\" class=\"data row29 col4\" >120.55</td>\n",
              "                        <td id=\"T_97398ab8_68cd_11eb_8a83_0242ac1c0002row29_col5\" class=\"data row29 col5\" >126.61</td>\n",
              "                        <td id=\"T_97398ab8_68cd_11eb_8a83_0242ac1c0002row29_col6\" class=\"data row29 col6\" >130.66</td>\n",
              "                        <td id=\"T_97398ab8_68cd_11eb_8a83_0242ac1c0002row29_col7\" class=\"data row29 col7\" >149.11</td>\n",
              "            </tr>\n",
              "    </tbody></table>"
            ],
            "text/plain": [
              "<pandas.io.formats.style.Styler at 0x7f6321ba5a20>"
            ]
          },
          "metadata": {
            "tags": []
          },
          "execution_count": 32
        }
      ]
    },
    {
      "cell_type": "code",
      "metadata": {
        "colab": {
          "base_uri": "https://localhost:8080/",
          "height": 593
        },
        "id": "7Hv0xvYVgHVQ",
        "outputId": "e5a30b55-cd9b-45ad-cb80-3716471d48e2"
      },
      "source": [
        "# Checking for missing values\r\n",
        "plt.figure(figsize=(10, 7))\r\n",
        "sns.set(font_scale=1.4)\r\n",
        "plt.tight_layout()\r\n",
        "sns.heatmap(stocks.isnull(), yticklabels=False, cbar=False, cmap=\"viridis\")"
      ],
      "execution_count": null,
      "outputs": [
        {
          "output_type": "execute_result",
          "data": {
            "text/plain": [
              "<matplotlib.axes._subplots.AxesSubplot at 0x7f631f2aab00>"
            ]
          },
          "metadata": {
            "tags": []
          },
          "execution_count": 33
        },
        {
          "output_type": "display_data",
          "data": {
            "image/png": "[encoded data removed]",
            "text/plain": [
              "<Figure size 720x504 with 1 Axes>"
            ]
          },
          "metadata": {
            "tags": []
          }
        }
      ]
    },
    {
      "cell_type": "markdown",
      "metadata": {
        "id": "lQIiKFl4hIdA"
      },
      "source": [
        "No null values"
      ]
    },
    {
      "cell_type": "code",
      "metadata": {
        "id": "8MdblROBgVqg"
      },
      "source": [
        "# Create a dataframe for the closing_prices of the stocks\r\n",
        "closing_prices_df = stocks.xs(key='Adj Close',axis=1,level=1)"
      ],
      "execution_count": null,
      "outputs": []
    },
    {
      "cell_type": "code",
      "metadata": {
        "id": "n-HLG9KeghKG"
      },
      "source": [
        "# # Create a dataframe for the closing_prices of the stocks\r\n",
        "# closing_prices_df = stocks.xs(key='Adj Close',axis=1,level=1)\r\n",
        "# # Using plotly to create line plot of stock closing prices over time. \r\n",
        "# # You can double click on the ticker symbols in the legend to isolate each ticker\r\n",
        "\r\n",
        "# fig = px.line(closing_prices_df, x=closing_prices_df.index, y=closing_prices_df.columns, title=\"Adjusted Closing Prices\") \r\n",
        "# fig.update_layout(hovermode=\"x\",yaxis_title=\"Price\")\r\n",
        "# fig.show()"
      ],
      "execution_count": 1,
      "outputs": []
    },
    {
      "cell_type": "code",
      "metadata": {
        "colab": {
          "base_uri": "https://localhost:8080/",
          "height": 542
        },
        "id": "LYPPXhVvhsW1",
        "outputId": "ecbb39ab-fe72-4310-9107-b173d7b432f7"
      },
      "source": [
        "import plotly.graph_objects as go\r\n",
        "# User input ticker of interest\r\n",
        "ticker = \"CRM\"\r\n",
        "fig = go.Figure(data=[go.Candlestick(x=each_df[ticker].index,\r\n",
        "                open=each_df[ticker]['Open'],\r\n",
        "                high=each_df[ticker]['High'],\r\n",
        "                low=each_df[ticker]['Low'],\r\n",
        "                close=each_df[ticker]['Close'])])\r\n",
        "fig.update_layout(\r\n",
        "    title='Candlestick Chart for ' + ticker,\r\n",
        "    yaxis_title='Price',\r\n",
        "    xaxis_title='Date',\r\n",
        "    hovermode='x'\r\n",
        ")\r\n",
        "fig.show()"
      ],
      "execution_count": null,
      "outputs": [
        {
          "output_type": "display_data",
          "data": {
            "text/html": [
              "<html>\n",
              "<head><meta charset=\"utf-8\" /></head>\n",
              "<body>\n",
              "    <div>\n",
              "            <script src=\"https://cdnjs.cloudflare.com/ajax/libs/mathjax/2.7.5/MathJax.js?config=TeX-AMS-MML_SVG\"></script><script type=\"text/javascript\">if (window.MathJax) {MathJax.Hub.Config({SVG: {font: \"STIX-Web\"}});}</script>\n",
              "                <script type=\"text/javascript\">window.PlotlyConfig = {MathJaxConfig: 'local'};</script>\n",
              "        <script src=\"https://cdn.plot.ly/plotly-latest.min.js\"></script>    \n",
              "            <div id=\"1b743d68-3ded-4fe3-b52d-397663e568ca\" class=\"plotly-graph-div\" style=\"height:525px; width:100%;\"></div>\n",
              "            <script type=\"text/javascript\">\n",
              "                \n",
              "                    window.PLOTLYENV=window.PLOTLYENV || {};\n",
              "                    \n",
              "                if (document.getElementById(\"1b743d68-3ded-4fe3-b52d-397663e568ca\")) {\n",
              "                    Plotly.newPlot(\n",
              "                        '1b743d68-3ded-4fe3-b52d-397663e568ca',\n",
              "                        [{\"close\": [104.41000366210938, 105.29000091552734, 106.68000030517578, 108.0999984741211, 108.86000061035156, 109.1500015258789, 108.80000305175781, 109.0999984741211, 110.23999786376953, 108.88999938964844, 110.04000091552734, 111.7699966430664, 111.93000030517578, 112.88999938964844, 113.23999786376953, 112.8499984741211, 111.95999908447266, 113.69999694824219, 113.30000305175781, 112.2300033569336, 113.91000366210938, 112.73999786376953, 110.77999877929688, 107.6500015258789, 109.56999969482422, 110.05000305175781, 104.02999877929688, 106.9800033569336, 108.55000305175781, 107.69000244140625, 109.0199966430664, 113.12000274658203, 112.86000061035156, 114.3499984741211, 114.4800033569336, 113.0, 114.95999908447266, 116.6500015258789, 116.47000122070312, 116.25, 119.43000030517578, 121.91999816894531, 122.5, 124.4800033569336, 125.33000183105469, 126.36000061035156, 127.41000366210938, 126.77999877929688, 126.7300033569336, 127.98999786376953, 127.22000122070312, 125.97000122070312, 124.9800033569336, 125.12000274658203, 121.69999694824219, 118.04000091552734, 114.43000030517578, 118.97000122070312, 113.80999755859375, 112.87999725341797, 116.30000305175781, 115.30000305175781, 116.48999786376953, 119.4800033569336, 119.04000091552734, 116.0999984741211, 117.19000244140625, 119.48999786376953, 119.16000366210938, 121.4000015258789, 119.01000213623047, 119.41000366210938, 123.3499984741211, 124.45999908447266, 124.05999755859375, 122.81999969482422, 121.88999938964844, 117.87999725341797, 117.31999969482422, 120.83000183105469, 120.22000122070312, 120.98999786376953, 123.11000061035156, 122.81999969482422, 124.41000366210938, 125.12000274658203, 126.97000122070312, 128.75, 129.72999572753906, 130.6199951171875, 130.6300048828125, 127.69000244140625, 128.1300048828125, 128.77000427246094, 126.05000305175781, 126.95999908447266, 126.37000274658203, 125.44000244140625, 128.08999633789062, 128.74000549316406, 127.95999908447266, 126.87999725341797, 129.3000030517578, 129.3300018310547, 130.52000427246094, 132.64999389648438, 134.1199951171875, 135.5500030517578, 132.91000366210938, 133.52999877929688, 133.97999572753906, 136.25999450683594, 136.5, 138.41000366210938, 138.41000366210938, 139.8000030517578, 139.52000427246094, 138.94000244140625, 137.8800048828125, 135.00999450683594, 133.19000244140625, 135.47999572753906, 133.22000122070312, 135.1199951171875, 136.39999389648438, 140.42999267578125, 137.83999633789062, 139.77000427246094, 141.39999389648438, 141.75999450683594, 142.4499969482422, 145.25, 148.16000366210938, 147.61000061035156, 146.9600067138672, 147.02000427246094, 147.83999633789062, 147.16000366210938, 146.8699951171875, 147.55999755859375, 146.0, 148.8699951171875, 147.57000732421875, 143.91000366210938, 138.02999877929688, 137.14999389648438, 137.67999267578125, 141.13999938964844, 141.0399932861328, 142.7100067138672, 144.44000244140625, 145.1699981689453, 145.82000732421875, 145.50999450683594, 144.4499969482422, 146.57000732421875, 145.0399932861328, 145.72999572753906, 145.02000427246094, 145.7100067138672, 145.52999877929688, 146.4600067138672, 147.8300018310547, 152.3000030517578, 151.67999267578125, 152.99000549316406, 154.8000030517578, 152.13999938964844, 152.67999267578125, 153.2100067138672, 148.64999389648438, 148.8300018310547, 150.42999267578125, 151.32000732421875, 152.83999633789062, 155.3699951171875, 158.17999267578125, 157.49000549316406, 154.9199981689453, 156.0, 152.89999389648438, 155.5, 155.52000427246094, 158.77999877929688, 158.8699951171875, 158.3300018310547, 160.42999267578125, 159.02999877929688, 159.86000061035156, 157.25999450683594, 159.10000610351562, 154.89999389648438, 155.07000732421875, 148.64999389648438, 148.5, 137.80999755859375, 139.24000549316406, 146.74000549316406, 141.9499969482422, 147.44000244140625, 147.00999450683594, 142.83999633789062, 140.49000549316406, 142.9499969482422, 140.66000366210938, 133.25999450683594, 140.8000030517578, 135.52000427246094, 130.99000549316406, 132.1699981689453, 137.24000549316406, 139.58999633789062, 136.7899932861328, 135.44000244140625, 133.9499969482422, 141.7899932861328, 141.8699951171875, 136.9199981689453, 130.5, 132.16000366210938, 129.35000610351562, 132.49000549316406, 132.5500030517578, 121.01000213623047, 120.66999816894531, 123.58999633789062, 122.02999877929688, 126.41000366210938, 127.54000091552734, 140.63999938964844, 139.72000122070312, 142.75999450683594, 144.14999389648438, 139.24000549316406, 142.05999755859375, 135.9499969482422, 137.27000427246094, 136.7899932861328, 140.08999633789062, 141.13999938964844, 137.0399932861328, 130.8300018310547, 132.32000732421875, 131.16000366210938, 127.7300033569336, 122.91000366210938, 121.33000183105469, 130.83999633789062, 135.1999969482422, 134.67999267578125, 136.97000122070312, 135.5500030517578, 130.39999389648438, 137.9600067138672, 142.22000122070312, 145.72000122070312, 145.99000549316406, 147.0399932861328, 147.5500030517578, 146.0500030517578, 149.19000244140625, 148.5399932861328, 149.82000732421875, 152.50999450683594, 148.9499969482422, 149.75, 146.8699951171875, 149.74000549316406, 147.3300018310547, 145.17999267578125, 149.16000366210938, 151.97000122070312, 155.8699951171875, 157.72000122070312, 158.99000549316406, 158.1300048828125, 154.92999267578125, 156.6699981689453, 159.91000366210938, 162.7899932861328, 160.39999389648438, 159.47000122070312, 159.0500030517578, 160.61000061035156, 158.5399932861328, 159.6300048828125, 161.30999755859375, 161.36000061035156, 163.0, 163.1199951171875, 163.64999389648438, 164.52999877929688, 158.5, 156.97000122070312, 156.7899932861328, 155.60000610351562, 155.05999755859375, 157.64999389648438, 158.27999877929688, 159.80999755859375, 160.6699981689453, 161.50999450683594, 161.9499969482422, 163.92999267578125, 163.50999450683594, 166.9499969482422, 161.5, 160.8800048828125, 159.39999389648438, 155.1199951171875, 155.17999267578125, 158.3699951171875, 161.17999267578125, 160.50999450683594, 162.6199951171875, 158.52000427246094, 158.55999755859375, 158.47000122070312, 156.97000122070312, 160.24000549316406, 160.72999572753906, 160.7100067138672, 160.08999633789062, 158.69000244140625, 155.33999633789062, 155.99000549316406, 158.75999450683594, 161.22999572753906, 159.55999755859375, 163.08999633789062, 165.9600067138672, 165.36000061035156, 165.35000610351562, 162.14999389648438, 161.8300018310547, 163.33999633789062, 162.5, 156.89999389648438, 156.86000061035156, 156.30999755859375, 159.94000244140625, 153.14999389648438, 158.07000732421875, 155.05999755859375, 158.47999572753906, 154.57000732421875, 155.97999572753906, 155.77999877929688, 157.63999938964844, 153.7100067138672, 154.50999450683594, 155.19000244140625, 152.88999938964844, 155.66000366210938, 151.41000366210938, 145.10000610351562, 150.80999755859375, 158.44000244140625, 159.30999755859375, 161.27000427246094, 152.7899932861328, 150.14999389648438, 151.27999877929688, 151.33999633789062, 150.00999450683594, 150.2899932861328, 150.58999633789062, 154.13999938964844, 157.1999969482422, 156.83999633789062, 152.55999755859375, 149.33999633789062, 149.0399932861328, 150.69000244140625, 151.72999572753906, 154.05999755859375, 154.1199951171875, 155.58999633789062, 154.5800018310547, 152.80999755859375, 153.9499969482422, 156.27000427246094, 158.89999389648438, 158.0800018310547, 159.64999389648438, 157.1300048828125, 158.24000549316406, 157.97999572753906, 156.75, 157.6999969482422, 156.25, 159.75, 159.35000610351562, 159.97000122070312, 156.2100067138672, 156.9600067138672, 154.5, 150.80999755859375, 145.6999969482422, 142.82000732421875, 142.8000030517578, 141.63999938964844, 143.82000732421875, 143.3699951171875, 140.72000122070312, 143.8800048828125, 139.72000122070312, 142.1300048828125, 143.88999938964844, 143.6699981689453, 145.5399932861328, 147.3800048828125, 148.24000549316406, 151.57000732421875, 155.13999938964844, 153.57000732421875, 151.8300018310547, 155.92999267578125, 156.07000732421875, 152.72999572753906, 152.4600067138672, 153.77000427246094, 151.07000732421875, 149.5399932861328, 149.64999389648438, 154.08999633789062, 154.75, 152.97999572753906, 153.00999450683594, 152.82000732421875, 152.77000427246094, 153.60000610351562, 155.1999969482422, 154.64999389648438, 152.0500030517578, 152.99000549316406, 152.33999633789062, 148.25999450683594, 148.44000244140625, 147.69000244140625, 144.22000122070312, 147.0, 148.02999877929688, 148.8000030517578, 145.91000366210938, 147.0500030517578, 146.41000366210938, 149.3699951171875, 149.3699951171875, 152.74000549316406, 146.97000122070312, 146.1699981689453, 144.08999633789062, 144.5500030517578, 142.3300018310547, 145.1300048828125, 148.1199951171875, 150.49000549316406, 154.7899932861328, 155.08999633789062, 158.27999877929688, 156.49000549316406, 159.74000549316406, 157.60000610351562, 158.14999389648438, 158.92999267578125, 159.5, 161.11000061035156, 161.77999877929688, 162.86000061035156, 162.60000610351562, 163.0500030517578, 163.2100067138672, 162.77000427246094, 163.9600067138672, 164.1999969482422, 162.8800048828125, 162.80999755859375, 161.7100067138672, 162.5399932861328, 161.50999450683594, 162.88999938964844, 161.0, 161.57000732421875, 156.42999267578125, 158.22000122070312, 158.00999450683594, 157.47999572753906, 156.39999389648438, 156.38999938964844, 158.58999633789062, 161.1300048828125, 161.9600067138672, 161.6300048828125, 161.47999572753906, 163.3300018310547, 164.5500030517578, 163.74000549316406, 163.25, 164.50999450683594, 164.97999572753906, 162.44000244140625, 162.63999938964844, 166.99000549316406, 166.1699981689453, 173.4499969482422, 176.0, 177.3300018310547, 179.60000610351562, 180.1999969482422, 183.85000610351562, 182.1199951171875, 181.05999755859375, 182.69000244140625, 182.22999572753906, 185.27000427246094, 182.75, 183.97999572753906, 182.11000061035156, 180.7100067138672, 182.85000610351562, 181.77000427246094, 185.6699981689453, 182.30999755859375, 185.4199981689453, 188.33999633789062, 185.49000549316406, 186.72999572753906, 185.72000122070312, 189.1199951171875, 189.11000061035156, 189.4600067138672, 188.63999938964844, 189.9499969482422, 191.08999633789062, 192.8699951171875, 193.36000061035156, 189.5, 185.94000244140625, 181.27000427246094, 178.8699951171875, 172.14999389648438, 170.39999389648438, 176.75999450683594, 169.3699951171875, 175.69000244140625, 169.60000610351562, 164.0800018310547, 151.2100067138672, 161.33999633789062, 154.57000732421875, 140.58999633789062, 147.77999877929688, 124.30000305175781, 135.4199981689453, 132.24000549316406, 139.4600067138672, 139.35000610351562, 140.52000427246094, 153.63999938964844, 147.05999755859375, 154.72999572753906, 146.0, 149.85000610351562, 143.97999572753906, 134.05999755859375, 134.32000732421875, 134.30999755859375, 147.5500030517578, 145.07000732421875, 151.1199951171875, 154.5500030517578, 152.5, 157.7100067138672, 155.6300048828125, 157.05999755859375, 162.6199951171875, 162.75999450683594, 150.55999755859375, 154.13999938964844, 151.72000122070312, 153.97999572753906, 157.6300048828125, 154.4600067138672, 160.42999267578125, 161.9499969482422, 156.3699951171875, 161.47000122070312, 163.25, 163.6699981689453, 169.89999389648438, 175.89999389648438, 182.6699981689453, 177.5399932861328, 169.63999938964844, 167.0, 171.3300018310547, 172.5, 176.0399932861328, 176.92999267578125, 175.25999450683594, 177.85000610351562, 176.52000427246094, 176.60000610351562, 181.10000610351562, 174.7899932861328, 176.36000061035156, 174.22999572753906, 174.99000549316406, 171.44000244140625, 173.8800048828125, 176.5500030517578, 174.55999755859375, 182.10000610351562, 172.0500030517578, 175.11000061035156, 178.61000061035156, 180.47999572753906, 181.39999389648438, 187.66000366210938, 186.9499969482422, 191.64999389648438, 189.05999755859375, 185.5500030517578, 188.33999633789062, 183.1699981689453, 183.3300018310547, 187.3300018310547, 191.88999938964844, 192.52999877929688, 197.72000122070312, 196.3800048828125, 200.27999877929688, 200.74000549316406, 198.8800048828125, 188.33999633789062, 189.55999755859375, 188.08999633789062, 185.50999450683594, 187.77999877929688, 195.08999633789062, 190.8000030517578, 191.30999755859375, 188.5399932861328, 188.49000549316406, 190.9600067138672, 189.5, 193.61000061035156, 191.6999969482422, 194.85000610351562, 203.19000244140625, 201.41000366210938, 202.63999938964844, 207.7899932861328, 201.0500030517578, 197.16000366210938, 191.99000549316406, 192.6199951171875, 195.13999938964844, 193.4600067138672, 196.74000549316406, 204.00999450683594, 205.11000061035156, 209.50999450683594, 207.52999877929688, 208.4600067138672, 216.0500030517578, 272.32000732421875, 276.32000732421875, 271.1000061035156, 272.6499938964844, 281.25, 276.69000244140625, 265.010009765625, 254.6999969482422, 241.27000427246094, 250.42999267578125, 247.8000030517578, 243.10000610351562, 246.63999938964844, 251.67999267578125, 250.60000610351562, 244.52999877929688, 242.77999877929688, 245.0500030517578, 247.77999877929688, 235.99000549316406, 237.5500030517578, 242.74000549316406, 246.6699981689453, 247.4499969482422, 251.32000732421875, 253.4499969482422, 247.85000610351562, 251.52999877929688, 250.13999938964844, 259.9800109863281, 260.2200012207031, 265.9800109863281, 267.07000732421875, 266.8299865722656, 261.8299865722656, 257.7200012207031, 258.54998779296875, 255.00999450683594, 255.97000122070312, 254.22999572753906, 249.6699981689453, 250.52000427246094, 241.97999572753906, 250.3000030517578, 238.42999267578125, 237.13999938964844, 232.27000427246094, 232.4499969482422, 237.1300048828125, 250.74000549316406, 260.2200012207031, 260.1499938964844, 259.2799987792969, 247.66000366210938, 254.17999267578125, 249.4199981689453, 249.50999450683594, 249.88999938964844, 256.1700134277344, 257.1600036621094, 264.6499938964844, 258.0400085449219, 257.6400146484375, 260.8399963378906, 246.82000732421875, 247.6300048828125, 245.8000030517578, 241.35000610351562, 220.77999877929688, 220.97000122070312, 225.86000061035156, 227.6999969482422, 227.86000061035156, 220.57000732421875, 222.9199981689453, 222.4199981689453, 221.27000427246094, 220.14999389648438, 223.6199951171875, 225.9199981689453, 227.42999267578125, 226.47000122070312, 231.1699981689453, 227.42999267578125, 225.77999877929688, 224.63999938964844, 222.4600067138672, 222.39999389648438, 222.52999877929688, 220.30999755859375, 221.52000427246094, 216.14999389648438, 217.97999572753906, 222.0399932861328, 218.25, 215.52000427246094, 218.17999267578125, 215.60000610351562, 213.13999938964844, 216.75999450683594, 223.44000244140625, 222.1699981689453, 225.77000427246094, 225.9199981689453, 226.25999450683594, 224.77999877929688, 226.5, 225.55999755859375, 228.4600067138672, 234.1999969482422, 234.82000732421875, 237.97999572753906, 238.88999938964844], \"high\": [104.69999694824219, 106.13999938964844, 107.66000366210938, 108.30000305175781, 109.13999938964844, 109.33999633789062, 109.48999786376953, 109.4000015258789, 110.70999908447266, 111.44000244140625, 110.37999725341797, 112.16999816894531, 112.4000015258789, 112.95999908447266, 113.76000213623047, 113.83999633789062, 113.47000122070312, 113.91999816894531, 114.41000366210938, 113.44999694824219, 114.5199966430664, 114.2699966430664, 112.3499984741211, 111.61000061035156, 109.62000274658203, 112.29000091552734, 110.18000030517578, 108.11000061035156, 109.4800033569336, 108.08000183105469, 109.22000122070312, 113.43000030517578, 114.1500015258789, 115.26000213623047, 115.66999816894531, 115.0, 114.95999908447266, 116.80000305175781, 117.61000061035156, 118.1500015258789, 122.47000122070312, 122.33000183105469, 122.94000244140625, 124.69000244140625, 125.7699966430664, 127.29000091552734, 127.5, 128.1999969482422, 128.11000061035156, 128.8699951171875, 128.4600067138672, 127.94999694824219, 125.76000213623047, 126.83000183105469, 124.0199966430664, 120.66000366210938, 118.08000183105469, 119.26000213623047, 120.16000366210938, 114.86000061035156, 117.26000213623047, 117.68000030517578, 117.44999694824219, 119.68000030517578, 121.04000091552734, 118.9800033569336, 119.2300033569336, 120.12000274658203, 120.70999908447266, 121.7300033569336, 121.94000244140625, 120.9800033569336, 123.86000061035156, 124.73999786376953, 124.5199966430664, 124.37999725341797, 124.56999969482422, 123.52999877929688, 118.2300033569336, 122.06999969482422, 121.63999938964844, 121.69999694824219, 123.31999969482422, 123.97000122070312, 125.0, 125.83999633789062, 127.69000244140625, 128.9600067138672, 129.74000549316406, 131.0, 130.85000610351562, 131.0, 128.58999633789062, 128.97000122070312, 129.4600067138672, 127.72000122070312, 128.35000610351562, 127.05000305175781, 128.08999633789062, 129.3800048828125, 129.25, 127.54000091552734, 132.5500030517578, 130.99000549316406, 130.8699951171875, 132.8000030517578, 134.6300048828125, 135.7100067138672, 135.75, 133.67999267578125, 134.6699981689453, 137.5, 137.49000549316406, 139.75, 138.9499969482422, 140.19000244140625, 139.7100067138672, 142.1199951171875, 140.05999755859375, 137.3000030517578, 134.88999938964844, 137.1699981689453, 137.4199981689453, 135.88999938964844, 137.7100067138672, 140.47000122070312, 140.75, 139.88999938964844, 141.72999572753906, 142.8699951171875, 143.50999450683594, 145.63999938964844, 148.6999969482422, 148.0, 148.69000244140625, 147.44000244140625, 148.19000244140625, 148.0, 147.9199981689453, 147.63999938964844, 148.85000610351562, 149.35000610351562, 148.75, 148.27999877929688, 143.72999572753906, 139.7899932861328, 140.89999389648438, 141.3000030517578, 141.74000549316406, 142.85000610351562, 144.61000061035156, 145.63999938964844, 146.85000610351562, 147.0, 147.17999267578125, 146.77000427246094, 147.8800048828125, 146.91000366210938, 146.00999450683594, 146.05999755859375, 148.7899932861328, 147.1999969482422, 148.33999633789062, 152.3800048828125, 154.8800048828125, 153.39999389648438, 154.97000122070312, 153.74000549316406, 153.8699951171875, 153.33999633789062, 152.77999877929688, 149.16000366210938, 151.41000366210938, 151.5800018310547, 153.75, 155.77000427246094, 158.77999877929688, 158.7899932861328, 158.42999267578125, 158.02999877929688, 157.3300018310547, 156.07000732421875, 157.9600067138672, 158.91000366210938, 159.13999938964844, 159.92999267578125, 161.0800018310547, 160.86000061035156, 161.19000244140625, 159.5800018310547, 159.75999450683594, 158.83999633789062, 156.60000610351562, 154.6199951171875, 150.8699951171875, 147.58999633789062, 142.16000366210938, 148.75, 146.6999969482422, 147.91000366210938, 148.35000610351562, 147.58999633789062, 145.3699951171875, 143.8000030517578, 141.97000122070312, 141.5, 141.69000244140625, 139.2100067138672, 139.5500030517578, 132.99000549316406, 138.7100067138672, 139.8000030517578, 140.5500030517578, 137.33999633789062, 138.0, 142.30999755859375, 143.6300048828125, 141.05999755859375, 136.66000366210938, 133.77000427246094, 134.94000244140625, 132.9499969482422, 133.47000122070312, 132.25999450683594, 124.94000244140625, 125.75, 123.70999908447266, 126.94999694824219, 127.61000061035156, 140.88999938964844, 142.8800048828125, 143.22000122070312, 147.07000732421875, 145.1999969482422, 142.05999755859375, 142.3699951171875, 139.49000549316406, 140.6999969482422, 144.02999877929688, 143.6300048828125, 140.7100067138672, 135.5, 133.67999267578125, 136.5, 132.3300018310547, 129.38999938964844, 124.83999633789062, 130.89999389648438, 135.1999969482422, 136.8800048828125, 137.97000122070312, 136.8300018310547, 134.77999877929688, 139.32000732421875, 143.38999938964844, 146.4600067138672, 147.5, 147.2100067138672, 148.02999877929688, 146.72999572753906, 149.86000061035156, 149.7899932861328, 150.72000122070312, 153.27000427246094, 151.3800048828125, 150.8000030517578, 150.5, 149.88999938964844, 148.1999969482422, 148.0, 149.69000244140625, 153.3800048828125, 155.9499969482422, 158.89999389648438, 159.8800048828125, 159.10000610351562, 157.05999755859375, 156.6999969482422, 161.5, 163.38999938964844, 163.57000732421875, 160.44000244140625, 161.22000122070312, 161.47999572753906, 161.49000549316406, 160.47999572753906, 161.7100067138672, 163.05999755859375, 163.3800048828125, 163.52999877929688, 164.60000610351562, 166.14999389648438, 165.7899932861328, 160.8800048828125, 160.25, 157.58999633789062, 155.41000366210938, 157.77000427246094, 159.3699951171875, 162.0, 161.58999633789062, 162.17999267578125, 163.3300018310547, 164.6199951171875, 164.9499969482422, 166.99000549316406, 166.49000549316406, 161.60000610351562, 162.07000732421875, 159.3000030517578, 156.47999572753906, 158.5, 161.67999267578125, 160.99000549316406, 163.13999938964844, 162.8000030517578, 160.24000549316406, 158.7899932861328, 158.35000610351562, 160.3800048828125, 160.8300018310547, 162.5, 162.02999877929688, 160.25999450683594, 159.0500030517578, 156.2100067138672, 159.13999938964844, 161.39999389648438, 162.49000549316406, 163.88999938964844, 166.05999755859375, 167.55999755859375, 166.44000244140625, 166.22000122070312, 162.6999969482422, 163.5, 162.83999633789062, 161.6699981689453, 157.92999267578125, 157.10000610351562, 160.61000061035156, 156.89999389648438, 158.58999633789062, 156.3800048828125, 159.4499969482422, 157.16000366210938, 156.08999633789062, 157.83999633789062, 158.19000244140625, 156.33999633789062, 156.92999267578125, 157.80999755859375, 154.05999755859375, 155.8699951171875, 154.47999572753906, 150.6999969482422, 150.9199981689453, 158.5, 160.0, 162.99000549316406, 157.4499969482422, 155.7100067138672, 152.32000732421875, 152.24000549316406, 151.97999572753906, 151.27999877929688, 152.9499969482422, 154.47000122070312, 158.2899932861328, 157.7899932861328, 157.72999572753906, 152.97000122070312, 151.3800048828125, 150.75999450683594, 151.77000427246094, 154.74000549316406, 154.36000061035156, 155.75, 154.80999755859375, 153.69000244140625, 154.19000244140625, 156.39999389648438, 159.3000030517578, 159.6199951171875, 159.83999633789062, 161.61000061035156, 159.9199981689453, 158.5800018310547, 160.74000549316406, 159.0500030517578, 158.4499969482422, 160.25, 161.1300048828125, 160.82000732421875, 161.1999969482422, 158.22000122070312, 157.88999938964844, 157.77999877929688, 149.89999389648438, 143.75, 144.9600067138672, 143.10000610351562, 144.9600067138672, 144.47000122070312, 141.97000122070312, 145.0, 142.36000061035156, 143.3000030517578, 145.33999633789062, 146.13999938964844, 146.5, 148.38999938964844, 149.89999389648438, 158.4199981689453, 155.2100067138672, 155.89999389648438, 152.77999877929688, 156.0, 158.22000122070312, 155.32000732421875, 154.9199981689453, 154.74000549316406, 154.0500030517578, 152.14999389648438, 151.66000366210938, 154.64999389648438, 156.8000030517578, 154.91000366210938, 154.10000610351562, 153.4499969482422, 152.91000366210938, 154.25, 156.8800048828125, 155.1999969482422, 156.27000427246094, 153.2100067138672, 153.39999389648438, 153.14999389648438, 148.97000122070312, 150.16000366210938, 146.5, 147.05999755859375, 148.9199981689453, 149.3300018310547, 148.33999633789062, 147.85000610351562, 147.55999755859375, 150.7100067138672, 150.27999877929688, 152.97000122070312, 150.85000610351562, 148.0399932861328, 146.44000244140625, 145.19000244140625, 145.9600067138672, 145.57000732421875, 148.7899932861328, 150.66000366210938, 154.9199981689453, 156.1300048828125, 158.4199981689453, 158.27999877929688, 160.08999633789062, 161.25, 159.1199951171875, 160.0, 161.1300048828125, 161.2100067138672, 162.22999572753906, 164.3699951171875, 164.4199981689453, 163.5800018310547, 163.92999267578125, 164.0, 164.4499969482422, 166.33999633789062, 165.91000366210938, 163.49000549316406, 164.64999389648438, 162.61000061035156, 162.8300018310547, 163.41000366210938, 163.2100067138672, 161.85000610351562, 160.69000244140625, 158.9199981689453, 159.5, 158.89999389648438, 157.6699981689453, 156.8800048828125, 158.99000549316406, 161.49000549316406, 162.74000549316406, 162.3699951171875, 163.27999877929688, 163.33999633789062, 165.1699981689453, 164.8699951171875, 163.83999633789062, 164.52999877929688, 165.4600067138672, 164.94000244140625, 163.25999450683594, 167.07000732421875, 166.77000427246094, 173.6699981689453, 176.8699951171875, 178.85000610351562, 179.89999389648438, 180.67999267578125, 184.4499969482422, 183.85000610351562, 183.08999633789062, 183.11000061035156, 183.33999633789062, 186.0, 186.44000244140625, 184.3000030517578, 186.1300048828125, 181.72999572753906, 183.86000061035156, 184.10000610351562, 185.94000244140625, 186.02999877929688, 185.8699951171875, 189.69000244140625, 190.5500030517578, 187.55999755859375, 188.64999389648438, 189.27000427246094, 192.60000610351562, 190.52000427246094, 191.0500030517578, 190.25, 191.5, 193.9199981689453, 195.72000122070312, 192.0399932861328, 187.14999389648438, 189.97999572753906, 182.6699981689453, 178.3300018310547, 171.77000427246094, 176.7899932861328, 178.4199981689453, 175.80999755859375, 173.75, 167.57000732421875, 157.7100067138672, 161.47000122070312, 159.6199951171875, 151.22999572753906, 149.5, 141.5500030517578, 138.00999450683594, 133.4199981689453, 144.0, 146.1999969482422, 143.72000122070312, 154.13999938964844, 158.02000427246094, 155.0800018310547, 151.4499969482422, 153.0, 151.9499969482422, 139.05999755859375, 135.38999938964844, 136.19000244140625, 149.85000610351562, 150.8000030517578, 152.16000366210938, 156.10000610351562, 155.30999755859375, 158.7899932861328, 157.27000427246094, 158.0, 163.25999450683594, 164.30999755859375, 160.08999633789062, 155.6999969482422, 156.47000122070312, 154.5, 158.44000244140625, 160.80999755859375, 161.88999938964844, 165.3000030517578, 160.1699981689453, 162.02000427246094, 164.13999938964844, 165.7100067138672, 171.27000427246094, 176.0800018310547, 183.3000030517578, 183.02000427246094, 175.2100067138672, 168.57000732421875, 171.72000122070312, 177.0, 178.1999969482422, 179.13999938964844, 178.2899932861328, 178.63999938964844, 182.0, 176.61000061035156, 184.8000030517578, 175.0, 177.52000427246094, 174.89999389648438, 175.92999267578125, 175.42999267578125, 174.19000244140625, 176.57000732421875, 176.0, 182.5, 178.42999267578125, 177.69000244140625, 178.89999389648438, 182.5, 182.75, 189.0, 191.25, 192.5, 194.08999633789062, 189.3000030517578, 188.77000427246094, 188.22000122070312, 183.7100067138672, 187.88999938964844, 192.82000732421875, 195.38999938964844, 199.4499969482422, 200.22000122070312, 201.1999969482422, 202.82000732421875, 200.72999572753906, 200.25999450683594, 189.9600067138672, 192.10000610351562, 186.86000061035156, 188.39999389648438, 195.30999755859375, 196.5, 191.8699951171875, 194.57000732421875, 188.94000244140625, 191.55999755859375, 192.97000122070312, 194.55999755859375, 191.9199981689453, 194.99000549316406, 204.7899932861328, 203.38999938964844, 203.89999389648438, 209.9499969482422, 206.94000244140625, 201.47999572753906, 195.83999633789062, 195.4199981689453, 198.07000732421875, 195.47999572753906, 197.07000732421875, 204.8000030517578, 207.10000610351562, 210.11000061035156, 210.0, 209.2899932861328, 218.35000610351562, 277.9700012207031, 278.2799987792969, 275.75, 274.7099914550781, 281.92999267578125, 284.5, 271.75, 265.6700134277344, 253.67999267578125, 253.4499969482422, 256.510009765625, 251.3000030517578, 248.8699951171875, 251.94000244140625, 255.42999267578125, 248.82000732421875, 248.11000061035156, 245.1300048828125, 248.57000732421875, 248.77000427246094, 239.9600067138672, 243.9499969482422, 248.5800018310547, 247.89999389648438, 255.41000366210938, 254.6699981689453, 254.9499969482422, 253.27999877929688, 257.2900085449219, 260.739990234375, 264.6199951171875, 266.04998779296875, 270.0, 268.7900085449219, 270.1600036621094, 260.5199890136719, 262.5199890136719, 261.4800109863281, 259.17999267578125, 258.30999755859375, 255.22000122070312, 250.57000732421875, 248.11000061035156, 251.75, 245.4499969482422, 242.52000427246094, 237.75, 238.5, 240.94000244140625, 252.8800048828125, 260.9200134277344, 261.75, 270.9200134277344, 259.0, 256.739990234375, 254.97000122070312, 253.7899932861328, 253.49000549316406, 258.2699890136719, 262.6600036621094, 267.0899963378906, 265.0199890136719, 261.739990234375, 262.30999755859375, 266.1000061035156, 251.83999633789062, 247.6300048828125, 246.6999969482422, 226.0, 226.11000061035156, 228.60000610351562, 229.8699951171875, 229.5, 228.83999633789062, 224.30999755859375, 222.74000549316406, 223.47000122070312, 222.13999938964844, 224.0, 226.72999572753906, 227.82000732421875, 227.44000244140625, 231.8699951171875, 233.17999267578125, 229.19000244140625, 227.83999633789062, 225.3000030517578, 223.63999938964844, 222.7899932861328, 223.75, 223.0, 220.4600067138672, 220.66000366210938, 222.32000732421875, 220.5800018310547, 218.3000030517578, 218.89999389648438, 219.5, 217.8699951171875, 217.27999877929688, 224.63999938964844, 224.74000549316406, 227.7899932861328, 230.3000030517578, 227.91000366210938, 227.80999755859375, 229.60000610351562, 228.7899932861328, 229.89999389648438, 235.9499969482422, 236.0, 238.22999572753906, 239.36000061035156], \"low\": [102.2699966430664, 104.62000274658203, 105.7699966430664, 107.19999694824219, 107.56999969482422, 108.25, 108.2300033569336, 108.66999816894531, 108.91000366210938, 108.2300033569336, 109.2300033569336, 110.22000122070312, 111.61000061035156, 111.01000213623047, 112.68000030517578, 112.5, 111.9000015258789, 112.02999877929688, 112.8499984741211, 111.83999633789062, 112.63999938964844, 112.52999877929688, 110.70999908447266, 107.5, 103.69000244140625, 108.80999755859375, 104.0, 102.37000274658203, 106.26000213623047, 105.93000030517578, 106.7300033569336, 110.05000305175781, 112.66999816894531, 112.27999877929688, 114.16999816894531, 112.4800033569336, 112.73999786376953, 115.37000274658203, 115.76000213623047, 116.22000122070312, 118.05000305175781, 117.63999938964844, 119.66000366210938, 122.75, 123.18000030517578, 125.69999694824219, 126.25, 126.77999877929688, 125.7300033569336, 126.51000213623047, 126.66999816894531, 125.69000244140625, 123.47000122070312, 124.44999694824219, 120.19999694824219, 117.44000244140625, 114.30999755859375, 115.04000091552734, 112.72000122070312, 111.33999633789062, 112.5199966430664, 113.61000061035156, 114.5999984741211, 114.0, 118.66999816894531, 114.94999694824219, 117.13999938964844, 117.68000030517578, 118.87000274658203, 119.33999633789062, 118.5, 118.66000366210938, 120.01000213623047, 122.2300033569336, 123.18000030517578, 122.05000305175781, 121.23999786376953, 116.91000366210938, 115.04000091552734, 118.16000366210938, 119.55000305175781, 119.77999877929688, 120.41999816894531, 121.73999786376953, 121.66999816894531, 122.9800033569336, 125.45999908447266, 126.5, 127.33000183105469, 129.0500030517578, 128.88999938964844, 127.16000366210938, 126.08999633789062, 127.91999816894531, 125.55000305175781, 125.87000274658203, 126.0, 125.26000213623047, 124.58000183105469, 127.38999938964844, 127.62000274658203, 126.12000274658203, 127.83999633789062, 128.41000366210938, 128.35000610351562, 129.60000610351562, 132.97000122070312, 134.1199951171875, 130.72999572753906, 130.82000732421875, 133.25999450683594, 134.64999389648438, 135.60000610351562, 136.88999938964844, 136.8000030517578, 136.91000366210938, 137.22999572753906, 138.82000732421875, 137.1199951171875, 133.9499969482422, 131.6699981689453, 133.82000732421875, 133.10000610351562, 133.19000244140625, 135.89999389648438, 135.3000030517578, 137.7100067138672, 138.22000122070312, 139.00999450683594, 139.8800048828125, 141.50999450683594, 141.02000427246094, 145.8000030517578, 145.41000366210938, 146.82000732421875, 143.0800018310547, 145.75999450683594, 146.61000061035156, 146.69000244140625, 144.8000030517578, 145.17999267578125, 146.0, 145.67999267578125, 142.3800048828125, 135.52000427246094, 135.38999938964844, 137.50999450683594, 136.75, 138.4199981689453, 140.64999389648438, 142.72999572753906, 143.16000366210938, 145.08999633789062, 144.35000610351562, 144.22000122070312, 144.57000732421875, 143.60000610351562, 145.22000122070312, 143.9499969482422, 144.32000732421875, 145.36000061035156, 145.0500030517578, 146.07000732421875, 148.5, 150.1999969482422, 151.55999755859375, 153.0500030517578, 149.5, 151.89999389648438, 151.50999450683594, 147.0800018310547, 147.0800018310547, 147.5, 148.0, 150.6199951171875, 151.80999755859375, 155.82000732421875, 156.32000732421875, 154.6199951171875, 154.75, 152.38999938964844, 151.64999389648438, 154.9600067138672, 153.3300018310547, 157.1699981689453, 157.35000610351562, 158.92999267578125, 158.94000244140625, 159.02000427246094, 156.6999969482422, 157.02000427246094, 153.77999877929688, 152.47000122070312, 145.60000610351562, 147.2100067138672, 137.5399932861328, 136.4499969482422, 143.22000122070312, 141.32000732421875, 144.00999450683594, 145.4199981689453, 141.42999267578125, 140.3800048828125, 139.1999969482422, 137.77999877929688, 133.0, 133.6699981689453, 132.61000061035156, 128.52999877929688, 128.02999877929688, 134.77000427246094, 136.41000366210938, 136.10000610351562, 133.4600067138672, 132.97999572753906, 136.42999267578125, 140.67999267578125, 135.0500030517578, 130.0800018310547, 128.9499969482422, 128.5800018310547, 126.30000305175781, 130.0800018310547, 120.41999816894531, 113.5999984741211, 121.61000061035156, 120.70999908447266, 123.66000366210938, 123.72000122070312, 131.97000122070312, 139.27000427246094, 138.27999877929688, 142.55999755859375, 138.8000030517578, 132.75, 134.74000549316406, 133.17999267578125, 135.58999633789062, 139.5500030517578, 139.5800018310547, 136.3800048828125, 129.97000122070312, 130.1300048828125, 129.5, 122.63999938964844, 122.45999908447266, 120.16000366210938, 122.12000274658203, 127.83999633789062, 132.61000061035156, 134.49000549316406, 133.0500030517578, 130.10000610351562, 132.22000122070312, 138.7899932861328, 142.88999938964844, 144.52999877929688, 143.75999450683594, 145.61000061035156, 144.6999969482422, 145.8000030517578, 147.8000030517578, 147.69000244140625, 150.24000549316406, 147.39999389648438, 147.64999389648438, 146.52000427246094, 147.5500030517578, 146.10000610351562, 144.63999938964844, 146.0800018310547, 148.7100067138672, 151.07000732421875, 155.41000366210938, 157.82000732421875, 155.0800018310547, 153.36000061035156, 152.7100067138672, 157.57000732421875, 160.02999877929688, 160.27000427246094, 156.7100067138672, 158.08999633789062, 159.13999938964844, 157.2100067138672, 157.3000030517578, 160.1999969482422, 160.92999267578125, 159.8699951171875, 160.5, 162.1699981689453, 161.75, 155.4199981689453, 154.8000030517578, 156.27999877929688, 154.80999755859375, 150.25, 153.42999267578125, 157.16000366210938, 158.61000061035156, 159.74000549316406, 159.19000244140625, 160.8800048828125, 161.60000610351562, 161.50999450683594, 162.75, 161.35000610351562, 159.22000122070312, 157.38999938964844, 152.3699951171875, 153.50999450683594, 155.42999267578125, 158.50999450683594, 158.91000366210938, 160.64999389648438, 155.8300018310547, 158.02000427246094, 156.4499969482422, 156.64999389648438, 157.64999389648438, 159.02000427246094, 159.5, 159.49000549316406, 157.75, 155.07000732421875, 153.1699981689453, 155.27999877929688, 158.41000366210938, 159.39999389648438, 161.0, 161.27999877929688, 165.3300018310547, 163.6199951171875, 162.13999938964844, 159.6300048828125, 160.86000061035156, 157.86000061035156, 154.75, 155.0399932861328, 152.38999938964844, 154.3800048828125, 152.77999877929688, 152.9199981689453, 151.6999969482422, 155.89999389648438, 153.1699981689453, 151.6999969482422, 155.17999267578125, 155.83999633789062, 152.14999389648438, 154.16000366210938, 154.38999938964844, 151.1999969482422, 153.89999389648438, 151.25999450683594, 143.38999938964844, 142.50999450683594, 154.5500030517578, 157.3300018310547, 159.5, 150.8300018310547, 148.7899932861328, 150.14999389648438, 150.25, 149.47999572753906, 149.8699951171875, 150.5, 150.50999450683594, 155.4199981689453, 155.94000244140625, 152.50999450683594, 148.58999633789062, 148.9199981689453, 148.47000122070312, 149.60000610351562, 151.85000610351562, 152.5800018310547, 154.16000366210938, 152.57000732421875, 152.0399932861328, 151.67999267578125, 154.57000732421875, 156.6199951171875, 157.39999389648438, 157.47999572753906, 156.8000030517578, 157.66000366210938, 156.2100067138672, 156.2899932861328, 157.14999389648438, 155.27999877929688, 155.6999969482422, 158.6699981689453, 158.72999572753906, 155.52000427246094, 154.6199951171875, 152.3000030517578, 150.41000366210938, 145.30999755859375, 139.8000030517578, 141.9600067138672, 139.05999755859375, 142.32000732421875, 141.69000244140625, 140.0500030517578, 140.42999267578125, 137.8699951171875, 139.75, 142.52000427246094, 142.8800048828125, 143.05999755859375, 146.16000366210938, 145.47000122070312, 150.64999389648438, 151.52000427246094, 152.52999877929688, 150.8699951171875, 152.66000366210938, 153.6999969482422, 151.75999450683594, 152.32000732421875, 151.9499969482422, 150.77000427246094, 148.08999633789062, 147.74000549316406, 149.0399932861328, 154.41000366210938, 152.74000549316406, 151.36000061035156, 151.72999572753906, 150.57000732421875, 152.77000427246094, 153.6199951171875, 152.9600067138672, 151.08999633789062, 148.89999389648438, 151.83999633789062, 146.75, 147.41000366210938, 147.25, 143.1999969482422, 142.0800018310547, 146.2100067138672, 147.0, 145.80999755859375, 146.61000061035156, 145.50999450683594, 148.08999633789062, 148.8000030517578, 149.6199951171875, 145.82000732421875, 145.50999450683594, 142.39999389648438, 143.0, 142.13999938964844, 141.49000549316406, 146.39999389648438, 146.3000030517578, 149.42999267578125, 154.4199981689453, 155.00999450683594, 155.2100067138672, 156.75, 156.69000244140625, 155.47000122070312, 157.75, 158.0800018310547, 158.91000366210938, 160.25, 161.58999633789062, 162.02000427246094, 162.38999938964844, 160.99000549316406, 161.88999938964844, 161.83999633789062, 162.25, 162.2100067138672, 161.3800048828125, 161.4499969482422, 161.30999755859375, 161.11000061035156, 161.32000732421875, 158.10000610351562, 156.19000244140625, 154.5, 155.25, 157.58999633789062, 157.05999755859375, 156.1699981689453, 155.47999572753906, 155.30999755859375, 158.5500030517578, 160.82000732421875, 159.74000549316406, 161.47999572753906, 160.8300018310547, 163.6300048828125, 163.35000610351562, 162.8800048828125, 163.27000427246094, 163.89999389648438, 161.1999969482422, 161.8000030517578, 163.5800018310547, 165.0, 164.4499969482422, 172.08999633789062, 174.75, 177.2899932861328, 178.69000244140625, 181.1300048828125, 182.0399932861328, 180.6199951171875, 180.9600067138672, 181.36000061035156, 181.5, 182.69000244140625, 181.3000030517578, 181.1300048828125, 177.3000030517578, 180.35000610351562, 181.6199951171875, 180.5399932861328, 180.7899932861328, 181.85000610351562, 186.64999389648438, 182.86000061035156, 184.24000549316406, 185.64999389648438, 185.55999755859375, 188.64999389648438, 186.77000427246094, 188.4199981689453, 188.10000610351562, 188.9199981689453, 191.8000030517578, 189.77000427246094, 186.72000122070312, 178.7899932861328, 179.42999267578125, 174.25, 170.0500030517578, 163.1199951171875, 168.58999633789062, 167.08999633789062, 169.6300048828125, 168.10000610351562, 158.5399932861328, 150.63999938964844, 151.0, 150.14999389648438, 140.10000610351562, 135.32000732421875, 123.38999938964844, 122.91999816894531, 115.29000091552734, 128.86000061035156, 134.60000610351562, 134.08999633789062, 143.17999267578125, 146.9600067138672, 147.72999572753906, 144.91000366210938, 146.55999755859375, 142.77999877929688, 133.10000610351562, 130.0399932861328, 131.66000366210938, 138.3000030517578, 144.50999450683594, 145.0, 151.67999267578125, 150.0, 155.14999389648438, 154.0, 154.25, 157.6300048828125, 160.52000427246094, 148.0, 150.6699981689453, 151.5, 151.3000030517578, 154.1999969482422, 154.17999267578125, 156.52000427246094, 160.00999450683594, 155.25999450683594, 155.0800018310547, 160.25, 162.9199981689453, 166.02000427246094, 171.14999389648438, 174.16000366210938, 177.00999450683594, 166.27000427246094, 164.57000732421875, 166.17999267578125, 172.1300048828125, 172.75, 174.89999389648438, 174.92999267578125, 175.4499969482422, 176.22000122070312, 171.3699951171875, 177.10000610351562, 170.69000244140625, 172.67999267578125, 171.22000122070312, 172.83999633789062, 170.0, 167.0, 172.66000366210938, 173.52999877929688, 176.0500030517578, 172.0, 171.86000061035156, 171.27000427246094, 178.00999450683594, 180.67999267578125, 181.6199951171875, 185.49000549316406, 187.0, 188.58999633789062, 184.0399932861328, 184.44000244140625, 183.02000427246094, 180.0, 183.1300048828125, 187.4600067138672, 192.2899932861328, 193.83999633789062, 196.2100067138672, 197.35000610351562, 195.63999938964844, 197.0800018310547, 188.02999877929688, 183.3000030517578, 186.75, 181.92999267578125, 183.36000061035156, 187.27000427246094, 189.47999572753906, 188.8699951171875, 187.50999450683594, 184.3800048828125, 188.64999389648438, 189.0500030517578, 189.75, 187.3699951171875, 190.6699981689453, 196.57000732421875, 198.89999389648438, 201.5800018310547, 202.39999389648438, 198.5800018310547, 195.72000122070312, 191.72000122070312, 192.1199951171875, 193.22999572753906, 192.52000427246094, 194.4199981689453, 199.0, 200.02999877929688, 203.50999450683594, 206.25, 205.14999389648438, 210.8000030517578, 249.47000122070312, 260.8399963378906, 267.3999938964844, 265.9100036621094, 270.5799865722656, 268.57000732421875, 257.4100036621094, 243.1999969482422, 240.13999938964844, 242.9600067138672, 246.97000122070312, 239.4499969482422, 244.0399932861328, 248.50999450683594, 250.22999572753906, 241.30999755859375, 238.7100067138672, 236.8000030517578, 241.25999450683594, 235.35000610351562, 233.6300048828125, 235.0500030517578, 242.2100067138672, 244.5, 246.22000122070312, 250.80999755859375, 247.2100067138672, 249.0, 249.0, 252.1999969482422, 257.0799865722656, 261.5, 265.2900085449219, 264.2300109863281, 258.75, 254.02000427246094, 258.489990234375, 254.5, 254.0500030517578, 251.85000610351562, 246.1300048828125, 246.80999755859375, 237.3800048828125, 245.77000427246094, 238.00999450683594, 237.1300048828125, 228.66000366210938, 228.99000549316406, 233.27999877929688, 243.24000549316406, 255.44000244140625, 254.49000549316406, 257.25, 242.89999389648438, 251.2100067138672, 246.36000061035156, 247.55999755859375, 248.17999267578125, 250.4600067138672, 255.85000610351562, 255.66000366210938, 257.82000732421875, 254.61000061035156, 257.82000732421875, 245.0500030517578, 247.02999877929688, 236.07000732421875, 238.6999969482422, 215.6300048828125, 220.1300048828125, 221.82000732421875, 226.25, 225.66000366210938, 220.07000732421875, 220.16000366210938, 219.97999572753906, 220.4499969482422, 218.1999969482422, 220.25, 224.5, 224.39999389648438, 224.7100067138672, 226.60000610351562, 227.11000061035156, 224.8300018310547, 222.0500030517578, 220.86000061035156, 221.5800018310547, 220.1699981689453, 215.72000122070312, 217.99000549316406, 215.77999877929688, 216.5, 219.22000122070312, 216.22999572753906, 214.08999633789062, 215.52999877929688, 215.5500030517578, 212.99000549316406, 213.6999969482422, 219.97000122070312, 220.82000732421875, 223.75, 221.32000732421875, 224.5399932861328, 221.5800018310547, 225.0, 223.02000427246094, 224.75, 231.3800048828125, 232.25999450683594, 235.47000122070312, 236.41000366210938], \"open\": [102.87999725341797, 104.9000015258789, 106.0, 107.76000213623047, 108.0, 109.0, 108.68000030517578, 109.0, 109.2300033569336, 110.8499984741211, 109.75, 110.2300033569336, 112.20999908447266, 111.62999725341797, 113.18000030517578, 113.62999725341797, 113.27999877929688, 112.72000122070312, 113.69999694824219, 112.41999816894531, 113.05999755859375, 113.30000305175781, 112.02999877929688, 109.1500015258789, 105.01000213623047, 109.06999969482422, 110.0999984741211, 105.31999969482422, 107.69999694824219, 108.01000213623047, 106.7300033569336, 112.30999755859375, 112.83999633789062, 112.44999694824219, 114.7699966430664, 114.5199966430664, 113.62999725341797, 116.11000061035156, 117.30000305175781, 117.0, 120.91000366210938, 118.6500015258789, 120.0, 122.87000274658203, 123.37999725341797, 125.76000213623047, 127.19000244140625, 127.87000274658203, 127.88999938964844, 127.05000305175781, 128.0, 127.29000091552734, 125.02999877929688, 124.58999633789062, 121.55999755859375, 120.4000015258789, 118.01000213623047, 118.23999786376953, 120.08999633789062, 113.1500015258789, 113.91000366210938, 115.91000366210938, 116.76000213623047, 114.05999755859375, 120.4000015258789, 118.0999984741211, 117.13999938964844, 118.91999816894531, 119.33000183105469, 120.0, 121.94000244140625, 120.94999694824219, 120.4000015258789, 123.52999877929688, 124.04000091552734, 124.01000213623047, 123.19000244140625, 123.33999633789062, 117.7699966430664, 118.69999694824219, 121.62999725341797, 120.87000274658203, 120.87999725341797, 122.29000091552734, 122.62000274658203, 124.37999725341797, 125.79000091552734, 126.58999633789062, 128.8800048828125, 129.9499969482422, 130.0, 130.7899932861328, 126.93000030517578, 128.7100067138672, 129.19000244140625, 126.05999755859375, 128.0, 126.66000366210938, 124.87999725341797, 128.80999755859375, 128.72999572753906, 126.75, 132.3000030517578, 129.3699951171875, 129.8800048828125, 130.38999938964844, 133.13999938964844, 134.3300018310547, 135.5500030517578, 131.6999969482422, 133.8800048828125, 134.9600067138672, 136.3699951171875, 137.0, 138.07000732421875, 137.00999450683594, 138.0800018310547, 140.0, 139.07000732421875, 137.25999450683594, 134.24000549316406, 134.75999450683594, 136.67999267578125, 133.99000549316406, 136.27999877929688, 136.14999389648438, 140.60000610351562, 139.25999450683594, 140.19000244140625, 142.64999389648438, 142.3000030517578, 141.2100067138672, 145.8000030517578, 147.75, 147.83999633789062, 145.41000366210938, 147.02000427246094, 147.0, 147.44000244140625, 146.8699951171875, 148.5500030517578, 146.1300048828125, 147.97999572753906, 148.25, 143.5399932861328, 138.67999267578125, 138.0, 137.0500030517578, 141.52999877929688, 140.88999938964844, 143.52999877929688, 144.4600067138672, 145.3000030517578, 144.92999267578125, 145.6300048828125, 146.17999267578125, 146.0800018310547, 146.50999450683594, 145.5, 145.2100067138672, 146.41000366210938, 145.58999633789062, 146.8300018310547, 148.5, 154.7100067138672, 152.02999877929688, 153.3300018310547, 151.1199951171875, 152.13999938964844, 152.11000061035156, 152.38999938964844, 148.75, 147.83999633789062, 150.0, 151.0800018310547, 152.83999633789062, 155.8699951171875, 157.9499969482422, 157.0, 154.75999450683594, 156.3699951171875, 153.2899932861328, 157.07000732421875, 155.3800048828125, 159.0, 159.05999755859375, 159.0500030517578, 160.0, 160.11000061035156, 159.27000427246094, 158.55999755859375, 158.1999969482422, 154.86000061035156, 154.24000549316406, 148.32000732421875, 147.52000427246094, 137.44000244140625, 145.77000427246094, 146.6999969482422, 145.47000122070312, 148.35000610351562, 146.08999633789062, 143.61000061035156, 141.6999969482422, 139.32000732421875, 141.22999572753906, 133.69000244140625, 135.75, 138.10000610351562, 130.44000244140625, 134.9199981689453, 138.39999389648438, 140.13999938964844, 137.33999633789062, 135.39999389648438, 136.85000610351562, 143.22000122070312, 141.05999755859375, 135.74000549316406, 131.47999572753906, 134.2100067138672, 129.1999969482422, 131.85000610351562, 131.60000610351562, 114.33000183105469, 124.19999694824219, 121.33000183105469, 124.4800033569336, 125.1500015258789, 138.47999572753906, 139.85000610351562, 138.88999938964844, 146.3000030517578, 142.72999572753906, 134.8000030517578, 141.89999389648438, 135.16000366210938, 140.58999633789062, 141.7899932861328, 141.5, 138.8800048828125, 134.30999755859375, 132.13999938964844, 131.97999572753906, 129.25, 128.57000732421875, 121.13999938964844, 122.5199966430664, 128.8000030517578, 136.0, 136.0, 133.39999389648438, 133.47999572753906, 133.5, 141.02000427246094, 144.72999572753906, 146.88999938964844, 143.77000427246094, 146.55999755859375, 145.75, 146.35000610351562, 149.14999389648438, 148.5399932861328, 151.8300018310547, 150.33999633789062, 149.72999572753906, 149.9499969482422, 148.52999877929688, 148.1699981689453, 147.07000732421875, 147.19000244140625, 149.02000427246094, 152.39999389648438, 156.02000427246094, 158.33999633789062, 159.0, 155.9600067138672, 152.91000366210938, 158.1999969482422, 161.25, 163.44000244140625, 159.47000122070312, 160.99000549316406, 159.66000366210938, 160.3300018310547, 157.6999969482422, 160.47000122070312, 162.50999450683594, 160.80999755859375, 162.2899932861328, 163.0, 165.14999389648438, 165.55999755859375, 159.9199981689453, 157.1300048828125, 156.08999633789062, 152.02000427246094, 155.89999389648438, 158.0, 158.85000610351562, 160.9499969482422, 160.63999938964844, 161.39999389648438, 162.52000427246094, 163.83999633789062, 163.1699981689453, 165.9600067138672, 160.22999572753906, 161.42999267578125, 159.0, 155.69000244140625, 156.8699951171875, 160.10000610351562, 160.86000061035156, 161.77999877929688, 162.7100067138672, 159.6300048828125, 158.39999389648438, 157.0399932861328, 158.1999969482422, 160.16000366210938, 162.0, 161.0, 160.0399932861328, 159.0500030517578, 154.89999389648438, 155.4499969482422, 159.75999450683594, 161.8800048828125, 162.0, 162.4199981689453, 166.7100067138672, 165.19000244140625, 166.00999450683594, 161.69000244140625, 162.5800018310547, 158.6199951171875, 161.3300018310547, 157.11000061035156, 154.64999389648438, 156.27999877929688, 154.9199981689453, 155.0500030517578, 153.82000732421875, 156.75999450683594, 156.17999267578125, 152.47000122070312, 157.36000061035156, 155.8699951171875, 156.02999877929688, 154.88999938964844, 155.35000610351562, 153.75999450683594, 154.32000732421875, 152.66000366210938, 150.6999969482422, 146.0500030517578, 157.14999389648438, 158.5, 159.83999633789062, 153.47999572753906, 155.30999755859375, 151.11000061035156, 152.16000366210938, 151.0399932861328, 150.1999969482422, 151.8800048828125, 151.69000244140625, 156.2899932861328, 156.6699981689453, 157.38999938964844, 152.8300018310547, 151.27999877929688, 149.88999938964844, 150.4199981689453, 154.57000732421875, 154.2899932861328, 154.5399932861328, 153.9499969482422, 153.52000427246094, 152.0800018310547, 154.57000732421875, 156.82000732421875, 159.39999389648438, 158.75999450683594, 159.9600067138672, 157.67999267578125, 157.0, 159.72999572753906, 157.64999389648438, 157.97999572753906, 155.97999572753906, 160.1199951171875, 159.55999755859375, 160.39999389648438, 155.33999633789062, 157.38999938964844, 154.72999572753906, 149.8000030517578, 141.33999633789062, 143.7899932861328, 140.92999267578125, 143.52000427246094, 143.61000061035156, 141.5500030517578, 140.92999267578125, 141.2899932861328, 141.10000610351562, 143.05999755859375, 145.60000610351562, 144.16000366210938, 146.89999389648438, 149.49000549316406, 157.6999969482422, 153.50999450683594, 154.25999450683594, 152.5, 153.39999389648438, 156.4199981689453, 154.2100067138672, 154.08999633789062, 154.63999938964844, 153.97000122070312, 151.66000366210938, 148.77000427246094, 150.08999633789062, 155.0399932861328, 154.32000732421875, 151.64999389648438, 153.0, 152.35000610351562, 153.52000427246094, 154.69000244140625, 154.14999389648438, 154.27999877929688, 152.0500030517578, 152.4199981689453, 153.1199951171875, 147.9499969482422, 149.49000549316406, 146.05999755859375, 144.0, 148.27999877929688, 147.27999877929688, 147.5399932861328, 147.27000427246094, 146.83999633789062, 148.13999938964844, 149.39999389648438, 149.66000366210938, 147.25999450683594, 147.5800018310547, 146.3000030517578, 144.10000610351562, 145.0500030517578, 142.11000061035156, 146.58999633789062, 147.0500030517578, 151.1999969482422, 154.77999877929688, 155.74000549316406, 156.55999755859375, 157.91000366210938, 160.94000244140625, 157.58999633789062, 158.94000244140625, 158.92999267578125, 159.25, 161.22000122070312, 162.0, 163.0500030517578, 163.02999877929688, 163.72000122070312, 164.0, 163.63999938964844, 163.44000244140625, 165.32000732421875, 162.97999572753906, 163.77999877929688, 161.55999755859375, 161.9199981689453, 161.61000061035156, 163.10000610351562, 156.9600067138672, 160.3800048828125, 155.74000549316406, 158.10000610351562, 157.3800048828125, 157.00999450683594, 156.83999633789062, 155.77000427246094, 158.86000061035156, 160.85000610351562, 162.0, 161.8000030517578, 161.58999633789062, 164.72999572753906, 164.0399932861328, 163.30999755859375, 163.39999389648438, 164.86000061035156, 164.86000061035156, 162.0399932861328, 163.9199981689453, 165.05999755859375, 165.0, 173.22999572753906, 175.22999572753906, 178.83999633789062, 179.83999633789062, 181.25999450683594, 183.5, 181.67999267578125, 182.22999572753906, 183.22999572753906, 181.50999450683594, 185.38999938964844, 183.2100067138672, 185.0, 178.77000427246094, 181.13999938964844, 184.0, 180.89999389648438, 184.86000061035156, 183.25999450683594, 188.0, 190.39999389648438, 186.8300018310547, 186.85000610351562, 186.1699981689453, 191.47999572753906, 189.7100067138672, 188.5, 189.35000610351562, 190.9499969482422, 192.0, 194.0, 191.83999633789062, 178.7899932861328, 188.47000122070312, 176.5399932861328, 172.2100067138672, 164.99000549316406, 172.1999969482422, 178.41000366210938, 172.25, 172.57000732421875, 165.6699981689453, 151.6999969482422, 157.22999572753906, 157.67999267578125, 144.33999633789062, 149.47000122070312, 134.00999450683594, 127.0, 125.54000091552734, 131.58999633789062, 140.4199981689453, 138.75999450683594, 144.6300048828125, 152.6699981689453, 148.3000030517578, 150.6300048828125, 147.72000122070312, 149.02999877929688, 138.32000732421875, 134.00999450683594, 134.4499969482422, 139.0, 150.3300018310547, 146.3000030517578, 152.38999938964844, 154.1199951171875, 155.7100067138672, 155.0800018310547, 157.0, 160.0, 160.75, 160.0, 154.0, 153.5, 153.58999633789062, 155.5399932861328, 159.5, 157.8800048828125, 161.6300048828125, 158.49000549316406, 155.5800018310547, 162.52999877929688, 164.44000244140625, 166.5, 172.9499969482422, 175.55999755859375, 183.0, 175.1699981689453, 168.44000244140625, 167.27000427246094, 174.0, 172.75, 178.57000732421875, 176.92999267578125, 176.60000610351562, 182.0, 176.2899932861328, 180.0, 174.3000030517578, 173.10000610351562, 174.85000610351562, 174.8300018310547, 175.0, 170.11000061035156, 173.6300048828125, 176.0, 176.25, 176.63999938964844, 175.89999389648438, 172.0, 180.00999450683594, 180.97000122070312, 181.91000366210938, 189.5, 187.02999877929688, 192.0, 187.50999450683594, 186.13999938964844, 188.0, 183.32000732421875, 183.4499969482422, 188.10000610351562, 193.16000366210938, 194.44000244140625, 197.66000366210938, 198.0, 202.02000427246094, 200.05999755859375, 200.0, 185.99000549316406, 191.02999877929688, 186.4199981689453, 187.13999938964844, 187.89999389648438, 196.0, 190.77999877929688, 191.47999572753906, 186.05999755859375, 189.89999389648438, 191.0, 190.14999389648438, 190.08999633789062, 193.0, 197.8000030517578, 203.0, 202.8000030517578, 202.97000122070312, 206.6199951171875, 200.39999389648438, 193.6199951171875, 193.0, 193.32000732421875, 195.22000122070312, 195.33999633789062, 199.3300018310547, 204.0, 203.85000610351562, 209.94000244140625, 208.8800048828125, 213.22000122070312, 251.9600067138672, 267.0, 271.2799987792969, 270.0, 271.0, 283.4700012207031, 270.5799865722656, 262.9800109863281, 240.57000732421875, 246.39999389648438, 254.80999755859375, 250.72000122070312, 246.30999755859375, 251.3699951171875, 254.6699981689453, 246.1199951171875, 245.1300048828125, 238.97000122070312, 246.74000549316406, 248.49000549316406, 235.83999633789062, 237.38999938964844, 247.55999755859375, 245.25999450683594, 246.64999389648438, 253.17999267578125, 249.75, 250.0, 252.72999572753906, 252.1999969482422, 264.20001220703125, 262.8999938964844, 270.0, 266.4200134277344, 270.0, 258.1099853515625, 259.239990234375, 259.760009765625, 256.1199951171875, 256.45001220703125, 253.88999938964844, 250.10000610351562, 245.3000030517578, 248.0, 244.60000610351562, 242.52000427246094, 235.82000732421875, 235.1199951171875, 235.10000610351562, 246.02000427246094, 258.1099853515625, 260.0, 260.95001220703125, 258.05999755859375, 253.50999450683594, 247.39999389648438, 252.83999633789062, 249.52000427246094, 253.74000549316406, 256.3999938964844, 256.8399963378906, 263.5899963378906, 261.2300109863281, 260.0, 263.7300109863281, 251.0, 245.47999572753906, 245.0, 225.47999572753906, 226.11000061035156, 223.82000732421875, 228.11000061035156, 228.64999389648438, 228.0500030517578, 220.57000732421875, 221.9199981689453, 223.08999633789062, 222.07000732421875, 221.47999572753906, 224.89999389648438, 227.02000427246094, 224.89999389648438, 227.0, 232.5, 228.3000030517578, 227.22000122070312, 224.97000122070312, 223.1300048828125, 222.27000427246094, 222.63999938964844, 219.49000549316406, 218.0, 217.02999877929688, 220.0, 219.6300048828125, 218.0, 217.0, 218.22999572753906, 216.1699981689453, 215.35000610351562, 221.99000549316406, 223.69000244140625, 224.89999389648438, 229.69000244140625, 227.8000030517578, 223.6999969482422, 225.0, 224.66000366210938, 227.2100067138672, 231.47000122070312, 235.0, 235.52000427246094, 239.14999389648438], \"type\": \"candlestick\", \"x\": [\"2018-01-02T00:00:00\", \"2018-01-03T00:00:00\", \"2018-01-04T00:00:00\", \"2018-01-05T00:00:00\", \"2018-01-08T00:00:00\", \"2018-01-09T00:00:00\", \"2018-01-10T00:00:00\", \"2018-01-11T00:00:00\", \"2018-01-12T00:00:00\", \"2018-01-16T00:00:00\", \"2018-01-17T00:00:00\", \"2018-01-18T00:00:00\", \"2018-01-19T00:00:00\", \"2018-01-22T00:00:00\", \"2018-01-23T00:00:00\", \"2018-01-24T00:00:00\", \"2018-01-25T00:00:00\", \"2018-01-26T00:00:00\", \"2018-01-29T00:00:00\", \"2018-01-30T00:00:00\", \"2018-01-31T00:00:00\", \"2018-02-01T00:00:00\", \"2018-02-02T00:00:00\", \"2018-02-05T00:00:00\", \"2018-02-06T00:00:00\", \"2018-02-07T00:00:00\", \"2018-02-08T00:00:00\", \"2018-02-09T00:00:00\", \"2018-02-12T00:00:00\", \"2018-02-13T00:00:00\", \"2018-02-14T00:00:00\", \"2018-02-15T00:00:00\", \"2018-02-16T00:00:00\", \"2018-02-20T00:00:00\", \"2018-02-21T00:00:00\", \"2018-02-22T00:00:00\", \"2018-02-23T00:00:00\", \"2018-02-26T00:00:00\", \"2018-02-27T00:00:00\", \"2018-02-28T00:00:00\", \"2018-03-01T00:00:00\", \"2018-03-02T00:00:00\", \"2018-03-05T00:00:00\", \"2018-03-06T00:00:00\", \"2018-03-07T00:00:00\", \"2018-03-08T00:00:00\", \"2018-03-09T00:00:00\", \"2018-03-12T00:00:00\", \"2018-03-13T00:00:00\", \"2018-03-14T00:00:00\", \"2018-03-15T00:00:00\", \"2018-03-16T00:00:00\", \"2018-03-19T00:00:00\", \"2018-03-20T00:00:00\", \"2018-03-21T00:00:00\", \"2018-03-22T00:00:00\", \"2018-03-23T00:00:00\", \"2018-03-26T00:00:00\", \"2018-03-27T00:00:00\", \"2018-03-28T00:00:00\", \"2018-03-29T00:00:00\", \"2018-04-02T00:00:00\", \"2018-04-03T00:00:00\", \"2018-04-04T00:00:00\", \"2018-04-05T00:00:00\", \"2018-04-06T00:00:00\", \"2018-04-09T00:00:00\", \"2018-04-10T00:00:00\", \"2018-04-11T00:00:00\", \"2018-04-12T00:00:00\", \"2018-04-13T00:00:00\", \"2018-04-16T00:00:00\", \"2018-04-17T00:00:00\", \"2018-04-18T00:00:00\", \"2018-04-19T00:00:00\", \"2018-04-20T00:00:00\", \"2018-04-23T00:00:00\", \"2018-04-24T00:00:00\", \"2018-04-25T00:00:00\", \"2018-04-26T00:00:00\", \"2018-04-27T00:00:00\", \"2018-04-30T00:00:00\", \"2018-05-01T00:00:00\", \"2018-05-02T00:00:00\", \"2018-05-03T00:00:00\", \"2018-05-04T00:00:00\", \"2018-05-07T00:00:00\", \"2018-05-08T00:00:00\", \"2018-05-09T00:00:00\", \"2018-05-10T00:00:00\", \"2018-05-11T00:00:00\", \"2018-05-14T00:00:00\", \"2018-05-15T00:00:00\", \"2018-05-16T00:00:00\", \"2018-05-17T00:00:00\", \"2018-05-18T00:00:00\", \"2018-05-21T00:00:00\", \"2018-05-22T00:00:00\", \"2018-05-23T00:00:00\", \"2018-05-24T00:00:00\", \"2018-05-25T00:00:00\", \"2018-05-29T00:00:00\", \"2018-05-30T00:00:00\", \"2018-05-31T00:00:00\", \"2018-06-01T00:00:00\", \"2018-06-04T00:00:00\", \"2018-06-05T00:00:00\", \"2018-06-06T00:00:00\", \"2018-06-07T00:00:00\", \"2018-06-08T00:00:00\", \"2018-06-11T00:00:00\", \"2018-06-12T00:00:00\", \"2018-06-13T00:00:00\", \"2018-06-14T00:00:00\", \"2018-06-15T00:00:00\", \"2018-06-18T00:00:00\", \"2018-06-19T00:00:00\", \"2018-06-20T00:00:00\", \"2018-06-21T00:00:00\", \"2018-06-22T00:00:00\", \"2018-06-25T00:00:00\", \"2018-06-26T00:00:00\", \"2018-06-27T00:00:00\", \"2018-06-28T00:00:00\", \"2018-06-29T00:00:00\", \"2018-07-02T00:00:00\", \"2018-07-03T00:00:00\", \"2018-07-05T00:00:00\", \"2018-07-06T00:00:00\", \"2018-07-09T00:00:00\", \"2018-07-10T00:00:00\", \"2018-07-11T00:00:00\", \"2018-07-12T00:00:00\", \"2018-07-13T00:00:00\", \"2018-07-16T00:00:00\", \"2018-07-17T00:00:00\", \"2018-07-18T00:00:00\", \"2018-07-19T00:00:00\", \"2018-07-20T00:00:00\", \"2018-07-23T00:00:00\", \"2018-07-24T00:00:00\", \"2018-07-25T00:00:00\", \"2018-07-26T00:00:00\", \"2018-07-27T00:00:00\", \"2018-07-30T00:00:00\", \"2018-07-31T00:00:00\", \"2018-08-01T00:00:00\", \"2018-08-02T00:00:00\", \"2018-08-03T00:00:00\", \"2018-08-06T00:00:00\", \"2018-08-07T00:00:00\", \"2018-08-08T00:00:00\", \"2018-08-09T00:00:00\", \"2018-08-10T00:00:00\", \"2018-08-13T00:00:00\", \"2018-08-14T00:00:00\", \"2018-08-15T00:00:00\", \"2018-08-16T00:00:00\", \"2018-08-17T00:00:00\", \"2018-08-20T00:00:00\", \"2018-08-21T00:00:00\", \"2018-08-22T00:00:00\", \"2018-08-23T00:00:00\", \"2018-08-24T00:00:00\", \"2018-08-27T00:00:00\", \"2018-08-28T00:00:00\", \"2018-08-29T00:00:00\", \"2018-08-30T00:00:00\", \"2018-08-31T00:00:00\", \"2018-09-04T00:00:00\", \"2018-09-05T00:00:00\", \"2018-09-06T00:00:00\", \"2018-09-07T00:00:00\", \"2018-09-10T00:00:00\", \"2018-09-11T00:00:00\", \"2018-09-12T00:00:00\", \"2018-09-13T00:00:00\", \"2018-09-14T00:00:00\", \"2018-09-17T00:00:00\", \"2018-09-18T00:00:00\", \"2018-09-19T00:00:00\", \"2018-09-20T00:00:00\", \"2018-09-21T00:00:00\", \"2018-09-24T00:00:00\", \"2018-09-25T00:00:00\", \"2018-09-26T00:00:00\", \"2018-09-27T00:00:00\", \"2018-09-28T00:00:00\", \"2018-10-01T00:00:00\", \"2018-10-02T00:00:00\", \"2018-10-03T00:00:00\", \"2018-10-04T00:00:00\", \"2018-10-05T00:00:00\", \"2018-10-08T00:00:00\", \"2018-10-09T00:00:00\", \"2018-10-10T00:00:00\", \"2018-10-11T00:00:00\", \"2018-10-12T00:00:00\", \"2018-10-15T00:00:00\", \"2018-10-16T00:00:00\", \"2018-10-17T00:00:00\", \"2018-10-18T00:00:00\", \"2018-10-19T00:00:00\", \"2018-10-22T00:00:00\", \"2018-10-23T00:00:00\", \"2018-10-24T00:00:00\", \"2018-10-25T00:00:00\", \"2018-10-26T00:00:00\", \"2018-10-29T00:00:00\", \"2018-10-30T00:00:00\", \"2018-10-31T00:00:00\", \"2018-11-01T00:00:00\", \"2018-11-02T00:00:00\", \"2018-11-05T00:00:00\", \"2018-11-06T00:00:00\", \"2018-11-07T00:00:00\", \"2018-11-08T00:00:00\", \"2018-11-09T00:00:00\", \"2018-11-12T00:00:00\", \"2018-11-13T00:00:00\", \"2018-11-14T00:00:00\", \"2018-11-15T00:00:00\", \"2018-11-16T00:00:00\", \"2018-11-19T00:00:00\", \"2018-11-20T00:00:00\", \"2018-11-21T00:00:00\", \"2018-11-23T00:00:00\", \"2018-11-26T00:00:00\", \"2018-11-27T00:00:00\", \"2018-11-28T00:00:00\", \"2018-11-29T00:00:00\", \"2018-11-30T00:00:00\", \"2018-12-03T00:00:00\", \"2018-12-04T00:00:00\", \"2018-12-06T00:00:00\", \"2018-12-07T00:00:00\", \"2018-12-10T00:00:00\", \"2018-12-11T00:00:00\", \"2018-12-12T00:00:00\", \"2018-12-13T00:00:00\", \"2018-12-14T00:00:00\", \"2018-12-17T00:00:00\", \"2018-12-18T00:00:00\", \"2018-12-19T00:00:00\", \"2018-12-20T00:00:00\", \"2018-12-21T00:00:00\", \"2018-12-24T00:00:00\", \"2018-12-26T00:00:00\", \"2018-12-27T00:00:00\", \"2018-12-28T00:00:00\", \"2018-12-31T00:00:00\", \"2019-01-02T00:00:00\", \"2019-01-03T00:00:00\", \"2019-01-04T00:00:00\", \"2019-01-07T00:00:00\", \"2019-01-08T00:00:00\", \"2019-01-09T00:00:00\", \"2019-01-10T00:00:00\", \"2019-01-11T00:00:00\", \"2019-01-14T00:00:00\", \"2019-01-15T00:00:00\", \"2019-01-16T00:00:00\", \"2019-01-17T00:00:00\", \"2019-01-18T00:00:00\", \"2019-01-22T00:00:00\", \"2019-01-23T00:00:00\", \"2019-01-24T00:00:00\", \"2019-01-25T00:00:00\", \"2019-01-28T00:00:00\", \"2019-01-29T00:00:00\", \"2019-01-30T00:00:00\", \"2019-01-31T00:00:00\", \"2019-02-01T00:00:00\", \"2019-02-04T00:00:00\", \"2019-02-05T00:00:00\", \"2019-02-06T00:00:00\", \"2019-02-07T00:00:00\", \"2019-02-08T00:00:00\", \"2019-02-11T00:00:00\", \"2019-02-12T00:00:00\", \"2019-02-13T00:00:00\", \"2019-02-14T00:00:00\", \"2019-02-15T00:00:00\", \"2019-02-19T00:00:00\", \"2019-02-20T00:00:00\", \"2019-02-21T00:00:00\", \"2019-02-22T00:00:00\", \"2019-02-25T00:00:00\", \"2019-02-26T00:00:00\", \"2019-02-27T00:00:00\", \"2019-02-28T00:00:00\", \"2019-03-01T00:00:00\", \"2019-03-04T00:00:00\", \"2019-03-05T00:00:00\", \"2019-03-06T00:00:00\", \"2019-03-07T00:00:00\", \"2019-03-08T00:00:00\", \"2019-03-11T00:00:00\", \"2019-03-12T00:00:00\", \"2019-03-13T00:00:00\", \"2019-03-14T00:00:00\", \"2019-03-15T00:00:00\", \"2019-03-18T00:00:00\", \"2019-03-19T00:00:00\", \"2019-03-20T00:00:00\", \"2019-03-21T00:00:00\", \"2019-03-22T00:00:00\", \"2019-03-25T00:00:00\", \"2019-03-26T00:00:00\", \"2019-03-27T00:00:00\", \"2019-03-28T00:00:00\", \"2019-03-29T00:00:00\", \"2019-04-01T00:00:00\", \"2019-04-02T00:00:00\", \"2019-04-03T00:00:00\", \"2019-04-04T00:00:00\", \"2019-04-05T00:00:00\", \"2019-04-08T00:00:00\", \"2019-04-09T00:00:00\", \"2019-04-10T00:00:00\", \"2019-04-11T00:00:00\", \"2019-04-12T00:00:00\", \"2019-04-15T00:00:00\", \"2019-04-16T00:00:00\", \"2019-04-17T00:00:00\", \"2019-04-18T00:00:00\", \"2019-04-22T00:00:00\", \"2019-04-23T00:00:00\", \"2019-04-24T00:00:00\", \"2019-04-25T00:00:00\", \"2019-04-26T00:00:00\", \"2019-04-29T00:00:00\", \"2019-04-30T00:00:00\", \"2019-05-01T00:00:00\", \"2019-05-02T00:00:00\", \"2019-05-03T00:00:00\", \"2019-05-06T00:00:00\", \"2019-05-07T00:00:00\", \"2019-05-08T00:00:00\", \"2019-05-09T00:00:00\", \"2019-05-10T00:00:00\", \"2019-05-13T00:00:00\", \"2019-05-14T00:00:00\", \"2019-05-15T00:00:00\", \"2019-05-16T00:00:00\", \"2019-05-17T00:00:00\", \"2019-05-20T00:00:00\", \"2019-05-21T00:00:00\", \"2019-05-22T00:00:00\", \"2019-05-23T00:00:00\", \"2019-05-24T00:00:00\", \"2019-05-28T00:00:00\", \"2019-05-29T00:00:00\", \"2019-05-30T00:00:00\", \"2019-05-31T00:00:00\", \"2019-06-03T00:00:00\", \"2019-06-04T00:00:00\", \"2019-06-05T00:00:00\", \"2019-06-06T00:00:00\", \"2019-06-07T00:00:00\", \"2019-06-10T00:00:00\", \"2019-06-11T00:00:00\", \"2019-06-12T00:00:00\", \"2019-06-13T00:00:00\", \"2019-06-14T00:00:00\", \"2019-06-17T00:00:00\", \"2019-06-18T00:00:00\", \"2019-06-19T00:00:00\", \"2019-06-20T00:00:00\", \"2019-06-21T00:00:00\", \"2019-06-24T00:00:00\", \"2019-06-25T00:00:00\", \"2019-06-26T00:00:00\", \"2019-06-27T00:00:00\", \"2019-06-28T00:00:00\", \"2019-07-01T00:00:00\", \"2019-07-02T00:00:00\", \"2019-07-03T00:00:00\", \"2019-07-05T00:00:00\", \"2019-07-08T00:00:00\", \"2019-07-09T00:00:00\", \"2019-07-10T00:00:00\", \"2019-07-11T00:00:00\", \"2019-07-12T00:00:00\", \"2019-07-15T00:00:00\", \"2019-07-16T00:00:00\", \"2019-07-17T00:00:00\", \"2019-07-18T00:00:00\", \"2019-07-19T00:00:00\", \"2019-07-22T00:00:00\", \"2019-07-23T00:00:00\", \"2019-07-24T00:00:00\", \"2019-07-25T00:00:00\", \"2019-07-26T00:00:00\", \"2019-07-29T00:00:00\", \"2019-07-30T00:00:00\", \"2019-07-31T00:00:00\", \"2019-08-01T00:00:00\", \"2019-08-02T00:00:00\", \"2019-08-05T00:00:00\", \"2019-08-06T00:00:00\", \"2019-08-07T00:00:00\", \"2019-08-08T00:00:00\", \"2019-08-09T00:00:00\", \"2019-08-12T00:00:00\", \"2019-08-13T00:00:00\", \"2019-08-14T00:00:00\", \"2019-08-15T00:00:00\", \"2019-08-16T00:00:00\", \"2019-08-19T00:00:00\", \"2019-08-20T00:00:00\", \"2019-08-21T00:00:00\", \"2019-08-22T00:00:00\", \"2019-08-23T00:00:00\", \"2019-08-26T00:00:00\", \"2019-08-27T00:00:00\", \"2019-08-28T00:00:00\", \"2019-08-29T00:00:00\", \"2019-08-30T00:00:00\", \"2019-09-03T00:00:00\", \"2019-09-04T00:00:00\", \"2019-09-05T00:00:00\", \"2019-09-06T00:00:00\", \"2019-09-09T00:00:00\", \"2019-09-10T00:00:00\", \"2019-09-11T00:00:00\", \"2019-09-12T00:00:00\", \"2019-09-13T00:00:00\", \"2019-09-16T00:00:00\", \"2019-09-17T00:00:00\", \"2019-09-18T00:00:00\", \"2019-09-19T00:00:00\", \"2019-09-20T00:00:00\", \"2019-09-23T00:00:00\", \"2019-09-24T00:00:00\", \"2019-09-25T00:00:00\", \"2019-09-26T00:00:00\", \"2019-09-27T00:00:00\", \"2019-09-30T00:00:00\", \"2019-10-01T00:00:00\", \"2019-10-02T00:00:00\", \"2019-10-03T00:00:00\", \"2019-10-04T00:00:00\", \"2019-10-07T00:00:00\", \"2019-10-08T00:00:00\", \"2019-10-09T00:00:00\", \"2019-10-10T00:00:00\", \"2019-10-11T00:00:00\", \"2019-10-14T00:00:00\", \"2019-10-15T00:00:00\", \"2019-10-16T00:00:00\", \"2019-10-17T00:00:00\", \"2019-10-18T00:00:00\", \"2019-10-21T00:00:00\", \"2019-10-22T00:00:00\", \"2019-10-23T00:00:00\", \"2019-10-24T00:00:00\", \"2019-10-25T00:00:00\", \"2019-10-28T00:00:00\", \"2019-10-29T00:00:00\", \"2019-10-30T00:00:00\", \"2019-10-31T00:00:00\", \"2019-11-01T00:00:00\", \"2019-11-04T00:00:00\", \"2019-11-05T00:00:00\", \"2019-11-06T00:00:00\", \"2019-11-07T00:00:00\", \"2019-11-08T00:00:00\", \"2019-11-11T00:00:00\", \"2019-11-12T00:00:00\", \"2019-11-13T00:00:00\", \"2019-11-14T00:00:00\", \"2019-11-15T00:00:00\", \"2019-11-18T00:00:00\", \"2019-11-19T00:00:00\", \"2019-11-20T00:00:00\", \"2019-11-21T00:00:00\", \"2019-11-22T00:00:00\", \"2019-11-25T00:00:00\", \"2019-11-26T00:00:00\", \"2019-11-27T00:00:00\", \"2019-11-29T00:00:00\", \"2019-12-02T00:00:00\", \"2019-12-03T00:00:00\", \"2019-12-04T00:00:00\", \"2019-12-05T00:00:00\", \"2019-12-06T00:00:00\", \"2019-12-09T00:00:00\", \"2019-12-10T00:00:00\", \"2019-12-11T00:00:00\", \"2019-12-12T00:00:00\", \"2019-12-13T00:00:00\", \"2019-12-16T00:00:00\", \"2019-12-17T00:00:00\", \"2019-12-18T00:00:00\", \"2019-12-19T00:00:00\", \"2019-12-20T00:00:00\", \"2019-12-23T00:00:00\", \"2019-12-24T00:00:00\", \"2019-12-26T00:00:00\", \"2019-12-27T00:00:00\", \"2019-12-30T00:00:00\", \"2019-12-31T00:00:00\", \"2020-01-02T00:00:00\", \"2020-01-03T00:00:00\", \"2020-01-06T00:00:00\", \"2020-01-07T00:00:00\", \"2020-01-08T00:00:00\", \"2020-01-09T00:00:00\", \"2020-01-10T00:00:00\", \"2020-01-13T00:00:00\", \"2020-01-14T00:00:00\", \"2020-01-15T00:00:00\", \"2020-01-16T00:00:00\", \"2020-01-17T00:00:00\", \"2020-01-21T00:00:00\", \"2020-01-22T00:00:00\", \"2020-01-23T00:00:00\", \"2020-01-24T00:00:00\", \"2020-01-27T00:00:00\", \"2020-01-28T00:00:00\", \"2020-01-29T00:00:00\", \"2020-01-30T00:00:00\", \"2020-01-31T00:00:00\", \"2020-02-03T00:00:00\", \"2020-02-04T00:00:00\", \"2020-02-05T00:00:00\", \"2020-02-06T00:00:00\", \"2020-02-07T00:00:00\", \"2020-02-10T00:00:00\", \"2020-02-11T00:00:00\", \"2020-02-12T00:00:00\", \"2020-02-13T00:00:00\", \"2020-02-14T00:00:00\", \"2020-02-18T00:00:00\", \"2020-02-19T00:00:00\", \"2020-02-20T00:00:00\", \"2020-02-21T00:00:00\", \"2020-02-24T00:00:00\", \"2020-02-25T00:00:00\", \"2020-02-26T00:00:00\", \"2020-02-27T00:00:00\", \"2020-02-28T00:00:00\", \"2020-03-02T00:00:00\", \"2020-03-03T00:00:00\", \"2020-03-04T00:00:00\", \"2020-03-05T00:00:00\", \"2020-03-06T00:00:00\", \"2020-03-09T00:00:00\", \"2020-03-10T00:00:00\", \"2020-03-11T00:00:00\", \"2020-03-12T00:00:00\", \"2020-03-13T00:00:00\", \"2020-03-16T00:00:00\", \"2020-03-17T00:00:00\", \"2020-03-18T00:00:00\", \"2020-03-19T00:00:00\", \"2020-03-20T00:00:00\", \"2020-03-23T00:00:00\", \"2020-03-24T00:00:00\", \"2020-03-25T00:00:00\", \"2020-03-26T00:00:00\", \"2020-03-27T00:00:00\", \"2020-03-30T00:00:00\", \"2020-03-31T00:00:00\", \"2020-04-01T00:00:00\", \"2020-04-02T00:00:00\", \"2020-04-03T00:00:00\", \"2020-04-06T00:00:00\", \"2020-04-07T00:00:00\", \"2020-04-08T00:00:00\", \"2020-04-09T00:00:00\", \"2020-04-13T00:00:00\", \"2020-04-14T00:00:00\", \"2020-04-15T00:00:00\", \"2020-04-16T00:00:00\", \"2020-04-17T00:00:00\", \"2020-04-20T00:00:00\", \"2020-04-21T00:00:00\", \"2020-04-22T00:00:00\", \"2020-04-23T00:00:00\", \"2020-04-24T00:00:00\", \"2020-04-27T00:00:00\", \"2020-04-28T00:00:00\", \"2020-04-29T00:00:00\", \"2020-04-30T00:00:00\", \"2020-05-01T00:00:00\", \"2020-05-04T00:00:00\", \"2020-05-05T00:00:00\", \"2020-05-06T00:00:00\", \"2020-05-07T00:00:00\", \"2020-05-08T00:00:00\", \"2020-05-11T00:00:00\", \"2020-05-12T00:00:00\", \"2020-05-13T00:00:00\", \"2020-05-14T00:00:00\", \"2020-05-15T00:00:00\", \"2020-05-18T00:00:00\", \"2020-05-19T00:00:00\", \"2020-05-20T00:00:00\", \"2020-05-21T00:00:00\", \"2020-05-22T00:00:00\", \"2020-05-26T00:00:00\", \"2020-05-27T00:00:00\", \"2020-05-28T00:00:00\", \"2020-05-29T00:00:00\", \"2020-06-01T00:00:00\", \"2020-06-02T00:00:00\", \"2020-06-03T00:00:00\", \"2020-06-04T00:00:00\", \"2020-06-05T00:00:00\", \"2020-06-08T00:00:00\", \"2020-06-09T00:00:00\", \"2020-06-10T00:00:00\", \"2020-06-11T00:00:00\", \"2020-06-12T00:00:00\", \"2020-06-15T00:00:00\", \"2020-06-16T00:00:00\", \"2020-06-17T00:00:00\", \"2020-06-18T00:00:00\", \"2020-06-19T00:00:00\", \"2020-06-22T00:00:00\", \"2020-06-23T00:00:00\", \"2020-06-24T00:00:00\", \"2020-06-25T00:00:00\", \"2020-06-26T00:00:00\", \"2020-06-29T00:00:00\", \"2020-06-30T00:00:00\", \"2020-07-01T00:00:00\", \"2020-07-02T00:00:00\", \"2020-07-06T00:00:00\", \"2020-07-07T00:00:00\", \"2020-07-08T00:00:00\", \"2020-07-09T00:00:00\", \"2020-07-10T00:00:00\", \"2020-07-13T00:00:00\", \"2020-07-14T00:00:00\", \"2020-07-15T00:00:00\", \"2020-07-16T00:00:00\", \"2020-07-17T00:00:00\", \"2020-07-20T00:00:00\", \"2020-07-21T00:00:00\", \"2020-07-22T00:00:00\", \"2020-07-23T00:00:00\", \"2020-07-24T00:00:00\", \"2020-07-27T00:00:00\", \"2020-07-28T00:00:00\", \"2020-07-29T00:00:00\", \"2020-07-30T00:00:00\", \"2020-07-31T00:00:00\", \"2020-08-03T00:00:00\", \"2020-08-04T00:00:00\", \"2020-08-05T00:00:00\", \"2020-08-06T00:00:00\", \"2020-08-07T00:00:00\", \"2020-08-10T00:00:00\", \"2020-08-11T00:00:00\", \"2020-08-12T00:00:00\", \"2020-08-13T00:00:00\", \"2020-08-14T00:00:00\", \"2020-08-17T00:00:00\", \"2020-08-18T00:00:00\", \"2020-08-19T00:00:00\", \"2020-08-20T00:00:00\", \"2020-08-21T00:00:00\", \"2020-08-24T00:00:00\", \"2020-08-25T00:00:00\", \"2020-08-26T00:00:00\", \"2020-08-27T00:00:00\", \"2020-08-28T00:00:00\", \"2020-08-31T00:00:00\", \"2020-09-01T00:00:00\", \"2020-09-02T00:00:00\", \"2020-09-03T00:00:00\", \"2020-09-04T00:00:00\", \"2020-09-08T00:00:00\", \"2020-09-09T00:00:00\", \"2020-09-10T00:00:00\", \"2020-09-11T00:00:00\", \"2020-09-14T00:00:00\", \"2020-09-15T00:00:00\", \"2020-09-16T00:00:00\", \"2020-09-17T00:00:00\", \"2020-09-18T00:00:00\", \"2020-09-21T00:00:00\", \"2020-09-22T00:00:00\", \"2020-09-23T00:00:00\", \"2020-09-24T00:00:00\", \"2020-09-25T00:00:00\", \"2020-09-28T00:00:00\", \"2020-09-29T00:00:00\", \"2020-09-30T00:00:00\", \"2020-10-01T00:00:00\", \"2020-10-02T00:00:00\", \"2020-10-05T00:00:00\", \"2020-10-06T00:00:00\", \"2020-10-07T00:00:00\", \"2020-10-08T00:00:00\", \"2020-10-09T00:00:00\", \"2020-10-12T00:00:00\", \"2020-10-13T00:00:00\", \"2020-10-14T00:00:00\", \"2020-10-15T00:00:00\", \"2020-10-16T00:00:00\", \"2020-10-19T00:00:00\", \"2020-10-20T00:00:00\", \"2020-10-21T00:00:00\", \"2020-10-22T00:00:00\", \"2020-10-23T00:00:00\", \"2020-10-26T00:00:00\", \"2020-10-27T00:00:00\", \"2020-10-28T00:00:00\", \"2020-10-29T00:00:00\", \"2020-10-30T00:00:00\", \"2020-11-02T00:00:00\", \"2020-11-03T00:00:00\", \"2020-11-04T00:00:00\", \"2020-11-05T00:00:00\", \"2020-11-06T00:00:00\", \"2020-11-09T00:00:00\", \"2020-11-10T00:00:00\", \"2020-11-11T00:00:00\", \"2020-11-12T00:00:00\", \"2020-11-13T00:00:00\", \"2020-11-16T00:00:00\", \"2020-11-17T00:00:00\", \"2020-11-18T00:00:00\", \"2020-11-19T00:00:00\", \"2020-11-20T00:00:00\", \"2020-11-23T00:00:00\", \"2020-11-24T00:00:00\", \"2020-11-25T00:00:00\", \"2020-11-27T00:00:00\", \"2020-11-30T00:00:00\", \"2020-12-01T00:00:00\", \"2020-12-02T00:00:00\", \"2020-12-03T00:00:00\", \"2020-12-04T00:00:00\", \"2020-12-07T00:00:00\", \"2020-12-08T00:00:00\", \"2020-12-09T00:00:00\", \"2020-12-10T00:00:00\", \"2020-12-11T00:00:00\", \"2020-12-14T00:00:00\", \"2020-12-15T00:00:00\", \"2020-12-16T00:00:00\", \"2020-12-17T00:00:00\", \"2020-12-18T00:00:00\", \"2020-12-21T00:00:00\", \"2020-12-22T00:00:00\", \"2020-12-23T00:00:00\", \"2020-12-24T00:00:00\", \"2020-12-28T00:00:00\", \"2020-12-29T00:00:00\", \"2020-12-30T00:00:00\", \"2020-12-31T00:00:00\", \"2021-01-04T00:00:00\", \"2021-01-05T00:00:00\", \"2021-01-06T00:00:00\", \"2021-01-07T00:00:00\", \"2021-01-08T00:00:00\", \"2021-01-11T00:00:00\", \"2021-01-12T00:00:00\", \"2021-01-13T00:00:00\", \"2021-01-14T00:00:00\", \"2021-01-15T00:00:00\", \"2021-01-19T00:00:00\", \"2021-01-20T00:00:00\", \"2021-01-21T00:00:00\", \"2021-01-22T00:00:00\", \"2021-01-25T00:00:00\", \"2021-01-26T00:00:00\", \"2021-01-27T00:00:00\", \"2021-01-28T00:00:00\", \"2021-01-29T00:00:00\", \"2021-02-01T00:00:00\", \"2021-02-02T00:00:00\", \"2021-02-03T00:00:00\", \"2021-02-04T00:00:00\", \"2021-02-05T00:00:00\"]}],\n",
              "                        {\"hovermode\": \"x\", \"template\": {\"data\": {\"bar\": [{\"error_x\": {\"color\": \"#2a3f5f\"}, \"error_y\": {\"color\": \"#2a3f5f\"}, \"marker\": {\"line\": {\"color\": \"#E5ECF6\", \"width\": 0.5}}, \"type\": \"bar\"}], \"barpolar\": [{\"marker\": {\"line\": {\"color\": \"#E5ECF6\", \"width\": 0.5}}, \"type\": \"barpolar\"}], \"carpet\": [{\"aaxis\": {\"endlinecolor\": \"#2a3f5f\", \"gridcolor\": \"white\", \"linecolor\": \"white\", \"minorgridcolor\": \"white\", \"startlinecolor\": \"#2a3f5f\"}, \"baxis\": {\"endlinecolor\": \"#2a3f5f\", \"gridcolor\": \"white\", \"linecolor\": \"white\", \"minorgridcolor\": \"white\", \"startlinecolor\": \"#2a3f5f\"}, \"type\": \"carpet\"}], \"choropleth\": [{\"colorbar\": {\"outlinewidth\": 0, \"ticks\": \"\"}, \"type\": \"choropleth\"}], \"contour\": [{\"colorbar\": {\"outlinewidth\": 0, \"ticks\": \"\"}, \"colorscale\": [[0.0, \"#0d0887\"], [0.1111111111111111, \"#46039f\"], [0.2222222222222222, \"#7201a8\"], [0.3333333333333333, \"#9c179e\"], [0.4444444444444444, \"#bd3786\"], [0.5555555555555556, \"#d8576b\"], [0.6666666666666666, \"#ed7953\"], [0.7777777777777778, \"#fb9f3a\"], [0.8888888888888888, \"#fdca26\"], [1.0, \"#f0f921\"]], \"type\": \"contour\"}], \"contourcarpet\": [{\"colorbar\": {\"outlinewidth\": 0, \"ticks\": \"\"}, \"type\": \"contourcarpet\"}], \"heatmap\": [{\"colorbar\": {\"outlinewidth\": 0, \"ticks\": \"\"}, \"colorscale\": [[0.0, \"#0d0887\"], [0.1111111111111111, \"#46039f\"], [0.2222222222222222, \"#7201a8\"], [0.3333333333333333, \"#9c179e\"], [0.4444444444444444, \"#bd3786\"], [0.5555555555555556, \"#d8576b\"], [0.6666666666666666, \"#ed7953\"], [0.7777777777777778, \"#fb9f3a\"], [0.8888888888888888, \"#fdca26\"], [1.0, \"#f0f921\"]], \"type\": \"heatmap\"}], \"heatmapgl\": [{\"colorbar\": {\"outlinewidth\": 0, \"ticks\": \"\"}, \"colorscale\": [[0.0, \"#0d0887\"], [0.1111111111111111, \"#46039f\"], [0.2222222222222222, \"#7201a8\"], [0.3333333333333333, \"#9c179e\"], [0.4444444444444444, \"#bd3786\"], [0.5555555555555556, \"#d8576b\"], [0.6666666666666666, \"#ed7953\"], [0.7777777777777778, \"#fb9f3a\"], [0.8888888888888888, \"#fdca26\"], [1.0, \"#f0f921\"]], \"type\": \"heatmapgl\"}], \"histogram\": [{\"marker\": {\"colorbar\": {\"outlinewidth\": 0, \"ticks\": \"\"}}, \"type\": \"histogram\"}], \"histogram2d\": [{\"colorbar\": {\"outlinewidth\": 0, \"ticks\": \"\"}, \"colorscale\": [[0.0, \"#0d0887\"], [0.1111111111111111, \"#46039f\"], [0.2222222222222222, \"#7201a8\"], [0.3333333333333333, \"#9c179e\"], [0.4444444444444444, \"#bd3786\"], [0.5555555555555556, \"#d8576b\"], [0.6666666666666666, \"#ed7953\"], [0.7777777777777778, \"#fb9f3a\"], [0.8888888888888888, \"#fdca26\"], [1.0, \"#f0f921\"]], \"type\": \"histogram2d\"}], \"histogram2dcontour\": [{\"colorbar\": {\"outlinewidth\": 0, \"ticks\": \"\"}, \"colorscale\": [[0.0, \"#0d0887\"], [0.1111111111111111, \"#46039f\"], [0.2222222222222222, \"#7201a8\"], [0.3333333333333333, \"#9c179e\"], [0.4444444444444444, \"#bd3786\"], [0.5555555555555556, \"#d8576b\"], [0.6666666666666666, \"#ed7953\"], [0.7777777777777778, \"#fb9f3a\"], [0.8888888888888888, \"#fdca26\"], [1.0, \"#f0f921\"]], \"type\": \"histogram2dcontour\"}], \"mesh3d\": [{\"colorbar\": {\"outlinewidth\": 0, \"ticks\": \"\"}, \"type\": \"mesh3d\"}], \"parcoords\": [{\"line\": {\"colorbar\": {\"outlinewidth\": 0, \"ticks\": \"\"}}, \"type\": \"parcoords\"}], \"pie\": [{\"automargin\": true, \"type\": \"pie\"}], \"scatter\": [{\"marker\": {\"colorbar\": {\"outlinewidth\": 0, \"ticks\": \"\"}}, \"type\": \"scatter\"}], \"scatter3d\": [{\"line\": {\"colorbar\": {\"outlinewidth\": 0, \"ticks\": \"\"}}, \"marker\": {\"colorbar\": {\"outlinewidth\": 0, \"ticks\": \"\"}}, \"type\": \"scatter3d\"}], \"scattercarpet\": [{\"marker\": {\"colorbar\": {\"outlinewidth\": 0, \"ticks\": \"\"}}, \"type\": \"scattercarpet\"}], \"scattergeo\": [{\"marker\": {\"colorbar\": {\"outlinewidth\": 0, \"ticks\": \"\"}}, \"type\": \"scattergeo\"}], \"scattergl\": [{\"marker\": {\"colorbar\": {\"outlinewidth\": 0, \"ticks\": \"\"}}, \"type\": \"scattergl\"}], \"scattermapbox\": [{\"marker\": {\"colorbar\": {\"outlinewidth\": 0, \"ticks\": \"\"}}, \"type\": \"scattermapbox\"}], \"scatterpolar\": [{\"marker\": {\"colorbar\": {\"outlinewidth\": 0, \"ticks\": \"\"}}, \"type\": \"scatterpolar\"}], \"scatterpolargl\": [{\"marker\": {\"colorbar\": {\"outlinewidth\": 0, \"ticks\": \"\"}}, \"type\": \"scatterpolargl\"}], \"scatterternary\": [{\"marker\": {\"colorbar\": {\"outlinewidth\": 0, \"ticks\": \"\"}}, \"type\": \"scatterternary\"}], \"surface\": [{\"colorbar\": {\"outlinewidth\": 0, \"ticks\": \"\"}, \"colorscale\": [[0.0, \"#0d0887\"], [0.1111111111111111, \"#46039f\"], [0.2222222222222222, \"#7201a8\"], [0.3333333333333333, \"#9c179e\"], [0.4444444444444444, \"#bd3786\"], [0.5555555555555556, \"#d8576b\"], [0.6666666666666666, \"#ed7953\"], [0.7777777777777778, \"#fb9f3a\"], [0.8888888888888888, \"#fdca26\"], [1.0, \"#f0f921\"]], \"type\": \"surface\"}], \"table\": [{\"cells\": {\"fill\": {\"color\": \"#EBF0F8\"}, \"line\": {\"color\": \"white\"}}, \"header\": {\"fill\": {\"color\": \"#C8D4E3\"}, \"line\": {\"color\": \"white\"}}, \"type\": \"table\"}]}, \"layout\": {\"annotationdefaults\": {\"arrowcolor\": \"#2a3f5f\", \"arrowhead\": 0, \"arrowwidth\": 1}, \"coloraxis\": {\"colorbar\": {\"outlinewidth\": 0, \"ticks\": \"\"}}, \"colorscale\": {\"diverging\": [[0, \"#8e0152\"], [0.1, \"#c51b7d\"], [0.2, \"#de77ae\"], [0.3, \"#f1b6da\"], [0.4, \"#fde0ef\"], [0.5, \"#f7f7f7\"], [0.6, \"#e6f5d0\"], [0.7, \"#b8e186\"], [0.8, \"#7fbc41\"], [0.9, \"#4d9221\"], [1, \"#276419\"]], \"sequential\": [[0.0, \"#0d0887\"], [0.1111111111111111, \"#46039f\"], [0.2222222222222222, \"#7201a8\"], [0.3333333333333333, \"#9c179e\"], [0.4444444444444444, \"#bd3786\"], [0.5555555555555556, \"#d8576b\"], [0.6666666666666666, \"#ed7953\"], [0.7777777777777778, \"#fb9f3a\"], [0.8888888888888888, \"#fdca26\"], [1.0, \"#f0f921\"]], \"sequentialminus\": [[0.0, \"#0d0887\"], [0.1111111111111111, \"#46039f\"], [0.2222222222222222, \"#7201a8\"], [0.3333333333333333, \"#9c179e\"], [0.4444444444444444, \"#bd3786\"], [0.5555555555555556, \"#d8576b\"], [0.6666666666666666, \"#ed7953\"], [0.7777777777777778, \"#fb9f3a\"], [0.8888888888888888, \"#fdca26\"], [1.0, \"#f0f921\"]]}, \"colorway\": [\"#636efa\", \"#EF553B\", \"#00cc96\", \"#ab63fa\", \"#FFA15A\", \"#19d3f3\", \"#FF6692\", \"#B6E880\", \"#FF97FF\", \"#FECB52\"], \"font\": {\"color\": \"#2a3f5f\"}, \"geo\": {\"bgcolor\": \"white\", \"lakecolor\": \"white\", \"landcolor\": \"#E5ECF6\", \"showlakes\": true, \"showland\": true, \"subunitcolor\": \"white\"}, \"hoverlabel\": {\"align\": \"left\"}, \"hovermode\": \"closest\", \"mapbox\": {\"style\": \"light\"}, \"paper_bgcolor\": \"white\", \"plot_bgcolor\": \"#E5ECF6\", \"polar\": {\"angularaxis\": {\"gridcolor\": \"white\", \"linecolor\": \"white\", \"ticks\": \"\"}, \"bgcolor\": \"#E5ECF6\", \"radialaxis\": {\"gridcolor\": \"white\", \"linecolor\": \"white\", \"ticks\": \"\"}}, \"scene\": {\"xaxis\": {\"backgroundcolor\": \"#E5ECF6\", \"gridcolor\": \"white\", \"gridwidth\": 2, \"linecolor\": \"white\", \"showbackground\": true, \"ticks\": \"\", \"zerolinecolor\": \"white\"}, \"yaxis\": {\"backgroundcolor\": \"#E5ECF6\", \"gridcolor\": \"white\", \"gridwidth\": 2, \"linecolor\": \"white\", \"showbackground\": true, \"ticks\": \"\", \"zerolinecolor\": \"white\"}, \"zaxis\": {\"backgroundcolor\": \"#E5ECF6\", \"gridcolor\": \"white\", \"gridwidth\": 2, \"linecolor\": \"white\", \"showbackground\": true, \"ticks\": \"\", \"zerolinecolor\": \"white\"}}, \"shapedefaults\": {\"line\": {\"color\": \"#2a3f5f\"}}, \"ternary\": {\"aaxis\": {\"gridcolor\": \"white\", \"linecolor\": \"white\", \"ticks\": \"\"}, \"baxis\": {\"gridcolor\": \"white\", \"linecolor\": \"white\", \"ticks\": \"\"}, \"bgcolor\": \"#E5ECF6\", \"caxis\": {\"gridcolor\": \"white\", \"linecolor\": \"white\", \"ticks\": \"\"}}, \"title\": {\"x\": 0.05}, \"xaxis\": {\"automargin\": true, \"gridcolor\": \"white\", \"linecolor\": \"white\", \"ticks\": \"\", \"title\": {\"standoff\": 15}, \"zerolinecolor\": \"white\", \"zerolinewidth\": 2}, \"yaxis\": {\"automargin\": true, \"gridcolor\": \"white\", \"linecolor\": \"white\", \"ticks\": \"\", \"title\": {\"standoff\": 15}, \"zerolinecolor\": \"white\", \"zerolinewidth\": 2}}}, \"title\": {\"text\": \"Candlestick Chart for CRM\"}, \"xaxis\": {\"title\": {\"text\": \"Date\"}}, \"yaxis\": {\"title\": {\"text\": \"Price\"}}},\n",
              "                        {\"responsive\": true}\n",
              "                    ).then(function(){\n",
              "                            \n",
              "var gd = document.getElementById('1b743d68-3ded-4fe3-b52d-397663e568ca');\n",
              "var x = new MutationObserver(function (mutations, observer) {{\n",
              "        var display = window.getComputedStyle(gd).display;\n",
              "        if (!display || display === 'none') {{\n",
              "            console.log([gd, 'removed!']);\n",
              "            Plotly.purge(gd);\n",
              "            observer.disconnect();\n",
              "        }}\n",
              "}});\n",
              "\n",
              "// Listen for the removal of the full notebook cells\n",
              "var notebookContainer = gd.closest('#notebook-container');\n",
              "if (notebookContainer) {{\n",
              "    x.observe(notebookContainer, {childList: true});\n",
              "}}\n",
              "\n",
              "// Listen for the clearing of the current output cell\n",
              "var outputEl = gd.closest('.output');\n",
              "if (outputEl) {{\n",
              "    x.observe(outputEl, {childList: true});\n",
              "}}\n",
              "\n",
              "                        })\n",
              "                };\n",
              "                \n",
              "            </script>\n",
              "        </div>\n",
              "</body>\n",
              "</html>"
            ]
          },
          "metadata": {
            "tags": []
          }
        }
      ]
    },
    {
      "cell_type": "code",
      "metadata": {
        "id": "DMh-80Hyi8oI"
      },
      "source": [
        "# Create a new df called returns that calculates the return after each day.\r\n",
        "returns = pd.DataFrame()\r\n",
        "# We can use pandas pct_change() method on the 'Adj Close' column to create a column representing this return value. \r\n",
        "for ticker in tickers:\r\n",
        "    returns[ticker]=closing_prices_df[ticker].pct_change()*100"
      ],
      "execution_count": null,
      "outputs": []
    },
    {
      "cell_type": "code",
      "metadata": {
        "colab": {
          "base_uri": "https://localhost:8080/",
          "height": 158
        },
        "id": "8RDOu3mAmCkt",
        "outputId": "1aa16fbc-6f56-41a2-b3f6-5f90260bef07"
      },
      "source": [
        "returns.tail().style.format(\"{:.2f}\")"
      ],
      "execution_count": null,
      "outputs": [
        {
          "output_type": "execute_result",
          "data": {
            "text/html": [
              "<style  type=\"text/css\" >\n",
              "</style><table id=\"T_034ff988_68d0_11eb_8a83_0242ac1c0002\" ><thead>    <tr>        <th class=\"blank level0\" ></th>        <th class=\"col_heading level0 col0\" >CRM</th>        <th class=\"col_heading level0 col1\" >AMZN</th>        <th class=\"col_heading level0 col2\" >MSFT</th>        <th class=\"col_heading level0 col3\" >GOOGL</th>        <th class=\"col_heading level0 col4\" >IBM</th>    </tr>    <tr>        <th class=\"index_name level0\" >Date</th>        <th class=\"blank\" ></th>        <th class=\"blank\" ></th>        <th class=\"blank\" ></th>        <th class=\"blank\" ></th>        <th class=\"blank\" ></th>    </tr></thead><tbody>\n",
              "                <tr>\n",
              "                        <th id=\"T_034ff988_68d0_11eb_8a83_0242ac1c0002level0_row0\" class=\"row_heading level0 row0\" >2021-02-01 00:00:00</th>\n",
              "                        <td id=\"T_034ff988_68d0_11eb_8a83_0242ac1c0002row0_col0\" class=\"data row0 col0\" >1.29</td>\n",
              "                        <td id=\"T_034ff988_68d0_11eb_8a83_0242ac1c0002row0_col1\" class=\"data row0 col1\" >4.26</td>\n",
              "                        <td id=\"T_034ff988_68d0_11eb_8a83_0242ac1c0002row0_col2\" class=\"data row0 col2\" >3.32</td>\n",
              "                        <td id=\"T_034ff988_68d0_11eb_8a83_0242ac1c0002row0_col3\" class=\"data row0 col3\" >3.60</td>\n",
              "                        <td id=\"T_034ff988_68d0_11eb_8a83_0242ac1c0002row0_col4\" class=\"data row0 col4\" >1.20</td>\n",
              "            </tr>\n",
              "            <tr>\n",
              "                        <th id=\"T_034ff988_68d0_11eb_8a83_0242ac1c0002level0_row1\" class=\"row_heading level0 row1\" >2021-02-02 00:00:00</th>\n",
              "                        <td id=\"T_034ff988_68d0_11eb_8a83_0242ac1c0002row1_col0\" class=\"data row1 col0\" >2.51</td>\n",
              "                        <td id=\"T_034ff988_68d0_11eb_8a83_0242ac1c0002row1_col1\" class=\"data row1 col1\" >1.11</td>\n",
              "                        <td id=\"T_034ff988_68d0_11eb_8a83_0242ac1c0002row1_col2\" class=\"data row1 col2\" >-0.06</td>\n",
              "                        <td id=\"T_034ff988_68d0_11eb_8a83_0242ac1c0002row1_col3\" class=\"data row1 col3\" >1.38</td>\n",
              "                        <td id=\"T_034ff988_68d0_11eb_8a83_0242ac1c0002row1_col4\" class=\"data row1 col4\" >-0.91</td>\n",
              "            </tr>\n",
              "            <tr>\n",
              "                        <th id=\"T_034ff988_68d0_11eb_8a83_0242ac1c0002level0_row2\" class=\"row_heading level0 row2\" >2021-02-03 00:00:00</th>\n",
              "                        <td id=\"T_034ff988_68d0_11eb_8a83_0242ac1c0002row2_col0\" class=\"data row2 col0\" >0.26</td>\n",
              "                        <td id=\"T_034ff988_68d0_11eb_8a83_0242ac1c0002row2_col1\" class=\"data row2 col1\" >-2.00</td>\n",
              "                        <td id=\"T_034ff988_68d0_11eb_8a83_0242ac1c0002row2_col2\" class=\"data row2 col2\" >1.46</td>\n",
              "                        <td id=\"T_034ff988_68d0_11eb_8a83_0242ac1c0002row2_col3\" class=\"data row2 col3\" >7.28</td>\n",
              "                        <td id=\"T_034ff988_68d0_11eb_8a83_0242ac1c0002row2_col4\" class=\"data row2 col4\" >-0.27</td>\n",
              "            </tr>\n",
              "            <tr>\n",
              "                        <th id=\"T_034ff988_68d0_11eb_8a83_0242ac1c0002level0_row3\" class=\"row_heading level0 row3\" >2021-02-04 00:00:00</th>\n",
              "                        <td id=\"T_034ff988_68d0_11eb_8a83_0242ac1c0002row3_col0\" class=\"data row3 col0\" >1.35</td>\n",
              "                        <td id=\"T_034ff988_68d0_11eb_8a83_0242ac1c0002row3_col1\" class=\"data row3 col1\" >0.56</td>\n",
              "                        <td id=\"T_034ff988_68d0_11eb_8a83_0242ac1c0002row3_col2\" class=\"data row3 col2\" >-0.41</td>\n",
              "                        <td id=\"T_034ff988_68d0_11eb_8a83_0242ac1c0002row3_col3\" class=\"data row3 col3\" >-0.25</td>\n",
              "                        <td id=\"T_034ff988_68d0_11eb_8a83_0242ac1c0002row3_col4\" class=\"data row3 col4\" >1.60</td>\n",
              "            </tr>\n",
              "            <tr>\n",
              "                        <th id=\"T_034ff988_68d0_11eb_8a83_0242ac1c0002level0_row4\" class=\"row_heading level0 row4\" >2021-02-05 00:00:00</th>\n",
              "                        <td id=\"T_034ff988_68d0_11eb_8a83_0242ac1c0002row4_col0\" class=\"data row4 col0\" >0.38</td>\n",
              "                        <td id=\"T_034ff988_68d0_11eb_8a83_0242ac1c0002row4_col1\" class=\"data row4 col1\" >0.63</td>\n",
              "                        <td id=\"T_034ff988_68d0_11eb_8a83_0242ac1c0002row4_col2\" class=\"data row4 col2\" >0.08</td>\n",
              "                        <td id=\"T_034ff988_68d0_11eb_8a83_0242ac1c0002row4_col3\" class=\"data row4 col3\" >1.71</td>\n",
              "                        <td id=\"T_034ff988_68d0_11eb_8a83_0242ac1c0002row4_col4\" class=\"data row4 col4\" >0.64</td>\n",
              "            </tr>\n",
              "    </tbody></table>"
            ],
            "text/plain": [
              "<pandas.io.formats.style.Styler at 0x7f631eeac240>"
            ]
          },
          "metadata": {
            "tags": []
          },
          "execution_count": 41
        }
      ]
    },
    {
      "cell_type": "code",
      "metadata": {
        "colab": {
          "base_uri": "https://localhost:8080/"
        },
        "id": "M8uJDZxhmLD0",
        "outputId": "4cf112f4-9d5b-4e29-e4fd-60fc67289eeb"
      },
      "source": [
        "returns.mean()"
      ],
      "execution_count": null,
      "outputs": [
        {
          "output_type": "execute_result",
          "data": {
            "text/plain": [
              "CRM      0.135749\n",
              "AMZN     0.154810\n",
              "MSFT     0.158987\n",
              "GOOGL    0.104718\n",
              "IBM      0.006274\n",
              "dtype: float64"
            ]
          },
          "metadata": {
            "tags": []
          },
          "execution_count": 42
        }
      ]
    },
    {
      "cell_type": "code",
      "metadata": {
        "colab": {
          "base_uri": "https://localhost:8080/",
          "height": 225
        },
        "id": "PT2bkSBXmvg2",
        "outputId": "b8ce02eb-c1bb-4bdc-8e7e-93683a72b97a"
      },
      "source": [
        "# Date of worst single day returns for each company.\r\n",
        "worst = returns.idxmin()\r\n",
        "# Date of best single day returns for each company.\r\n",
        "best = returns.idxmax()\r\n",
        "# Create a dataframe to see best and worst day returns by company\r\n",
        "best_and_worst_returns = pd.DataFrame({\"Worst\":worst, \"Best\":best})\r\n",
        "best_and_worst_returns.columns.names = ['Single Day Returns']\r\n",
        "best_and_worst_returns.index.names = ['Ticker']\r\n",
        "best_and_worst_returns"
      ],
      "execution_count": null,
      "outputs": [
        {
          "output_type": "execute_result",
          "data": {
            "text/html": [
              "<div>\n",
              "<style scoped>\n",
              "    .dataframe tbody tr th:only-of-type {\n",
              "        vertical-align: middle;\n",
              "    }\n",
              "\n",
              "    .dataframe tbody tr th {\n",
              "        vertical-align: top;\n",
              "    }\n",
              "\n",
              "    .dataframe thead th {\n",
              "        text-align: right;\n",
              "    }\n",
              "</style>\n",
              "<table border=\"1\" class=\"dataframe\">\n",
              "  <thead>\n",
              "    <tr style=\"text-align: right;\">\n",
              "      <th>Single Day Returns</th>\n",
              "      <th>Worst</th>\n",
              "      <th>Best</th>\n",
              "    </tr>\n",
              "    <tr>\n",
              "      <th>Ticker</th>\n",
              "      <th></th>\n",
              "      <th></th>\n",
              "    </tr>\n",
              "  </thead>\n",
              "  <tbody>\n",
              "    <tr>\n",
              "      <th>CRM</th>\n",
              "      <td>2020-03-16</td>\n",
              "      <td>2020-08-26</td>\n",
              "    </tr>\n",
              "    <tr>\n",
              "      <th>AMZN</th>\n",
              "      <td>2020-03-12</td>\n",
              "      <td>2018-12-26</td>\n",
              "    </tr>\n",
              "    <tr>\n",
              "      <th>MSFT</th>\n",
              "      <td>2020-03-16</td>\n",
              "      <td>2020-03-13</td>\n",
              "    </tr>\n",
              "    <tr>\n",
              "      <th>GOOGL</th>\n",
              "      <td>2020-03-16</td>\n",
              "      <td>2019-07-26</td>\n",
              "    </tr>\n",
              "    <tr>\n",
              "      <th>IBM</th>\n",
              "      <td>2020-03-12</td>\n",
              "      <td>2020-03-24</td>\n",
              "    </tr>\n",
              "  </tbody>\n",
              "</table>\n",
              "</div>"
            ],
            "text/plain": [
              "Single Day Returns      Worst       Best\n",
              "Ticker                                  \n",
              "CRM                2020-03-16 2020-08-26\n",
              "AMZN               2020-03-12 2018-12-26\n",
              "MSFT               2020-03-16 2020-03-13\n",
              "GOOGL              2020-03-16 2019-07-26\n",
              "IBM                2020-03-12 2020-03-24"
            ]
          },
          "metadata": {
            "tags": []
          },
          "execution_count": 43
        }
      ]
    },
    {
      "cell_type": "markdown",
      "metadata": {
        "id": "LITPsC6GnUu7"
      },
      "source": [
        "The best and worst days are almost same as it is the same industry.<br>\r\n",
        "The companies had their best days before COVID (except Salesforce and IBM)"
      ]
    },
    {
      "cell_type": "code",
      "metadata": {
        "colab": {
          "base_uri": "https://localhost:8080/"
        },
        "id": "lqlt6C9onJXg",
        "outputId": "dc22ecff-78a2-4ea8-92ff-1fb697ced744"
      },
      "source": [
        "# Measuring volatality of the stocks\r\n",
        "returns.std()"
      ],
      "execution_count": null,
      "outputs": [
        {
          "output_type": "execute_result",
          "data": {
            "text/plain": [
              "Ticker\n",
              "CRM      2.444567\n",
              "AMZN     2.084003\n",
              "MSFT     2.022774\n",
              "GOOGL    1.958483\n",
              "IBM      1.909116\n",
              "dtype: float64"
            ]
          },
          "metadata": {
            "tags": []
          },
          "execution_count": 44
        }
      ]
    },
    {
      "cell_type": "code",
      "metadata": {
        "colab": {
          "base_uri": "https://localhost:8080/",
          "height": 225
        },
        "id": "VDerjU-PpPei",
        "outputId": "1fb79381-c56d-434e-f0ec-3b1015718412"
      },
      "source": [
        "############ Pre-COVID and Post-COVID Analysis\r\n",
        "\r\n",
        "# Looking at the standard deviation over YTD 2020 just to see effect of coronavirus\r\n",
        "std_2020 = returns.loc['2020-01-01':'2020-08-01'].std()\r\n",
        "# as compared to the same time period in 2019\r\n",
        "std_2019 = returns.loc['2019-01-01':'2019-08-01'].std()\r\n",
        "# Create a dataframe to compare year to year stdev by company\r\n",
        "std_comparison_df = pd.DataFrame({\"2019\":std_2019, \"2020\":std_2020})\r\n",
        "std_comparison_df.columns.names = ['Std Over Years Comparison']\r\n",
        "std_comparison_df.index.names = ['Ticker']\r\n",
        "std_comparison_df"
      ],
      "execution_count": null,
      "outputs": [
        {
          "output_type": "execute_result",
          "data": {
            "text/html": [
              "<div>\n",
              "<style scoped>\n",
              "    .dataframe tbody tr th:only-of-type {\n",
              "        vertical-align: middle;\n",
              "    }\n",
              "\n",
              "    .dataframe tbody tr th {\n",
              "        vertical-align: top;\n",
              "    }\n",
              "\n",
              "    .dataframe thead th {\n",
              "        text-align: right;\n",
              "    }\n",
              "</style>\n",
              "<table border=\"1\" class=\"dataframe\">\n",
              "  <thead>\n",
              "    <tr style=\"text-align: right;\">\n",
              "      <th>Std Over Years Comparison</th>\n",
              "      <th>2019</th>\n",
              "      <th>2020</th>\n",
              "    </tr>\n",
              "    <tr>\n",
              "      <th>Ticker</th>\n",
              "      <th></th>\n",
              "      <th></th>\n",
              "    </tr>\n",
              "  </thead>\n",
              "  <tbody>\n",
              "    <tr>\n",
              "      <th>CRM</th>\n",
              "      <td>1.770247</td>\n",
              "      <td>3.269830</td>\n",
              "    </tr>\n",
              "    <tr>\n",
              "      <th>AMZN</th>\n",
              "      <td>1.598930</td>\n",
              "      <td>2.592967</td>\n",
              "    </tr>\n",
              "    <tr>\n",
              "      <th>MSFT</th>\n",
              "      <td>1.319324</td>\n",
              "      <td>3.241620</td>\n",
              "    </tr>\n",
              "    <tr>\n",
              "      <th>GOOGL</th>\n",
              "      <td>1.697803</td>\n",
              "      <td>2.798763</td>\n",
              "    </tr>\n",
              "    <tr>\n",
              "      <th>IBM</th>\n",
              "      <td>1.274036</td>\n",
              "      <td>3.073795</td>\n",
              "    </tr>\n",
              "  </tbody>\n",
              "</table>\n",
              "</div>"
            ],
            "text/plain": [
              "Std Over Years Comparison      2019      2020\n",
              "Ticker                                       \n",
              "CRM                        1.770247  3.269830\n",
              "AMZN                       1.598930  2.592967\n",
              "MSFT                       1.319324  3.241620\n",
              "GOOGL                      1.697803  2.798763\n",
              "IBM                        1.274036  3.073795"
            ]
          },
          "metadata": {
            "tags": []
          },
          "execution_count": 45
        }
      ]
    },
    {
      "cell_type": "code",
      "metadata": {
        "id": "SjxW4XQuppy9"
      },
      "source": [
        "# # User input ticker of interest\r\n",
        "# ticker = \"CRM\"\r\n",
        "# a = returns[ticker].loc[\"2020–01–03\":\"2020–07–01\"].dropna()\r\n",
        "# b = returns[ticker].loc[\"2019–01–03\":\"2019–07–01\"].dropna()\r\n",
        "# plt.figure(figsize = (10,7))\r\n",
        "# a.plot(kind=\"hist\", label=\"2020\", bins=50, alpha=0.5)\r\n",
        "# b.plot(kind=\"hist\", label=\"2019\", bins=12, alpha=0.5)\r\n",
        "# plt.title(\"Distribution of \" + ticker + \"returns\")\r\n",
        "# plt.xlabel(\"Daily Returns (%)\")\r\n",
        "# plt.legend()\r\n",
        "# plt.show()"
      ],
      "execution_count": 2,
      "outputs": []
    },
    {
      "cell_type": "code",
      "metadata": {
        "colab": {
          "base_uri": "https://localhost:8080/",
          "height": 542
        },
        "id": "ekZrmqG_qFiY",
        "outputId": "68783594-c57a-45df-bb41-2af1125417f7"
      },
      "source": [
        "fig = px.scatter(returns, x=returns.mean(), y=returns.std(), text=returns.columns, size_max=60, labels={\r\n",
        "                     \"x\": \"Daily Expected Returns (%)\",\r\n",
        "                     \"y\": \"Risk\",\r\n",
        "                 },\r\n",
        "                title=\"Stock Risk Vs Returns\")\r\n",
        "fig.update_xaxes(zeroline=True, zerolinewidth=2, zerolinecolor='Black')#, range=[-0.005, 0.01])\r\n",
        "fig.update_yaxes(zeroline=True, zerolinewidth=2, zerolinecolor='Black')#, range=[-0.01, 0.1])\r\n",
        "fig.update_traces(textposition='top center')\r\n",
        "fig.show()"
      ],
      "execution_count": null,
      "outputs": [
        {
          "output_type": "display_data",
          "data": {
            "text/html": [
              "<html>\n",
              "<head><meta charset=\"utf-8\" /></head>\n",
              "<body>\n",
              "    <div>\n",
              "            <script src=\"https://cdnjs.cloudflare.com/ajax/libs/mathjax/2.7.5/MathJax.js?config=TeX-AMS-MML_SVG\"></script><script type=\"text/javascript\">if (window.MathJax) {MathJax.Hub.Config({SVG: {font: \"STIX-Web\"}});}</script>\n",
              "                <script type=\"text/javascript\">window.PlotlyConfig = {MathJaxConfig: 'local'};</script>\n",
              "        <script src=\"https://cdn.plot.ly/plotly-latest.min.js\"></script>    \n",
              "            <div id=\"ac539c72-caeb-4c28-8a72-5ce15ec6d326\" class=\"plotly-graph-div\" style=\"height:525px; width:100%;\"></div>\n",
              "            <script type=\"text/javascript\">\n",
              "                \n",
              "                    window.PLOTLYENV=window.PLOTLYENV || {};\n",
              "                    \n",
              "                if (document.getElementById(\"ac539c72-caeb-4c28-8a72-5ce15ec6d326\")) {\n",
              "                    Plotly.newPlot(\n",
              "                        'ac539c72-caeb-4c28-8a72-5ce15ec6d326',\n",
              "                        [{\"hoverlabel\": {\"namelength\": 0}, \"hovertemplate\": \"Daily Expected Returns (%)=%{x}<br>Risk=%{y}<br>text=%{text}\", \"legendgroup\": \"\", \"marker\": {\"color\": \"#636efa\", \"symbol\": \"circle\"}, \"mode\": \"markers+text\", \"name\": \"\", \"showlegend\": false, \"text\": [\"CRM\", \"AMZN\", \"MSFT\", \"GOOGL\", \"IBM\"], \"textposition\": \"top center\", \"type\": \"scatter\", \"x\": [0.13574917858264457, 0.1548098289207194, 0.15898748263474857, 0.10471831472951261, 0.0062742610547239265], \"xaxis\": \"x\", \"y\": [2.4445665265097647, 2.084003262168843, 2.02277374443141, 1.9584832960265695, 1.9091156476612965], \"yaxis\": \"y\"}],\n",
              "                        {\"legend\": {\"tracegroupgap\": 0}, \"template\": {\"data\": {\"bar\": [{\"error_x\": {\"color\": \"#2a3f5f\"}, \"error_y\": {\"color\": \"#2a3f5f\"}, \"marker\": {\"line\": {\"color\": \"#E5ECF6\", \"width\": 0.5}}, \"type\": \"bar\"}], \"barpolar\": [{\"marker\": {\"line\": {\"color\": \"#E5ECF6\", \"width\": 0.5}}, \"type\": \"barpolar\"}], \"carpet\": [{\"aaxis\": {\"endlinecolor\": \"#2a3f5f\", \"gridcolor\": \"white\", \"linecolor\": \"white\", \"minorgridcolor\": \"white\", \"startlinecolor\": \"#2a3f5f\"}, \"baxis\": {\"endlinecolor\": \"#2a3f5f\", \"gridcolor\": \"white\", \"linecolor\": \"white\", \"minorgridcolor\": \"white\", \"startlinecolor\": \"#2a3f5f\"}, \"type\": \"carpet\"}], \"choropleth\": [{\"colorbar\": {\"outlinewidth\": 0, \"ticks\": \"\"}, \"type\": \"choropleth\"}], \"contour\": [{\"colorbar\": {\"outlinewidth\": 0, \"ticks\": \"\"}, \"colorscale\": [[0.0, \"#0d0887\"], [0.1111111111111111, \"#46039f\"], [0.2222222222222222, \"#7201a8\"], [0.3333333333333333, \"#9c179e\"], [0.4444444444444444, \"#bd3786\"], [0.5555555555555556, \"#d8576b\"], [0.6666666666666666, \"#ed7953\"], [0.7777777777777778, \"#fb9f3a\"], [0.8888888888888888, \"#fdca26\"], [1.0, \"#f0f921\"]], \"type\": \"contour\"}], \"contourcarpet\": [{\"colorbar\": {\"outlinewidth\": 0, \"ticks\": \"\"}, \"type\": \"contourcarpet\"}], \"heatmap\": [{\"colorbar\": {\"outlinewidth\": 0, \"ticks\": \"\"}, \"colorscale\": [[0.0, \"#0d0887\"], [0.1111111111111111, \"#46039f\"], [0.2222222222222222, \"#7201a8\"], [0.3333333333333333, \"#9c179e\"], [0.4444444444444444, \"#bd3786\"], [0.5555555555555556, \"#d8576b\"], [0.6666666666666666, \"#ed7953\"], [0.7777777777777778, \"#fb9f3a\"], [0.8888888888888888, \"#fdca26\"], [1.0, \"#f0f921\"]], \"type\": \"heatmap\"}], \"heatmapgl\": [{\"colorbar\": {\"outlinewidth\": 0, \"ticks\": \"\"}, \"colorscale\": [[0.0, \"#0d0887\"], [0.1111111111111111, \"#46039f\"], [0.2222222222222222, \"#7201a8\"], [0.3333333333333333, \"#9c179e\"], [0.4444444444444444, \"#bd3786\"], [0.5555555555555556, \"#d8576b\"], [0.6666666666666666, \"#ed7953\"], [0.7777777777777778, \"#fb9f3a\"], [0.8888888888888888, \"#fdca26\"], [1.0, \"#f0f921\"]], \"type\": \"heatmapgl\"}], \"histogram\": [{\"marker\": {\"colorbar\": {\"outlinewidth\": 0, \"ticks\": \"\"}}, \"type\": \"histogram\"}], \"histogram2d\": [{\"colorbar\": {\"outlinewidth\": 0, \"ticks\": \"\"}, \"colorscale\": [[0.0, \"#0d0887\"], [0.1111111111111111, \"#46039f\"], [0.2222222222222222, \"#7201a8\"], [0.3333333333333333, \"#9c179e\"], [0.4444444444444444, \"#bd3786\"], [0.5555555555555556, \"#d8576b\"], [0.6666666666666666, \"#ed7953\"], [0.7777777777777778, \"#fb9f3a\"], [0.8888888888888888, \"#fdca26\"], [1.0, \"#f0f921\"]], \"type\": \"histogram2d\"}], \"histogram2dcontour\": [{\"colorbar\": {\"outlinewidth\": 0, \"ticks\": \"\"}, \"colorscale\": [[0.0, \"#0d0887\"], [0.1111111111111111, \"#46039f\"], [0.2222222222222222, \"#7201a8\"], [0.3333333333333333, \"#9c179e\"], [0.4444444444444444, \"#bd3786\"], [0.5555555555555556, \"#d8576b\"], [0.6666666666666666, \"#ed7953\"], [0.7777777777777778, \"#fb9f3a\"], [0.8888888888888888, \"#fdca26\"], [1.0, \"#f0f921\"]], \"type\": \"histogram2dcontour\"}], \"mesh3d\": [{\"colorbar\": {\"outlinewidth\": 0, \"ticks\": \"\"}, \"type\": \"mesh3d\"}], \"parcoords\": [{\"line\": {\"colorbar\": {\"outlinewidth\": 0, \"ticks\": \"\"}}, \"type\": \"parcoords\"}], \"pie\": [{\"automargin\": true, \"type\": \"pie\"}], \"scatter\": [{\"marker\": {\"colorbar\": {\"outlinewidth\": 0, \"ticks\": \"\"}}, \"type\": \"scatter\"}], \"scatter3d\": [{\"line\": {\"colorbar\": {\"outlinewidth\": 0, \"ticks\": \"\"}}, \"marker\": {\"colorbar\": {\"outlinewidth\": 0, \"ticks\": \"\"}}, \"type\": \"scatter3d\"}], \"scattercarpet\": [{\"marker\": {\"colorbar\": {\"outlinewidth\": 0, \"ticks\": \"\"}}, \"type\": \"scattercarpet\"}], \"scattergeo\": [{\"marker\": {\"colorbar\": {\"outlinewidth\": 0, \"ticks\": \"\"}}, \"type\": \"scattergeo\"}], \"scattergl\": [{\"marker\": {\"colorbar\": {\"outlinewidth\": 0, \"ticks\": \"\"}}, \"type\": \"scattergl\"}], \"scattermapbox\": [{\"marker\": {\"colorbar\": {\"outlinewidth\": 0, \"ticks\": \"\"}}, \"type\": \"scattermapbox\"}], \"scatterpolar\": [{\"marker\": {\"colorbar\": {\"outlinewidth\": 0, \"ticks\": \"\"}}, \"type\": \"scatterpolar\"}], \"scatterpolargl\": [{\"marker\": {\"colorbar\": {\"outlinewidth\": 0, \"ticks\": \"\"}}, \"type\": \"scatterpolargl\"}], \"scatterternary\": [{\"marker\": {\"colorbar\": {\"outlinewidth\": 0, \"ticks\": \"\"}}, \"type\": \"scatterternary\"}], \"surface\": [{\"colorbar\": {\"outlinewidth\": 0, \"ticks\": \"\"}, \"colorscale\": [[0.0, \"#0d0887\"], [0.1111111111111111, \"#46039f\"], [0.2222222222222222, \"#7201a8\"], [0.3333333333333333, \"#9c179e\"], [0.4444444444444444, \"#bd3786\"], [0.5555555555555556, \"#d8576b\"], [0.6666666666666666, \"#ed7953\"], [0.7777777777777778, \"#fb9f3a\"], [0.8888888888888888, \"#fdca26\"], [1.0, \"#f0f921\"]], \"type\": \"surface\"}], \"table\": [{\"cells\": {\"fill\": {\"color\": \"#EBF0F8\"}, \"line\": {\"color\": \"white\"}}, \"header\": {\"fill\": {\"color\": \"#C8D4E3\"}, \"line\": {\"color\": \"white\"}}, \"type\": \"table\"}]}, \"layout\": {\"annotationdefaults\": {\"arrowcolor\": \"#2a3f5f\", \"arrowhead\": 0, \"arrowwidth\": 1}, \"coloraxis\": {\"colorbar\": {\"outlinewidth\": 0, \"ticks\": \"\"}}, \"colorscale\": {\"diverging\": [[0, \"#8e0152\"], [0.1, \"#c51b7d\"], [0.2, \"#de77ae\"], [0.3, \"#f1b6da\"], [0.4, \"#fde0ef\"], [0.5, \"#f7f7f7\"], [0.6, \"#e6f5d0\"], [0.7, \"#b8e186\"], [0.8, \"#7fbc41\"], [0.9, \"#4d9221\"], [1, \"#276419\"]], \"sequential\": [[0.0, \"#0d0887\"], [0.1111111111111111, \"#46039f\"], [0.2222222222222222, \"#7201a8\"], [0.3333333333333333, \"#9c179e\"], [0.4444444444444444, \"#bd3786\"], [0.5555555555555556, \"#d8576b\"], [0.6666666666666666, \"#ed7953\"], [0.7777777777777778, \"#fb9f3a\"], [0.8888888888888888, \"#fdca26\"], [1.0, \"#f0f921\"]], \"sequentialminus\": [[0.0, \"#0d0887\"], [0.1111111111111111, \"#46039f\"], [0.2222222222222222, \"#7201a8\"], [0.3333333333333333, \"#9c179e\"], [0.4444444444444444, \"#bd3786\"], [0.5555555555555556, \"#d8576b\"], [0.6666666666666666, \"#ed7953\"], [0.7777777777777778, \"#fb9f3a\"], [0.8888888888888888, \"#fdca26\"], [1.0, \"#f0f921\"]]}, \"colorway\": [\"#636efa\", \"#EF553B\", \"#00cc96\", \"#ab63fa\", \"#FFA15A\", \"#19d3f3\", \"#FF6692\", \"#B6E880\", \"#FF97FF\", \"#FECB52\"], \"font\": {\"color\": \"#2a3f5f\"}, \"geo\": {\"bgcolor\": \"white\", \"lakecolor\": \"white\", \"landcolor\": \"#E5ECF6\", \"showlakes\": true, \"showland\": true, \"subunitcolor\": \"white\"}, \"hoverlabel\": {\"align\": \"left\"}, \"hovermode\": \"closest\", \"mapbox\": {\"style\": \"light\"}, \"paper_bgcolor\": \"white\", \"plot_bgcolor\": \"#E5ECF6\", \"polar\": {\"angularaxis\": {\"gridcolor\": \"white\", \"linecolor\": \"white\", \"ticks\": \"\"}, \"bgcolor\": \"#E5ECF6\", \"radialaxis\": {\"gridcolor\": \"white\", \"linecolor\": \"white\", \"ticks\": \"\"}}, \"scene\": {\"xaxis\": {\"backgroundcolor\": \"#E5ECF6\", \"gridcolor\": \"white\", \"gridwidth\": 2, \"linecolor\": \"white\", \"showbackground\": true, \"ticks\": \"\", \"zerolinecolor\": \"white\"}, \"yaxis\": {\"backgroundcolor\": \"#E5ECF6\", \"gridcolor\": \"white\", \"gridwidth\": 2, \"linecolor\": \"white\", \"showbackground\": true, \"ticks\": \"\", \"zerolinecolor\": \"white\"}, \"zaxis\": {\"backgroundcolor\": \"#E5ECF6\", \"gridcolor\": \"white\", \"gridwidth\": 2, \"linecolor\": \"white\", \"showbackground\": true, \"ticks\": \"\", \"zerolinecolor\": \"white\"}}, \"shapedefaults\": {\"line\": {\"color\": \"#2a3f5f\"}}, \"ternary\": {\"aaxis\": {\"gridcolor\": \"white\", \"linecolor\": \"white\", \"ticks\": \"\"}, \"baxis\": {\"gridcolor\": \"white\", \"linecolor\": \"white\", \"ticks\": \"\"}, \"bgcolor\": \"#E5ECF6\", \"caxis\": {\"gridcolor\": \"white\", \"linecolor\": \"white\", \"ticks\": \"\"}}, \"title\": {\"x\": 0.05}, \"xaxis\": {\"automargin\": true, \"gridcolor\": \"white\", \"linecolor\": \"white\", \"ticks\": \"\", \"title\": {\"standoff\": 15}, \"zerolinecolor\": \"white\", \"zerolinewidth\": 2}, \"yaxis\": {\"automargin\": true, \"gridcolor\": \"white\", \"linecolor\": \"white\", \"ticks\": \"\", \"title\": {\"standoff\": 15}, \"zerolinecolor\": \"white\", \"zerolinewidth\": 2}}}, \"title\": {\"text\": \"Stock Risk Vs Returns\"}, \"xaxis\": {\"anchor\": \"y\", \"domain\": [0.0, 1.0], \"title\": {\"text\": \"Daily Expected Returns (%)\"}, \"zeroline\": true, \"zerolinecolor\": \"Black\", \"zerolinewidth\": 2}, \"yaxis\": {\"anchor\": \"x\", \"domain\": [0.0, 1.0], \"title\": {\"text\": \"Risk\"}, \"zeroline\": true, \"zerolinecolor\": \"Black\", \"zerolinewidth\": 2}},\n",
              "                        {\"responsive\": true}\n",
              "                    ).then(function(){\n",
              "                            \n",
              "var gd = document.getElementById('ac539c72-caeb-4c28-8a72-5ce15ec6d326');\n",
              "var x = new MutationObserver(function (mutations, observer) {{\n",
              "        var display = window.getComputedStyle(gd).display;\n",
              "        if (!display || display === 'none') {{\n",
              "            console.log([gd, 'removed!']);\n",
              "            Plotly.purge(gd);\n",
              "            observer.disconnect();\n",
              "        }}\n",
              "}});\n",
              "\n",
              "// Listen for the removal of the full notebook cells\n",
              "var notebookContainer = gd.closest('#notebook-container');\n",
              "if (notebookContainer) {{\n",
              "    x.observe(notebookContainer, {childList: true});\n",
              "}}\n",
              "\n",
              "// Listen for the clearing of the current output cell\n",
              "var outputEl = gd.closest('.output');\n",
              "if (outputEl) {{\n",
              "    x.observe(outputEl, {childList: true});\n",
              "}}\n",
              "\n",
              "                        })\n",
              "                };\n",
              "                \n",
              "            </script>\n",
              "        </div>\n",
              "</body>\n",
              "</html>"
            ]
          },
          "metadata": {
            "tags": []
          }
        }
      ]
    },
    {
      "cell_type": "code",
      "metadata": {
        "id": "b-leJSNFwLxV"
      },
      "source": [
        ""
      ],
      "execution_count": null,
      "outputs": []
    }
  ]
}